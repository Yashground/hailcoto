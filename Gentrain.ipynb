{
 "cells": [
  {
   "cell_type": "code",
   "execution_count": null,
   "metadata": {},
   "outputs": [
    {
     "name": "stdout",
     "output_type": "stream",
     "text": [
      "     Product    Category  Price Weight  Available                  ExpiresAt\n",
      "0      Bread       Fruit   3.64   100g        132 2025-08-31 22:54:00.649823\n",
      "1  Cucumbers        Meat   8.54   500g        136 2025-06-29 22:54:00.649823\n",
      "2   Tomatoes       Fruit  19.24  1000g         32 2025-06-14 22:54:00.649823\n",
      "3    Carrots       Dairy   0.91   100g         99 2024-12-26 22:54:00.649823\n",
      "4  Cucumbers  Vegetables   0.65  1000g         91 2024-10-17 22:54:00.649823\n"
     ]
    }
   ],
   "source": [
    "import pandas as pd\n",
    "import random\n",
    "from datetime import datetime, timedelta\n",
    "\n",
    "# List of products and categories\n",
    "products = ['Tomatoes', 'Lemons', 'Cucumbers', 'Milk', 'Cheese', 'Chicken', 'Bread', 'Carrots']\n",
    "categories = ['Fruit', 'Vegetables', 'Dairy', 'Meat', 'Bakery']\n",
    "\n",
    "# Function to generate random data\n",
    "def generate_fake_data(num_rows):\n",
    "    data = []\n",
    "    for _ in range(num_rows):\n",
    "        product = random.choice(products)\n",
    "        category = random.choice(categories)\n",
    "        price = round(random.uniform(0.5, 20), 2)\n",
    "        weight = random.choice([100, 250, 500, 1000])  # in grams\n",
    "        available = random.randint(1, 200)\n",
    "        expiresAt = datetime.now() + timedelta(days=random.randint(1, 365))\n",
    "        data.append([product, category, price, f\"{weight}g\", available, expiresAt])\n",
    "    return pd.DataFrame(data, columns=['Product', 'Category', 'Price', 'Weight', 'Available', 'ExpiresAt'])\n",
    "\n",
    "# Generate 1000 rows of fake data\n",
    "fake_data = generate_fake_data(1000)\n",
    "print(fake_data.head())\n",
    "# Save the fake data as a CSV file\n",
    "fake_data.to_csv('fake_data.csv', index=False)"
   ]
  },
  {
   "cell_type": "code",
   "execution_count": null,
   "metadata": {},
   "outputs": [
    {
     "name": "stdout",
     "output_type": "stream",
     "text": [
      "Data saved to 'fake_data.json'\n"
     ]
    }
   ],
   "source": [
    "import pandas as pd\n",
    "import random\n",
    "from datetime import datetime, timedelta\n",
    "import json\n",
    "\n",
    "# List of products with pre-defined IDs, names, weights, and packaging units\n",
    "products = [\n",
    "    {\"id\": \"8376291\", \"name\": \"Organic Cherry Tomatoes\", \"weight\": \"250g\", \"packagingUnit\": \"punnet\"},\n",
    "    {\"id\": \"5728364\", \"name\": \"Sweet Potatoes\", \"weight\": \"1kg\", \"packagingUnit\": \"bag\"},\n",
    "    {\"id\": \"9126483\", \"name\": \"Broccoli Florets\", \"weight\": \"400g\", \"packagingUnit\": \"bag\"},\n",
    "    {\"id\": \"4537281\", \"name\": \"Red Bell Peppers\", \"weight\": \"500g\", \"packagingUnit\": \"each\"},\n",
    "    {\"id\": \"1928374\", \"name\": \"Baby Spinach\", \"weight\": \"150g\", \"packagingUnit\": \"bag\"},\n",
    "    {\"id\": \"6273849\", \"name\": \"White Onions\", \"weight\": \"1kg\", \"packagingUnit\": \"bag\"},\n",
    "    {\"id\": \"3847295\", \"name\": \"Carrots\", \"weight\": \"1kg\", \"packagingUnit\": \"bag\"},\n",
    "    {\"id\": \"7129384\", \"name\": \"Garlic Bulb\", \"weight\": \"100g\", \"packagingUnit\": \"each\"},\n",
    "    {\"id\": \"2938475\", \"name\": \"Green Zucchini\", \"weight\": \"500g\", \"packagingUnit\": \"each\"},\n",
    "    {\"id\": \"8472931\", \"name\": \"Asparagus\", \"weight\": \"250g\", \"packagingUnit\": \"bunch\"},\n",
    "    # Add more products as needed\n",
    "]\n",
    "\n",
    "# Function to generate random data\n",
    "def generate_fake_data(num_rows):\n",
    "    data = []\n",
    "    for _ in range(num_rows):\n",
    "        product = random.choice(products)\n",
    "        price = round(random.uniform(0.5, 20), 2)\n",
    "        available = random.randint(1, 200)\n",
    "        expiresAt = (datetime.now() + timedelta(days=random.randint(1, 365))).strftime('%Y-%m-%d')\n",
    "        \n",
    "        # Create dictionary for each product in the desired format\n",
    "        item = {\n",
    "            \"id\": product['id'],\n",
    "            \"name\": product['name'],\n",
    "            \"expiresAt\": expiresAt,\n",
    "            \"price\": price,\n",
    "            \"weight\": product['weight'],\n",
    "            \"packagingUnit\": product['packagingUnit'],\n",
    "            \"available\": available\n",
    "        }\n",
    "        data.append(item)\n",
    "    return data\n",
    "\n",
    "# Generate 100 rows of fake data\n",
    "fake_data = generate_fake_data(1000)\n",
    "\n",
    "# Save the data as a JSON file\n",
    "with open('fake_data.json', 'w') as f:\n",
    "    json.dump(fake_data, f, indent=4)\n",
    "\n",
    "print(\"Data saved to 'fake_data.json'\")\n"
   ]
  },
  {
   "cell_type": "code",
   "execution_count": null,
   "metadata": {},
   "outputs": [
    {
     "name": "stdout",
     "output_type": "stream",
     "text": [
      "['app', 'env_name', 'fake_data.csv', 'fake_data.json', 'node_modules', 'package-lock.json', 'package.json']\n"
     ]
    }
   ],
   "source": [
    "import os\n",
    "print(os.listdir('.'))\n"
   ]
  },
  {
   "cell_type": "code",
   "execution_count": null,
   "metadata": {},
   "outputs": [],
   "source": [
    "# Import necessary libraries\n",
    "import pandas as pd\n",
    "import numpy as np\n",
    "from datetime import datetime\n",
    "\n"
   ]
  },
  {
   "cell_type": "code",
   "execution_count": null,
   "metadata": {},
   "outputs": [
    {
     "data": {
      "text/html": [
       "<div>\n",
       "<style scoped>\n",
       "    .dataframe tbody tr th:only-of-type {\n",
       "        vertical-align: middle;\n",
       "    }\n",
       "\n",
       "    .dataframe tbody tr th {\n",
       "        vertical-align: top;\n",
       "    }\n",
       "\n",
       "    .dataframe thead th {\n",
       "        text-align: right;\n",
       "    }\n",
       "</style>\n",
       "<table border=\"1\" class=\"dataframe\">\n",
       "  <thead>\n",
       "    <tr style=\"text-align: right;\">\n",
       "      <th></th>\n",
       "      <th>id</th>\n",
       "      <th>name</th>\n",
       "      <th>expiresAt</th>\n",
       "      <th>price</th>\n",
       "      <th>weight</th>\n",
       "      <th>packagingUnit</th>\n",
       "      <th>available</th>\n",
       "    </tr>\n",
       "  </thead>\n",
       "  <tbody>\n",
       "    <tr>\n",
       "      <th>0</th>\n",
       "      <td>8376291</td>\n",
       "      <td>Organic Cherry Tomatoes</td>\n",
       "      <td>2024-09-23</td>\n",
       "      <td>2.99</td>\n",
       "      <td>250g</td>\n",
       "      <td>punnet</td>\n",
       "      <td>48</td>\n",
       "    </tr>\n",
       "    <tr>\n",
       "      <th>1</th>\n",
       "      <td>5728364</td>\n",
       "      <td>Sweet Potatoes</td>\n",
       "      <td>2024-10-15</td>\n",
       "      <td>1.79</td>\n",
       "      <td>1kg</td>\n",
       "      <td>bag</td>\n",
       "      <td>23</td>\n",
       "    </tr>\n",
       "    <tr>\n",
       "      <th>2</th>\n",
       "      <td>9126483</td>\n",
       "      <td>Broccoli Florets</td>\n",
       "      <td>2024-09-18</td>\n",
       "      <td>2.49</td>\n",
       "      <td>400g</td>\n",
       "      <td>bag</td>\n",
       "      <td>17</td>\n",
       "    </tr>\n",
       "    <tr>\n",
       "      <th>3</th>\n",
       "      <td>4537281</td>\n",
       "      <td>Red Bell Peppers</td>\n",
       "      <td>2024-12-02</td>\n",
       "      <td>1.29</td>\n",
       "      <td>500g</td>\n",
       "      <td>each</td>\n",
       "      <td>62</td>\n",
       "    </tr>\n",
       "    <tr>\n",
       "      <th>4</th>\n",
       "      <td>1928374</td>\n",
       "      <td>Baby Spinach</td>\n",
       "      <td>2024-09-27</td>\n",
       "      <td>3.99</td>\n",
       "      <td>150g</td>\n",
       "      <td>bag</td>\n",
       "      <td>8</td>\n",
       "    </tr>\n",
       "  </tbody>\n",
       "</table>\n",
       "</div>"
      ],
      "text/plain": [
       "        id                     name   expiresAt  price weight packagingUnit  \\\n",
       "0  8376291  Organic Cherry Tomatoes  2024-09-23   2.99   250g        punnet   \n",
       "1  5728364           Sweet Potatoes  2024-10-15   1.79    1kg           bag   \n",
       "2  9126483         Broccoli Florets  2024-09-18   2.49   400g           bag   \n",
       "3  4537281         Red Bell Peppers  2024-12-02   1.29   500g          each   \n",
       "4  1928374             Baby Spinach  2024-09-27   3.99   150g           bag   \n",
       "\n",
       "   available  \n",
       "0         48  \n",
       "1         23  \n",
       "2         17  \n",
       "3         62  \n",
       "4          8  "
      ]
     },
     "execution_count": 5,
     "metadata": {},
     "output_type": "execute_result"
    }
   ],
   "source": [
    "# Load the JSON file into a pandas DataFrame\n",
    "file_path = 'fake_data.json'  # Adjust the path if needed\n",
    "fake_data = pd.read_json(file_path)\n",
    "\n",
    "# View the first few rows of the dataset\n",
    "fake_data.head()\n"
   ]
  },
  {
   "cell_type": "code",
   "execution_count": null,
   "metadata": {},
   "outputs": [
    {
     "name": "stdout",
     "output_type": "stream",
     "text": [
      "id                        int64\n",
      "name                     object\n",
      "expiresAt        datetime64[ns]\n",
      "price                   float64\n",
      "weight                   object\n",
      "packagingUnit            object\n",
      "available                 int64\n",
      "dtype: object\n"
     ]
    }
   ],
   "source": [
    "# Convert 'expiresAt' to datetime format\n",
    "fake_data['expiresAt'] = pd.to_datetime(fake_data['expiresAt'])\n",
    "\n",
    "# Verify the conversion\n",
    "print(fake_data.dtypes)\n"
   ]
  },
  {
   "cell_type": "code",
   "execution_count": null,
   "metadata": {},
   "outputs": [
    {
     "data": {
      "text/html": [
       "<div>\n",
       "<style scoped>\n",
       "    .dataframe tbody tr th:only-of-type {\n",
       "        vertical-align: middle;\n",
       "    }\n",
       "\n",
       "    .dataframe tbody tr th {\n",
       "        vertical-align: top;\n",
       "    }\n",
       "\n",
       "    .dataframe thead th {\n",
       "        text-align: right;\n",
       "    }\n",
       "</style>\n",
       "<table border=\"1\" class=\"dataframe\">\n",
       "  <thead>\n",
       "    <tr style=\"text-align: right;\">\n",
       "      <th></th>\n",
       "      <th>name</th>\n",
       "      <th>expiresAt</th>\n",
       "      <th>days_until_expiry</th>\n",
       "    </tr>\n",
       "  </thead>\n",
       "  <tbody>\n",
       "    <tr>\n",
       "      <th>0</th>\n",
       "      <td>Organic Cherry Tomatoes</td>\n",
       "      <td>2024-09-23</td>\n",
       "      <td>16</td>\n",
       "    </tr>\n",
       "    <tr>\n",
       "      <th>1</th>\n",
       "      <td>Sweet Potatoes</td>\n",
       "      <td>2024-10-15</td>\n",
       "      <td>38</td>\n",
       "    </tr>\n",
       "    <tr>\n",
       "      <th>2</th>\n",
       "      <td>Broccoli Florets</td>\n",
       "      <td>2024-09-18</td>\n",
       "      <td>11</td>\n",
       "    </tr>\n",
       "    <tr>\n",
       "      <th>3</th>\n",
       "      <td>Red Bell Peppers</td>\n",
       "      <td>2024-12-02</td>\n",
       "      <td>86</td>\n",
       "    </tr>\n",
       "    <tr>\n",
       "      <th>4</th>\n",
       "      <td>Baby Spinach</td>\n",
       "      <td>2024-09-27</td>\n",
       "      <td>20</td>\n",
       "    </tr>\n",
       "  </tbody>\n",
       "</table>\n",
       "</div>"
      ],
      "text/plain": [
       "                      name  expiresAt  days_until_expiry\n",
       "0  Organic Cherry Tomatoes 2024-09-23                 16\n",
       "1           Sweet Potatoes 2024-10-15                 38\n",
       "2         Broccoli Florets 2024-09-18                 11\n",
       "3         Red Bell Peppers 2024-12-02                 86\n",
       "4             Baby Spinach 2024-09-27                 20"
      ]
     },
     "execution_count": 7,
     "metadata": {},
     "output_type": "execute_result"
    }
   ],
   "source": [
    "# Calculate 'days_until_expiry'\n",
    "fake_data['days_until_expiry'] = (fake_data['expiresAt'] - datetime.now()).dt.days\n",
    "\n",
    "# Check the updated DataFrame\n",
    "fake_data[['name', 'expiresAt', 'days_until_expiry']].head()\n"
   ]
  },
  {
   "cell_type": "code",
   "execution_count": null,
   "metadata": {},
   "outputs": [
    {
     "name": "stdout",
     "output_type": "stream",
     "text": [
      "id                   0\n",
      "name                 0\n",
      "expiresAt            0\n",
      "price                0\n",
      "weight               0\n",
      "packagingUnit        0\n",
      "available            0\n",
      "days_until_expiry    0\n",
      "dtype: int64\n"
     ]
    }
   ],
   "source": [
    "# Check for missing values\n",
    "print(fake_data.isnull().sum())\n",
    "\n",
    "# If there are missing values, handle them (e.g., drop or fill with median/mean)\n",
    "# fake_data = fake_data.dropna()  # Option 1: Drop missing rows\n",
    "# fake_data['available'] = fake_data['available'].fillna(fake_data['available'].median())  # Option 2: Fill with median\n"
   ]
  },
  {
   "cell_type": "code",
   "execution_count": null,
   "metadata": {},
   "outputs": [
    {
     "ename": "ModuleNotFoundError",
     "evalue": "No module named 'matplotlib'",
     "output_type": "error",
     "traceback": [
      "\u001b[1;31m---------------------------------------------------------------------------\u001b[0m",
      "\u001b[1;31mModuleNotFoundError\u001b[0m                       Traceback (most recent call last)",
      "Cell \u001b[1;32mIn[9], line 1\u001b[0m\n\u001b[1;32m----> 1\u001b[0m \u001b[39mimport\u001b[39;00m \u001b[39mmatplotlib\u001b[39;00m\u001b[39m.\u001b[39;00m\u001b[39mpyplot\u001b[39;00m \u001b[39mas\u001b[39;00m \u001b[39mplt\u001b[39;00m\n\u001b[0;32m      2\u001b[0m \u001b[39mimport\u001b[39;00m \u001b[39mseaborn\u001b[39;00m \u001b[39mas\u001b[39;00m \u001b[39msns\u001b[39;00m\n\u001b[0;32m      4\u001b[0m \u001b[39m# Distribution of 'days_until_expiry'\u001b[39;00m\n",
      "\u001b[1;31mModuleNotFoundError\u001b[0m: No module named 'matplotlib'"
     ]
    }
   ],
   "source": [
    "import matplotlib.pyplot as plt\n",
    "import seaborn as sns\n",
    "\n",
    "# Distribution of 'days_until_expiry'\n",
    "sns.histplot(fake_data['days_until_expiry'], bins=30)\n",
    "plt.title('Distribution of Days Until Expiry')\n",
    "plt.xlabel('Days Until Expiry')\n",
    "plt.ylabel('Frequency')\n",
    "plt.show()\n"
   ]
  },
  {
   "cell_type": "code",
   "execution_count": null,
   "metadata": {},
   "outputs": [
    {
     "name": "stdout",
     "output_type": "stream",
     "text": [
      "Defaulting to user installation because normal site-packages is not writeable\n",
      "Collecting matplotlib\n",
      "  Downloading matplotlib-3.9.2-cp312-cp312-win_amd64.whl.metadata (11 kB)\n",
      "Collecting seaborn\n",
      "  Downloading seaborn-0.13.2-py3-none-any.whl.metadata (5.4 kB)\n",
      "Collecting contourpy>=1.0.1 (from matplotlib)\n",
      "  Downloading contourpy-1.3.0-cp312-cp312-win_amd64.whl.metadata (5.4 kB)\n",
      "Collecting cycler>=0.10 (from matplotlib)\n",
      "  Downloading cycler-0.12.1-py3-none-any.whl.metadata (3.8 kB)\n",
      "Collecting fonttools>=4.22.0 (from matplotlib)\n",
      "  Downloading fonttools-4.53.1-cp312-cp312-win_amd64.whl.metadata (165 kB)\n",
      "Collecting kiwisolver>=1.3.1 (from matplotlib)\n",
      "  Downloading kiwisolver-1.4.7-cp312-cp312-win_amd64.whl.metadata (6.4 kB)\n",
      "Requirement already satisfied: numpy>=1.23 in c:\\users\\srisa\\appdata\\local\\packages\\pythonsoftwarefoundation.python.3.12_qbz5n2kfra8p0\\localcache\\local-packages\\python312\\site-packages (from matplotlib) (1.26.4)\n",
      "Requirement already satisfied: packaging>=20.0 in c:\\users\\srisa\\appdata\\local\\packages\\pythonsoftwarefoundation.python.3.12_qbz5n2kfra8p0\\localcache\\local-packages\\python312\\site-packages (from matplotlib) (24.1)\n",
      "Requirement already satisfied: pillow>=8 in c:\\users\\srisa\\appdata\\local\\packages\\pythonsoftwarefoundation.python.3.12_qbz5n2kfra8p0\\localcache\\local-packages\\python312\\site-packages (from matplotlib) (10.4.0)\n",
      "Collecting pyparsing>=2.3.1 (from matplotlib)\n",
      "  Downloading pyparsing-3.1.4-py3-none-any.whl.metadata (5.1 kB)\n",
      "Requirement already satisfied: python-dateutil>=2.7 in c:\\users\\srisa\\appdata\\local\\packages\\pythonsoftwarefoundation.python.3.12_qbz5n2kfra8p0\\localcache\\local-packages\\python312\\site-packages (from matplotlib) (2.9.0.post0)\n",
      "Requirement already satisfied: pandas>=1.2 in c:\\users\\srisa\\appdata\\local\\packages\\pythonsoftwarefoundation.python.3.12_qbz5n2kfra8p0\\localcache\\local-packages\\python312\\site-packages (from seaborn) (2.2.2)\n",
      "Requirement already satisfied: pytz>=2020.1 in c:\\users\\srisa\\appdata\\local\\packages\\pythonsoftwarefoundation.python.3.12_qbz5n2kfra8p0\\localcache\\local-packages\\python312\\site-packages (from pandas>=1.2->seaborn) (2024.1)\n",
      "Requirement already satisfied: tzdata>=2022.7 in c:\\users\\srisa\\appdata\\local\\packages\\pythonsoftwarefoundation.python.3.12_qbz5n2kfra8p0\\localcache\\local-packages\\python312\\site-packages (from pandas>=1.2->seaborn) (2024.1)\n",
      "Requirement already satisfied: six>=1.5 in c:\\users\\srisa\\appdata\\local\\packages\\pythonsoftwarefoundation.python.3.12_qbz5n2kfra8p0\\localcache\\local-packages\\python312\\site-packages (from python-dateutil>=2.7->matplotlib) (1.16.0)\n",
      "Downloading matplotlib-3.9.2-cp312-cp312-win_amd64.whl (7.8 MB)\n",
      "   ---------------------------------------- 0.0/7.8 MB ? eta -:--:--\n",
      "   ------ --------------------------------- 1.3/7.8 MB 6.1 MB/s eta 0:00:02\n",
      "   -------------- ------------------------- 2.9/7.8 MB 8.4 MB/s eta 0:00:01\n",
      "   -------------------- ------------------- 3.9/7.8 MB 7.3 MB/s eta 0:00:01\n",
      "   -------------------------- ------------- 5.2/7.8 MB 6.4 MB/s eta 0:00:01\n",
      "   ------------------------------------- -- 7.3/7.8 MB 7.2 MB/s eta 0:00:01\n",
      "   ---------------------------------------- 7.8/7.8 MB 7.1 MB/s eta 0:00:00\n",
      "Downloading seaborn-0.13.2-py3-none-any.whl (294 kB)\n",
      "Downloading contourpy-1.3.0-cp312-cp312-win_amd64.whl (218 kB)\n",
      "Downloading cycler-0.12.1-py3-none-any.whl (8.3 kB)\n",
      "Downloading fonttools-4.53.1-cp312-cp312-win_amd64.whl (2.2 MB)\n",
      "   ---------------------------------------- 0.0/2.2 MB ? eta -:--:--\n",
      "   ----------------------- ---------------- 1.3/2.2 MB 7.4 MB/s eta 0:00:01\n",
      "   ---------------------------------------- 2.2/2.2 MB 5.6 MB/s eta 0:00:00\n",
      "Downloading kiwisolver-1.4.7-cp312-cp312-win_amd64.whl (55 kB)\n",
      "Downloading pyparsing-3.1.4-py3-none-any.whl (104 kB)\n",
      "Installing collected packages: pyparsing, kiwisolver, fonttools, cycler, contourpy, matplotlib, seaborn\n",
      "Successfully installed contourpy-1.3.0 cycler-0.12.1 fonttools-4.53.1 kiwisolver-1.4.7 matplotlib-3.9.2 pyparsing-3.1.4 seaborn-0.13.2\n"
     ]
    }
   ],
   "source": [
    "!pip install matplotlib seaborn\n"
   ]
  },
  {
   "cell_type": "code",
   "execution_count": null,
   "metadata": {},
   "outputs": [
    {
     "data": {
      "image/png": "[encoded data removed]",
      "text/plain": [
       "<Figure size 640x480 with 1 Axes>"
      ]
     },
     "metadata": {},
     "output_type": "display_data"
    }
   ],
   "source": [
    "import matplotlib.pyplot as plt\n",
    "import seaborn as sns\n",
    "\n",
    "# Distribution of 'days_until_expiry'\n",
    "sns.histplot(fake_data['days_until_expiry'], bins=30)\n",
    "plt.title('Distribution of Days Until Expiry')\n",
    "plt.xlabel('Days Until Expiry')\n",
    "plt.ylabel('Frequency')\n",
    "plt.show()"
   ]
  },
  {
   "cell_type": "code",
   "execution_count": null,
   "metadata": {},
   "outputs": [
    {
     "data": {
      "text/html": [
       "<div>\n",
       "<style scoped>\n",
       "    .dataframe tbody tr th:only-of-type {\n",
       "        vertical-align: middle;\n",
       "    }\n",
       "\n",
       "    .dataframe tbody tr th {\n",
       "        vertical-align: top;\n",
       "    }\n",
       "\n",
       "    .dataframe thead th {\n",
       "        text-align: right;\n",
       "    }\n",
       "</style>\n",
       "<table border=\"1\" class=\"dataframe\">\n",
       "  <thead>\n",
       "    <tr style=\"text-align: right;\">\n",
       "      <th></th>\n",
       "      <th>price</th>\n",
       "      <th>available</th>\n",
       "      <th>days_until_expiry</th>\n",
       "      <th>name_Adzuki Beans, Organic, 500g</th>\n",
       "      <th>name_Almond Milk, Unsweetened</th>\n",
       "      <th>name_Almonds Sliced Blanched 200g</th>\n",
       "      <th>name_Apple Pie Spice</th>\n",
       "      <th>name_Applewood Smoked Bacon</th>\n",
       "      <th>name_Apricots</th>\n",
       "      <th>name_Arugula</th>\n",
       "      <th>...</th>\n",
       "      <th>packagingUnit_can</th>\n",
       "      <th>packagingUnit_each</th>\n",
       "      <th>packagingUnit_grinder</th>\n",
       "      <th>packagingUnit_jar</th>\n",
       "      <th>packagingUnit_kg</th>\n",
       "      <th>packagingUnit_pack</th>\n",
       "      <th>packagingUnit_pcs</th>\n",
       "      <th>packagingUnit_piece</th>\n",
       "      <th>packagingUnit_pouch</th>\n",
       "      <th>packagingUnit_punnet</th>\n",
       "    </tr>\n",
       "  </thead>\n",
       "  <tbody>\n",
       "    <tr>\n",
       "      <th>0</th>\n",
       "      <td>2.99</td>\n",
       "      <td>48</td>\n",
       "      <td>16</td>\n",
       "      <td>False</td>\n",
       "      <td>False</td>\n",
       "      <td>False</td>\n",
       "      <td>False</td>\n",
       "      <td>False</td>\n",
       "      <td>False</td>\n",
       "      <td>False</td>\n",
       "      <td>...</td>\n",
       "      <td>False</td>\n",
       "      <td>False</td>\n",
       "      <td>False</td>\n",
       "      <td>False</td>\n",
       "      <td>False</td>\n",
       "      <td>False</td>\n",
       "      <td>False</td>\n",
       "      <td>False</td>\n",
       "      <td>False</td>\n",
       "      <td>True</td>\n",
       "    </tr>\n",
       "    <tr>\n",
       "      <th>1</th>\n",
       "      <td>1.79</td>\n",
       "      <td>23</td>\n",
       "      <td>38</td>\n",
       "      <td>False</td>\n",
       "      <td>False</td>\n",
       "      <td>False</td>\n",
       "      <td>False</td>\n",
       "      <td>False</td>\n",
       "      <td>False</td>\n",
       "      <td>False</td>\n",
       "      <td>...</td>\n",
       "      <td>False</td>\n",
       "      <td>False</td>\n",
       "      <td>False</td>\n",
       "      <td>False</td>\n",
       "      <td>False</td>\n",
       "      <td>False</td>\n",
       "      <td>False</td>\n",
       "      <td>False</td>\n",
       "      <td>False</td>\n",
       "      <td>False</td>\n",
       "    </tr>\n",
       "    <tr>\n",
       "      <th>2</th>\n",
       "      <td>2.49</td>\n",
       "      <td>17</td>\n",
       "      <td>11</td>\n",
       "      <td>False</td>\n",
       "      <td>False</td>\n",
       "      <td>False</td>\n",
       "      <td>False</td>\n",
       "      <td>False</td>\n",
       "      <td>False</td>\n",
       "      <td>False</td>\n",
       "      <td>...</td>\n",
       "      <td>False</td>\n",
       "      <td>False</td>\n",
       "      <td>False</td>\n",
       "      <td>False</td>\n",
       "      <td>False</td>\n",
       "      <td>False</td>\n",
       "      <td>False</td>\n",
       "      <td>False</td>\n",
       "      <td>False</td>\n",
       "      <td>False</td>\n",
       "    </tr>\n",
       "    <tr>\n",
       "      <th>3</th>\n",
       "      <td>1.29</td>\n",
       "      <td>62</td>\n",
       "      <td>86</td>\n",
       "      <td>False</td>\n",
       "      <td>False</td>\n",
       "      <td>False</td>\n",
       "      <td>False</td>\n",
       "      <td>False</td>\n",
       "      <td>False</td>\n",
       "      <td>False</td>\n",
       "      <td>...</td>\n",
       "      <td>False</td>\n",
       "      <td>True</td>\n",
       "      <td>False</td>\n",
       "      <td>False</td>\n",
       "      <td>False</td>\n",
       "      <td>False</td>\n",
       "      <td>False</td>\n",
       "      <td>False</td>\n",
       "      <td>False</td>\n",
       "      <td>False</td>\n",
       "    </tr>\n",
       "    <tr>\n",
       "      <th>4</th>\n",
       "      <td>3.99</td>\n",
       "      <td>8</td>\n",
       "      <td>20</td>\n",
       "      <td>False</td>\n",
       "      <td>False</td>\n",
       "      <td>False</td>\n",
       "      <td>False</td>\n",
       "      <td>False</td>\n",
       "      <td>False</td>\n",
       "      <td>False</td>\n",
       "      <td>...</td>\n",
       "      <td>False</td>\n",
       "      <td>False</td>\n",
       "      <td>False</td>\n",
       "      <td>False</td>\n",
       "      <td>False</td>\n",
       "      <td>False</td>\n",
       "      <td>False</td>\n",
       "      <td>False</td>\n",
       "      <td>False</td>\n",
       "      <td>False</td>\n",
       "    </tr>\n",
       "  </tbody>\n",
       "</table>\n",
       "<p>5 rows × 384 columns</p>\n",
       "</div>"
      ],
      "text/plain": [
       "   price  available  days_until_expiry  name_Adzuki Beans, Organic, 500g  \\\n",
       "0   2.99         48                 16                             False   \n",
       "1   1.79         23                 38                             False   \n",
       "2   2.49         17                 11                             False   \n",
       "3   1.29         62                 86                             False   \n",
       "4   3.99          8                 20                             False   \n",
       "\n",
       "   name_Almond Milk, Unsweetened  name_Almonds Sliced Blanched 200g  \\\n",
       "0                          False                              False   \n",
       "1                          False                              False   \n",
       "2                          False                              False   \n",
       "3                          False                              False   \n",
       "4                          False                              False   \n",
       "\n",
       "   name_Apple Pie Spice  name_Applewood Smoked Bacon  name_Apricots  \\\n",
       "0                 False                        False          False   \n",
       "1                 False                        False          False   \n",
       "2                 False                        False          False   \n",
       "3                 False                        False          False   \n",
       "4                 False                        False          False   \n",
       "\n",
       "   name_Arugula  ...  packagingUnit_can  packagingUnit_each  \\\n",
       "0         False  ...              False               False   \n",
       "1         False  ...              False               False   \n",
       "2         False  ...              False               False   \n",
       "3         False  ...              False                True   \n",
       "4         False  ...              False               False   \n",
       "\n",
       "   packagingUnit_grinder  packagingUnit_jar  packagingUnit_kg  \\\n",
       "0                  False              False             False   \n",
       "1                  False              False             False   \n",
       "2                  False              False             False   \n",
       "3                  False              False             False   \n",
       "4                  False              False             False   \n",
       "\n",
       "   packagingUnit_pack  packagingUnit_pcs  packagingUnit_piece  \\\n",
       "0               False              False                False   \n",
       "1               False              False                False   \n",
       "2               False              False                False   \n",
       "3               False              False                False   \n",
       "4               False              False                False   \n",
       "\n",
       "   packagingUnit_pouch  packagingUnit_punnet  \n",
       "0                False                  True  \n",
       "1                False                 False  \n",
       "2                False                 False  \n",
       "3                False                 False  \n",
       "4                False                 False  \n",
       "\n",
       "[5 rows x 384 columns]"
      ]
     },
     "execution_count": 12,
     "metadata": {},
     "output_type": "execute_result"
    }
   ],
   "source": [
    "# Apply one-hot encoding to 'name' and 'packagingUnit'\n",
    "fake_data_encoded = pd.get_dummies(fake_data, columns=['name', 'packagingUnit'])\n",
    "\n",
    "# Drop unnecessary columns ('id' since it doesn't contribute to the prediction)\n",
    "fake_data_encoded = fake_data_encoded.drop(columns=['id', 'weight', 'expiresAt'])\n",
    "\n",
    "# Display the first few rows of the encoded data\n",
    "fake_data_encoded.head()\n"
   ]
  },
  {
   "cell_type": "code",
   "execution_count": null,
   "metadata": {},
   "outputs": [],
   "source": [
    "# Define the features (X) and target (y)\n",
    "X = fake_data_encoded.drop(columns=['days_until_expiry'])\n",
    "y = fake_data_encoded['days_until_expiry']\n"
   ]
  },
  {
   "cell_type": "code",
   "execution_count": null,
   "metadata": {},
   "outputs": [
    {
     "name": "stdout",
     "output_type": "stream",
     "text": [
      "Training set shape: (1082, 383), Test set shape: (271, 383)\n"
     ]
    }
   ],
   "source": [
    "from sklearn.model_selection import train_test_split\n",
    "\n",
    "# Split the data into training and testing sets (80% train, 20% test)\n",
    "X_train, X_test, y_train, y_test = train_test_split(X, y, test_size=0.2, random_state=42)\n",
    "\n",
    "# Display the shapes of the train and test sets\n",
    "print(f\"Training set shape: {X_train.shape}, Test set shape: {X_test.shape}\")\n"
   ]
  },
  {
   "cell_type": "code",
   "execution_count": null,
   "metadata": {},
   "outputs": [],
   "source": [
    "from sklearn.ensemble import RandomForestRegressor\n",
    "from sklearn.metrics import mean_squared_error, r2_score\n",
    "\n",
    "# Initialize the Random Forest Regressor\n",
    "model = RandomForestRegressor(n_estimators=100, random_state=42)\n",
    "\n",
    "# Train the model on the training data\n",
    "model.fit(X_train, y_train)\n",
    "\n",
    "# Make predictions on the test data\n",
    "y_pred = model.predict(X_test)\n"
   ]
  },
  {
   "cell_type": "code",
   "execution_count": null,
   "metadata": {},
   "outputs": [
    {
     "name": "stdout",
     "output_type": "stream",
     "text": [
      "Mean Squared Error (MSE): 11996.628403690038\n",
      "R² Score: 0.07897210516678688\n"
     ]
    }
   ],
   "source": [
    "# Evaluate the model performance\n",
    "mse = mean_squared_error(y_test, y_pred)\n",
    "r2 = r2_score(y_test, y_pred)\n",
    "\n",
    "# Print evaluation metrics\n",
    "print(f\"Mean Squared Error (MSE): {mse}\")\n",
    "print(f\"R² Score: {r2}\")\n"
   ]
  },
  {
   "cell_type": "code",
   "execution_count": null,
   "metadata": {},
   "outputs": [
    {
     "name": "stdout",
     "output_type": "stream",
     "text": [
      "                     Feature  Importance\n",
      "0                      price    0.316876\n",
      "1                  available    0.300256\n",
      "373        packagingUnit_can    0.063969\n",
      "15         name_Baby Spinach    0.025284\n",
      "145         name_Garlic Bulb    0.016564\n",
      "..                       ...         ...\n",
      "171       name_Ground Nutmeg    0.000000\n",
      "170  name_Ground Lamb (Lean)    0.000000\n",
      "10     name_Asparagus Spears    0.000000\n",
      "160        name_Green Apples    0.000000\n",
      "152    name_Golden Pineapple    0.000000\n",
      "\n",
      "[383 rows x 2 columns]\n"
     ]
    }
   ],
   "source": [
    "import pandas as pd\n",
    "\n",
    "# Get feature importances\n",
    "importances = model.feature_importances_\n",
    "\n",
    "# Create a DataFrame for feature importance\n",
    "feature_importance_df = pd.DataFrame({\n",
    "    'Feature': X_train.columns,\n",
    "    'Importance': importances\n",
    "}).sort_values(by='Importance', ascending=False)\n",
    "\n",
    "# Display the feature importances\n",
    "print(feature_importance_df)\n"
   ]
  },
  {
   "cell_type": "code",
   "execution_count": null,
   "metadata": {},
   "outputs": [
    {
     "name": "stdout",
     "output_type": "stream",
     "text": [
      "Defaulting to user installation because normal site-packages is not writeable\n",
      "Collecting xgboost\n",
      "  Downloading xgboost-2.1.1-py3-none-win_amd64.whl.metadata (2.1 kB)\n",
      "Requirement already satisfied: numpy in c:\\users\\srisa\\appdata\\local\\packages\\pythonsoftwarefoundation.python.3.12_qbz5n2kfra8p0\\localcache\\local-packages\\python312\\site-packages (from xgboost) (1.26.4)\n",
      "Requirement already satisfied: scipy in c:\\users\\srisa\\appdata\\local\\packages\\pythonsoftwarefoundation.python.3.12_qbz5n2kfra8p0\\localcache\\local-packages\\python312\\site-packages (from xgboost) (1.14.1)\n",
      "Downloading xgboost-2.1.1-py3-none-win_amd64.whl (124.9 MB)\n",
      "   ---------------------------------------- 0.0/124.9 MB ? eta -:--:--\n",
      "   ---------------------------------------- 1.3/124.9 MB 11.2 MB/s eta 0:00:12\n",
      "   - -------------------------------------- 4.2/124.9 MB 12.6 MB/s eta 0:00:10\n",
      "   -- ------------------------------------- 7.3/124.9 MB 13.7 MB/s eta 0:00:09\n",
      "   --- ------------------------------------ 10.5/124.9 MB 13.6 MB/s eta 0:00:09\n",
      "   ---- ----------------------------------- 13.6/124.9 MB 14.0 MB/s eta 0:00:08\n",
      "   ----- ---------------------------------- 16.5/124.9 MB 14.2 MB/s eta 0:00:08\n",
      "   ----- ---------------------------------- 17.8/124.9 MB 12.9 MB/s eta 0:00:09\n",
      "   ------ --------------------------------- 19.1/124.9 MB 12.2 MB/s eta 0:00:09\n",
      "   ------ --------------------------------- 20.4/124.9 MB 11.5 MB/s eta 0:00:10\n",
      "   ------ --------------------------------- 21.2/124.9 MB 10.9 MB/s eta 0:00:10\n",
      "   ------- -------------------------------- 22.8/124.9 MB 10.6 MB/s eta 0:00:10\n",
      "   ------- -------------------------------- 24.1/124.9 MB 10.1 MB/s eta 0:00:10\n",
      "   ------- -------------------------------- 24.9/124.9 MB 9.7 MB/s eta 0:00:11\n",
      "   -------- ------------------------------- 25.7/124.9 MB 9.2 MB/s eta 0:00:11\n",
      "   -------- ------------------------------- 28.0/124.9 MB 9.4 MB/s eta 0:00:11\n",
      "   --------- ------------------------------ 30.4/124.9 MB 9.5 MB/s eta 0:00:10\n",
      "   ---------- ----------------------------- 32.8/124.9 MB 9.6 MB/s eta 0:00:10\n",
      "   ----------- ---------------------------- 35.1/124.9 MB 9.7 MB/s eta 0:00:10\n",
      "   ----------- ---------------------------- 37.2/124.9 MB 9.7 MB/s eta 0:00:10\n",
      "   ------------ --------------------------- 38.8/124.9 MB 9.7 MB/s eta 0:00:09\n",
      "   ------------ --------------------------- 40.4/124.9 MB 9.6 MB/s eta 0:00:09\n",
      "   ------------- -------------------------- 42.2/124.9 MB 9.6 MB/s eta 0:00:09\n",
      "   -------------- ------------------------- 44.3/124.9 MB 9.6 MB/s eta 0:00:09\n",
      "   -------------- ------------------------- 46.1/124.9 MB 9.6 MB/s eta 0:00:09\n",
      "   --------------- ------------------------ 48.0/124.9 MB 9.6 MB/s eta 0:00:09\n",
      "   ---------------- ----------------------- 50.1/124.9 MB 9.6 MB/s eta 0:00:08\n",
      "   ---------------- ----------------------- 51.9/124.9 MB 9.6 MB/s eta 0:00:08\n",
      "   ----------------- ---------------------- 54.0/124.9 MB 9.6 MB/s eta 0:00:08\n",
      "   ----------------- ---------------------- 55.6/124.9 MB 9.5 MB/s eta 0:00:08\n",
      "   ------------------ --------------------- 57.1/124.9 MB 9.4 MB/s eta 0:00:08\n",
      "   ------------------ --------------------- 58.5/124.9 MB 9.3 MB/s eta 0:00:08\n",
      "   ------------------- -------------------- 60.0/124.9 MB 9.3 MB/s eta 0:00:07\n",
      "   ------------------- -------------------- 61.3/124.9 MB 9.2 MB/s eta 0:00:07\n",
      "   -------------------- ------------------- 63.2/124.9 MB 9.2 MB/s eta 0:00:07\n",
      "   -------------------- ------------------- 64.5/124.9 MB 9.1 MB/s eta 0:00:07\n",
      "   --------------------- ------------------ 66.3/124.9 MB 9.1 MB/s eta 0:00:07\n",
      "   --------------------- ------------------ 67.9/124.9 MB 9.0 MB/s eta 0:00:07\n",
      "   ---------------------- ----------------- 69.2/124.9 MB 8.9 MB/s eta 0:00:07\n",
      "   ---------------------- ----------------- 70.8/124.9 MB 8.9 MB/s eta 0:00:07\n",
      "   ----------------------- ---------------- 72.1/124.9 MB 8.8 MB/s eta 0:00:06\n",
      "   ----------------------- ---------------- 73.4/124.9 MB 8.8 MB/s eta 0:00:06\n",
      "   ------------------------ --------------- 75.0/124.9 MB 8.7 MB/s eta 0:00:06\n",
      "   ------------------------ --------------- 75.5/124.9 MB 8.6 MB/s eta 0:00:06\n",
      "   ------------------------ --------------- 76.0/124.9 MB 8.5 MB/s eta 0:00:06\n",
      "   ------------------------ --------------- 76.8/124.9 MB 8.4 MB/s eta 0:00:06\n",
      "   ------------------------ --------------- 77.3/124.9 MB 8.3 MB/s eta 0:00:06\n",
      "   ------------------------- -------------- 78.4/124.9 MB 8.2 MB/s eta 0:00:06\n",
      "   ------------------------- -------------- 78.9/124.9 MB 8.2 MB/s eta 0:00:06\n",
      "   ------------------------- -------------- 79.7/124.9 MB 8.0 MB/s eta 0:00:06\n",
      "   ------------------------- -------------- 80.2/124.9 MB 7.9 MB/s eta 0:00:06\n",
      "   -------------------------- ------------- 81.5/124.9 MB 7.8 MB/s eta 0:00:06\n",
      "   -------------------------- ------------- 83.1/124.9 MB 7.8 MB/s eta 0:00:06\n",
      "   --------------------------- ------------ 84.7/124.9 MB 7.8 MB/s eta 0:00:06\n",
      "   --------------------------- ------------ 86.2/124.9 MB 7.8 MB/s eta 0:00:05\n",
      "   ---------------------------- ----------- 87.8/124.9 MB 7.8 MB/s eta 0:00:05\n",
      "   ---------------------------- ----------- 89.4/124.9 MB 7.8 MB/s eta 0:00:05\n",
      "   ----------------------------- ---------- 91.0/124.9 MB 7.8 MB/s eta 0:00:05\n",
      "   ----------------------------- ---------- 92.3/124.9 MB 7.8 MB/s eta 0:00:05\n",
      "   ------------------------------ --------- 93.8/124.9 MB 7.8 MB/s eta 0:00:04\n",
      "   ------------------------------ --------- 95.2/124.9 MB 7.8 MB/s eta 0:00:04\n",
      "   ------------------------------- -------- 97.0/124.9 MB 7.8 MB/s eta 0:00:04\n",
      "   ------------------------------- -------- 98.3/124.9 MB 7.8 MB/s eta 0:00:04\n",
      "   ------------------------------- -------- 99.9/124.9 MB 7.8 MB/s eta 0:00:04\n",
      "   -------------------------------- ------- 101.4/124.9 MB 7.8 MB/s eta 0:00:04\n",
      "   -------------------------------- ------- 102.8/124.9 MB 7.7 MB/s eta 0:00:03\n",
      "   --------------------------------- ------ 104.3/124.9 MB 7.7 MB/s eta 0:00:03\n",
      "   --------------------------------- ------ 105.9/124.9 MB 7.7 MB/s eta 0:00:03\n",
      "   ---------------------------------- ----- 107.5/124.9 MB 7.7 MB/s eta 0:00:03\n",
      "   ---------------------------------- ----- 109.1/124.9 MB 7.7 MB/s eta 0:00:03\n",
      "   ----------------------------------- ---- 110.9/124.9 MB 7.8 MB/s eta 0:00:02\n",
      "   ------------------------------------ --- 112.5/124.9 MB 7.8 MB/s eta 0:00:02\n",
      "   ------------------------------------ --- 114.3/124.9 MB 7.8 MB/s eta 0:00:02\n",
      "   ------------------------------------- -- 116.1/124.9 MB 7.8 MB/s eta 0:00:02\n",
      "   ------------------------------------- -- 117.7/124.9 MB 7.8 MB/s eta 0:00:01\n",
      "   -------------------------------------- - 119.0/124.9 MB 7.8 MB/s eta 0:00:01\n",
      "   -------------------------------------- - 120.6/124.9 MB 7.8 MB/s eta 0:00:01\n",
      "   -------------------------------------- - 121.6/124.9 MB 7.7 MB/s eta 0:00:01\n",
      "   ---------------------------------------  122.7/124.9 MB 7.7 MB/s eta 0:00:01\n",
      "   ---------------------------------------  123.5/124.9 MB 7.7 MB/s eta 0:00:01\n",
      "   ---------------------------------------  124.5/124.9 MB 7.6 MB/s eta 0:00:01\n",
      "   ---------------------------------------  124.8/124.9 MB 7.6 MB/s eta 0:00:01\n",
      "   ---------------------------------------- 124.9/124.9 MB 7.5 MB/s eta 0:00:00\n",
      "Installing collected packages: xgboost\n",
      "Successfully installed xgboost-2.1.1\n"
     ]
    }
   ],
   "source": [
    "!pip install xgboost\n"
   ]
  },
  {
   "cell_type": "code",
   "execution_count": null,
   "metadata": {},
   "outputs": [
    {
     "name": "stdout",
     "output_type": "stream",
     "text": [
      "XGBoost Mean Squared Error (MSE): 12454.20591918511\n",
      "XGBoost R² Score: 0.04384201765060425\n"
     ]
    }
   ],
   "source": [
    "from xgboost import XGBRegressor\n",
    "from sklearn.metrics import mean_squared_error, r2_score\n",
    "\n",
    "# Initialize and train XGBoost Regressor\n",
    "xgb_model = XGBRegressor(n_estimators=100, learning_rate=0.1, max_depth=10, random_state=42)\n",
    "xgb_model.fit(X_train, y_train)\n",
    "\n",
    "# Make predictions using the test set\n",
    "y_pred_xgb = xgb_model.predict(X_test)\n",
    "\n",
    "# Evaluate the performance of the XGBoost model\n",
    "mse_xgb = mean_squared_error(y_test, y_pred_xgb)\n",
    "r2_xgb = r2_score(y_test, y_pred_xgb)\n",
    "\n",
    "# Print evaluation metrics\n",
    "print(f\"XGBoost Mean Squared Error (MSE): {mse_xgb}\")\n",
    "print(f\"XGBoost R² Score: {r2_xgb}\")\n"
   ]
  },
  {
   "cell_type": "code",
   "execution_count": null,
   "metadata": {},
   "outputs": [
    {
     "name": "stdout",
     "output_type": "stream",
     "text": [
      "Defaulting to user installation because normal site-packages is not writeable\n",
      "Collecting lightgbm\n",
      "  Downloading lightgbm-4.5.0-py3-none-win_amd64.whl.metadata (17 kB)\n",
      "Requirement already satisfied: numpy>=1.17.0 in c:\\users\\srisa\\appdata\\local\\packages\\pythonsoftwarefoundation.python.3.12_qbz5n2kfra8p0\\localcache\\local-packages\\python312\\site-packages (from lightgbm) (1.26.4)\n",
      "Requirement already satisfied: scipy in c:\\users\\srisa\\appdata\\local\\packages\\pythonsoftwarefoundation.python.3.12_qbz5n2kfra8p0\\localcache\\local-packages\\python312\\site-packages (from lightgbm) (1.14.1)\n",
      "Downloading lightgbm-4.5.0-py3-none-win_amd64.whl (1.4 MB)\n",
      "   ---------------------------------------- 0.0/1.4 MB ? eta -:--:--\n",
      "   ---------------------------------------- 1.4/1.4 MB 10.8 MB/s eta 0:00:00\n",
      "Installing collected packages: lightgbm\n",
      "Successfully installed lightgbm-4.5.0\n"
     ]
    }
   ],
   "source": [
    "!pip install lightgbm"
   ]
  },
  {
   "cell_type": "code",
   "execution_count": null,
   "metadata": {},
   "outputs": [
    {
     "ename": "LightGBMError",
     "evalue": "Do not support special JSON characters in feature name.",
     "output_type": "error",
     "traceback": [
      "\u001b[1;31m---------------------------------------------------------------------------\u001b[0m",
      "\u001b[1;31mLightGBMError\u001b[0m                             Traceback (most recent call last)",
      "Cell \u001b[1;32mIn[21], line 6\u001b[0m\n\u001b[0;32m      4\u001b[0m \u001b[39m# Initialize and train LightGBM Regressor\u001b[39;00m\n\u001b[0;32m      5\u001b[0m lgb_model \u001b[39m=\u001b[39m lgb\u001b[39m.\u001b[39mLGBMRegressor(n_estimators\u001b[39m=\u001b[39m\u001b[39m100\u001b[39m, learning_rate\u001b[39m=\u001b[39m\u001b[39m0.1\u001b[39m, max_depth\u001b[39m=\u001b[39m\u001b[39m10\u001b[39m, random_state\u001b[39m=\u001b[39m\u001b[39m42\u001b[39m)\n\u001b[1;32m----> 6\u001b[0m lgb_model\u001b[39m.\u001b[39;49mfit(X_train, y_train)\n\u001b[0;32m      8\u001b[0m \u001b[39m# Make predictions using the test set\u001b[39;00m\n\u001b[0;32m      9\u001b[0m y_pred_lgb \u001b[39m=\u001b[39m lgb_model\u001b[39m.\u001b[39mpredict(X_test)\n",
      "File \u001b[1;32m~\\AppData\\Local\\Packages\\PythonSoftwareFoundation.Python.3.12_qbz5n2kfra8p0\\LocalCache\\local-packages\\Python312\\site-packages\\lightgbm\\sklearn.py:1189\u001b[0m, in \u001b[0;36mLGBMRegressor.fit\u001b[1;34m(self, X, y, sample_weight, init_score, eval_set, eval_names, eval_sample_weight, eval_init_score, eval_metric, feature_name, categorical_feature, callbacks, init_model)\u001b[0m\n\u001b[0;32m   1172\u001b[0m \u001b[39mdef\u001b[39;00m \u001b[39mfit\u001b[39m(  \u001b[39m# type: ignore[override]\u001b[39;00m\n\u001b[0;32m   1173\u001b[0m     \u001b[39mself\u001b[39m,\n\u001b[0;32m   1174\u001b[0m     X: _LGBM_ScikitMatrixLike,\n\u001b[1;32m   (...)\u001b[0m\n\u001b[0;32m   1186\u001b[0m     init_model: Optional[Union[\u001b[39mstr\u001b[39m, Path, Booster, LGBMModel]] \u001b[39m=\u001b[39m \u001b[39mNone\u001b[39;00m,\n\u001b[0;32m   1187\u001b[0m ) \u001b[39m-\u001b[39m\u001b[39m>\u001b[39m \u001b[39m\"\u001b[39m\u001b[39mLGBMRegressor\u001b[39m\u001b[39m\"\u001b[39m:\n\u001b[0;32m   1188\u001b[0m \u001b[39m    \u001b[39m\u001b[39m\"\"\"Docstring is inherited from the LGBMModel.\"\"\"\u001b[39;00m\n\u001b[1;32m-> 1189\u001b[0m     \u001b[39msuper\u001b[39;49m()\u001b[39m.\u001b[39;49mfit(\n\u001b[0;32m   1190\u001b[0m         X,\n\u001b[0;32m   1191\u001b[0m         y,\n\u001b[0;32m   1192\u001b[0m         sample_weight\u001b[39m=\u001b[39;49msample_weight,\n\u001b[0;32m   1193\u001b[0m         init_score\u001b[39m=\u001b[39;49minit_score,\n\u001b[0;32m   1194\u001b[0m         eval_set\u001b[39m=\u001b[39;49meval_set,\n\u001b[0;32m   1195\u001b[0m         eval_names\u001b[39m=\u001b[39;49meval_names,\n\u001b[0;32m   1196\u001b[0m         eval_sample_weight\u001b[39m=\u001b[39;49meval_sample_weight,\n\u001b[0;32m   1197\u001b[0m         eval_init_score\u001b[39m=\u001b[39;49meval_init_score,\n\u001b[0;32m   1198\u001b[0m         eval_metric\u001b[39m=\u001b[39;49meval_metric,\n\u001b[0;32m   1199\u001b[0m         feature_name\u001b[39m=\u001b[39;49mfeature_name,\n\u001b[0;32m   1200\u001b[0m         categorical_feature\u001b[39m=\u001b[39;49mcategorical_feature,\n\u001b[0;32m   1201\u001b[0m         callbacks\u001b[39m=\u001b[39;49mcallbacks,\n\u001b[0;32m   1202\u001b[0m         init_model\u001b[39m=\u001b[39;49minit_model,\n\u001b[0;32m   1203\u001b[0m     )\n\u001b[0;32m   1204\u001b[0m     \u001b[39mreturn\u001b[39;00m \u001b[39mself\u001b[39m\n",
      "File \u001b[1;32m~\\AppData\\Local\\Packages\\PythonSoftwareFoundation.Python.3.12_qbz5n2kfra8p0\\LocalCache\\local-packages\\Python312\\site-packages\\lightgbm\\sklearn.py:955\u001b[0m, in \u001b[0;36mLGBMModel.fit\u001b[1;34m(self, X, y, sample_weight, init_score, group, eval_set, eval_names, eval_sample_weight, eval_class_weight, eval_init_score, eval_group, eval_metric, feature_name, categorical_feature, callbacks, init_model)\u001b[0m\n\u001b[0;32m    952\u001b[0m evals_result: _EvalResultDict \u001b[39m=\u001b[39m {}\n\u001b[0;32m    953\u001b[0m callbacks\u001b[39m.\u001b[39mappend(record_evaluation(evals_result))\n\u001b[1;32m--> 955\u001b[0m \u001b[39mself\u001b[39m\u001b[39m.\u001b[39m_Booster \u001b[39m=\u001b[39m train(\n\u001b[0;32m    956\u001b[0m     params\u001b[39m=\u001b[39;49mparams,\n\u001b[0;32m    957\u001b[0m     train_set\u001b[39m=\u001b[39;49mtrain_set,\n\u001b[0;32m    958\u001b[0m     num_boost_round\u001b[39m=\u001b[39;49m\u001b[39mself\u001b[39;49m\u001b[39m.\u001b[39;49mn_estimators,\n\u001b[0;32m    959\u001b[0m     valid_sets\u001b[39m=\u001b[39;49mvalid_sets,\n\u001b[0;32m    960\u001b[0m     valid_names\u001b[39m=\u001b[39;49meval_names,\n\u001b[0;32m    961\u001b[0m     feval\u001b[39m=\u001b[39;49meval_metrics_callable,  \u001b[39m# type: ignore[arg-type]\u001b[39;49;00m\n\u001b[0;32m    962\u001b[0m     init_model\u001b[39m=\u001b[39;49minit_model,\n\u001b[0;32m    963\u001b[0m     callbacks\u001b[39m=\u001b[39;49mcallbacks,\n\u001b[0;32m    964\u001b[0m )\n\u001b[0;32m    966\u001b[0m \u001b[39mself\u001b[39m\u001b[39m.\u001b[39m_evals_result \u001b[39m=\u001b[39m evals_result\n\u001b[0;32m    967\u001b[0m \u001b[39mself\u001b[39m\u001b[39m.\u001b[39m_best_iteration \u001b[39m=\u001b[39m \u001b[39mself\u001b[39m\u001b[39m.\u001b[39m_Booster\u001b[39m.\u001b[39mbest_iteration\n",
      "File \u001b[1;32m~\\AppData\\Local\\Packages\\PythonSoftwareFoundation.Python.3.12_qbz5n2kfra8p0\\LocalCache\\local-packages\\Python312\\site-packages\\lightgbm\\engine.py:282\u001b[0m, in \u001b[0;36mtrain\u001b[1;34m(params, train_set, num_boost_round, valid_sets, valid_names, feval, init_model, feature_name, categorical_feature, keep_training_booster, callbacks)\u001b[0m\n\u001b[0;32m    280\u001b[0m \u001b[39m# construct booster\u001b[39;00m\n\u001b[0;32m    281\u001b[0m \u001b[39mtry\u001b[39;00m:\n\u001b[1;32m--> 282\u001b[0m     booster \u001b[39m=\u001b[39m Booster(params\u001b[39m=\u001b[39;49mparams, train_set\u001b[39m=\u001b[39;49mtrain_set)\n\u001b[0;32m    283\u001b[0m     \u001b[39mif\u001b[39;00m is_valid_contain_train:\n\u001b[0;32m    284\u001b[0m         booster\u001b[39m.\u001b[39mset_train_data_name(train_data_name)\n",
      "File \u001b[1;32m~\\AppData\\Local\\Packages\\PythonSoftwareFoundation.Python.3.12_qbz5n2kfra8p0\\LocalCache\\local-packages\\Python312\\site-packages\\lightgbm\\basic.py:3637\u001b[0m, in \u001b[0;36mBooster.__init__\u001b[1;34m(self, params, train_set, model_file, model_str)\u001b[0m\n\u001b[0;32m   3630\u001b[0m     \u001b[39mself\u001b[39m\u001b[39m.\u001b[39mset_network(\n\u001b[0;32m   3631\u001b[0m         machines\u001b[39m=\u001b[39mmachines,\n\u001b[0;32m   3632\u001b[0m         local_listen_port\u001b[39m=\u001b[39mparams[\u001b[39m\"\u001b[39m\u001b[39mlocal_listen_port\u001b[39m\u001b[39m\"\u001b[39m],\n\u001b[0;32m   3633\u001b[0m         listen_time_out\u001b[39m=\u001b[39mparams\u001b[39m.\u001b[39mget(\u001b[39m\"\u001b[39m\u001b[39mtime_out\u001b[39m\u001b[39m\"\u001b[39m, \u001b[39m120\u001b[39m),\n\u001b[0;32m   3634\u001b[0m         num_machines\u001b[39m=\u001b[39mparams[\u001b[39m\"\u001b[39m\u001b[39mnum_machines\u001b[39m\u001b[39m\"\u001b[39m],\n\u001b[0;32m   3635\u001b[0m     )\n\u001b[0;32m   3636\u001b[0m \u001b[39m# construct booster object\u001b[39;00m\n\u001b[1;32m-> 3637\u001b[0m train_set\u001b[39m.\u001b[39;49mconstruct()\n\u001b[0;32m   3638\u001b[0m \u001b[39m# copy the parameters from train_set\u001b[39;00m\n\u001b[0;32m   3639\u001b[0m params\u001b[39m.\u001b[39mupdate(train_set\u001b[39m.\u001b[39mget_params())\n",
      "File \u001b[1;32m~\\AppData\\Local\\Packages\\PythonSoftwareFoundation.Python.3.12_qbz5n2kfra8p0\\LocalCache\\local-packages\\Python312\\site-packages\\lightgbm\\basic.py:2576\u001b[0m, in \u001b[0;36mDataset.construct\u001b[1;34m(self)\u001b[0m\n\u001b[0;32m   2571\u001b[0m             \u001b[39mself\u001b[39m\u001b[39m.\u001b[39m_set_init_score_by_predictor(\n\u001b[0;32m   2572\u001b[0m                 predictor\u001b[39m=\u001b[39m\u001b[39mself\u001b[39m\u001b[39m.\u001b[39m_predictor, data\u001b[39m=\u001b[39m\u001b[39mself\u001b[39m\u001b[39m.\u001b[39mdata, used_indices\u001b[39m=\u001b[39mused_indices\n\u001b[0;32m   2573\u001b[0m             )\n\u001b[0;32m   2574\u001b[0m \u001b[39melse\u001b[39;00m:\n\u001b[0;32m   2575\u001b[0m     \u001b[39m# create train\u001b[39;00m\n\u001b[1;32m-> 2576\u001b[0m     \u001b[39mself\u001b[39;49m\u001b[39m.\u001b[39;49m_lazy_init(\n\u001b[0;32m   2577\u001b[0m         data\u001b[39m=\u001b[39;49m\u001b[39mself\u001b[39;49m\u001b[39m.\u001b[39;49mdata,\n\u001b[0;32m   2578\u001b[0m         label\u001b[39m=\u001b[39;49m\u001b[39mself\u001b[39;49m\u001b[39m.\u001b[39;49mlabel,\n\u001b[0;32m   2579\u001b[0m         reference\u001b[39m=\u001b[39;49m\u001b[39mNone\u001b[39;49;00m,\n\u001b[0;32m   2580\u001b[0m         weight\u001b[39m=\u001b[39;49m\u001b[39mself\u001b[39;49m\u001b[39m.\u001b[39;49mweight,\n\u001b[0;32m   2581\u001b[0m         group\u001b[39m=\u001b[39;49m\u001b[39mself\u001b[39;49m\u001b[39m.\u001b[39;49mgroup,\n\u001b[0;32m   2582\u001b[0m         init_score\u001b[39m=\u001b[39;49m\u001b[39mself\u001b[39;49m\u001b[39m.\u001b[39;49minit_score,\n\u001b[0;32m   2583\u001b[0m         predictor\u001b[39m=\u001b[39;49m\u001b[39mself\u001b[39;49m\u001b[39m.\u001b[39;49m_predictor,\n\u001b[0;32m   2584\u001b[0m         feature_name\u001b[39m=\u001b[39;49m\u001b[39mself\u001b[39;49m\u001b[39m.\u001b[39;49mfeature_name,\n\u001b[0;32m   2585\u001b[0m         categorical_feature\u001b[39m=\u001b[39;49m\u001b[39mself\u001b[39;49m\u001b[39m.\u001b[39;49mcategorical_feature,\n\u001b[0;32m   2586\u001b[0m         params\u001b[39m=\u001b[39;49m\u001b[39mself\u001b[39;49m\u001b[39m.\u001b[39;49mparams,\n\u001b[0;32m   2587\u001b[0m         position\u001b[39m=\u001b[39;49m\u001b[39mself\u001b[39;49m\u001b[39m.\u001b[39;49mposition,\n\u001b[0;32m   2588\u001b[0m     )\n\u001b[0;32m   2589\u001b[0m \u001b[39mif\u001b[39;00m \u001b[39mself\u001b[39m\u001b[39m.\u001b[39mfree_raw_data:\n\u001b[0;32m   2590\u001b[0m     \u001b[39mself\u001b[39m\u001b[39m.\u001b[39mdata \u001b[39m=\u001b[39m \u001b[39mNone\u001b[39;00m\n",
      "File \u001b[1;32m~\\AppData\\Local\\Packages\\PythonSoftwareFoundation.Python.3.12_qbz5n2kfra8p0\\LocalCache\\local-packages\\Python312\\site-packages\\lightgbm\\basic.py:2208\u001b[0m, in \u001b[0;36mDataset._lazy_init\u001b[1;34m(self, data, label, reference, weight, group, init_score, predictor, feature_name, categorical_feature, params, position)\u001b[0m\n\u001b[0;32m   2206\u001b[0m     \u001b[39mraise\u001b[39;00m \u001b[39mTypeError\u001b[39;00m(\u001b[39mf\u001b[39m\u001b[39m\"\u001b[39m\u001b[39mWrong predictor type \u001b[39m\u001b[39m{\u001b[39;00m\u001b[39mtype\u001b[39m(predictor)\u001b[39m.\u001b[39m\u001b[39m__name__\u001b[39m\u001b[39m}\u001b[39;00m\u001b[39m\"\u001b[39m)\n\u001b[0;32m   2207\u001b[0m \u001b[39m# set feature names\u001b[39;00m\n\u001b[1;32m-> 2208\u001b[0m \u001b[39mreturn\u001b[39;00m \u001b[39mself\u001b[39;49m\u001b[39m.\u001b[39;49mset_feature_name(feature_name)\n",
      "File \u001b[1;32m~\\AppData\\Local\\Packages\\PythonSoftwareFoundation.Python.3.12_qbz5n2kfra8p0\\LocalCache\\local-packages\\Python312\\site-packages\\lightgbm\\basic.py:3032\u001b[0m, in \u001b[0;36mDataset.set_feature_name\u001b[1;34m(self, feature_name)\u001b[0m\n\u001b[0;32m   3028\u001b[0m         \u001b[39mraise\u001b[39;00m \u001b[39mValueError\u001b[39;00m(\n\u001b[0;32m   3029\u001b[0m             \u001b[39mf\u001b[39m\u001b[39m\"\u001b[39m\u001b[39mLength of feature_name(\u001b[39m\u001b[39m{\u001b[39;00m\u001b[39mlen\u001b[39m(feature_name)\u001b[39m}\u001b[39;00m\u001b[39m) and num_feature(\u001b[39m\u001b[39m{\u001b[39;00m\u001b[39mself\u001b[39m\u001b[39m.\u001b[39mnum_feature()\u001b[39m}\u001b[39;00m\u001b[39m) don\u001b[39m\u001b[39m'\u001b[39m\u001b[39mt match\u001b[39m\u001b[39m\"\u001b[39m\n\u001b[0;32m   3030\u001b[0m         )\n\u001b[0;32m   3031\u001b[0m     c_feature_name \u001b[39m=\u001b[39m [_c_str(name) \u001b[39mfor\u001b[39;00m name \u001b[39min\u001b[39;00m feature_name]\n\u001b[1;32m-> 3032\u001b[0m     _safe_call(\n\u001b[0;32m   3033\u001b[0m         _LIB\u001b[39m.\u001b[39;49mLGBM_DatasetSetFeatureNames(\n\u001b[0;32m   3034\u001b[0m             \u001b[39mself\u001b[39;49m\u001b[39m.\u001b[39;49m_handle,\n\u001b[0;32m   3035\u001b[0m             _c_array(ctypes\u001b[39m.\u001b[39;49mc_char_p, c_feature_name),\n\u001b[0;32m   3036\u001b[0m             ctypes\u001b[39m.\u001b[39;49mc_int(\u001b[39mlen\u001b[39;49m(feature_name)),\n\u001b[0;32m   3037\u001b[0m         )\n\u001b[0;32m   3038\u001b[0m     )\n\u001b[0;32m   3039\u001b[0m \u001b[39mreturn\u001b[39;00m \u001b[39mself\u001b[39m\n",
      "File \u001b[1;32m~\\AppData\\Local\\Packages\\PythonSoftwareFoundation.Python.3.12_qbz5n2kfra8p0\\LocalCache\\local-packages\\Python312\\site-packages\\lightgbm\\basic.py:296\u001b[0m, in \u001b[0;36m_safe_call\u001b[1;34m(ret)\u001b[0m\n\u001b[0;32m    288\u001b[0m \u001b[39m\u001b[39m\u001b[39m\"\"\"Check the return value from C API call.\u001b[39;00m\n\u001b[0;32m    289\u001b[0m \n\u001b[0;32m    290\u001b[0m \u001b[39mParameters\u001b[39;00m\n\u001b[1;32m   (...)\u001b[0m\n\u001b[0;32m    293\u001b[0m \u001b[39m    The return value from C API calls.\u001b[39;00m\n\u001b[0;32m    294\u001b[0m \u001b[39m\"\"\"\u001b[39;00m\n\u001b[0;32m    295\u001b[0m \u001b[39mif\u001b[39;00m ret \u001b[39m!=\u001b[39m \u001b[39m0\u001b[39m:\n\u001b[1;32m--> 296\u001b[0m     \u001b[39mraise\u001b[39;00m LightGBMError(_LIB\u001b[39m.\u001b[39mLGBM_GetLastError()\u001b[39m.\u001b[39mdecode(\u001b[39m\"\u001b[39m\u001b[39mutf-8\u001b[39m\u001b[39m\"\u001b[39m))\n",
      "\u001b[1;31mLightGBMError\u001b[0m: Do not support special JSON characters in feature name."
     ]
    }
   ],
   "source": [
    "import lightgbm as lgb\n",
    "from sklearn.metrics import mean_squared_error, r2_score\n",
    "\n",
    "# Initialize and train LightGBM Regressor\n",
    "lgb_model = lgb.LGBMRegressor(n_estimators=100, learning_rate=0.1, max_depth=10, random_state=42)\n",
    "lgb_model.fit(X_train, y_train)\n",
    "\n",
    "# Make predictions using the test set\n",
    "y_pred_lgb = lgb_model.predict(X_test)\n",
    "\n",
    "# Evaluate the performance of the LightGBM model\n",
    "mse_lgb = mean_squared_error(y_test, y_pred_lgb)\n",
    "r2_lgb = r2_score(y_test, y_pred_lgb)\n",
    "\n",
    "# Print evaluation metrics\n",
    "print(f\"LightGBM Mean Squared Error (MSE): {mse_lgb}\")\n",
    "print(f\"LightGBM R² Score: {r2_lgb}\")\n"
   ]
  },
  {
   "cell_type": "code",
   "execution_count": null,
   "metadata": {},
   "outputs": [
    {
     "name": "stdout",
     "output_type": "stream",
     "text": [
      "Index(['price', 'available', 'name_Adzuki_Beans_Organic_500g',\n",
      "       'name_Almond_Milk_Unsweetened', 'name_Almonds_Sliced_Blanched_200g',\n",
      "       'name_Apple_Pie_Spice', 'name_Applewood_Smoked_Bacon', 'name_Apricots',\n",
      "       'name_Arugula', 'name_Asparagus',\n",
      "       ...\n",
      "       'packagingUnit_can', 'packagingUnit_each', 'packagingUnit_grinder',\n",
      "       'packagingUnit_jar', 'packagingUnit_kg', 'packagingUnit_pack',\n",
      "       'packagingUnit_pcs', 'packagingUnit_piece', 'packagingUnit_pouch',\n",
      "       'packagingUnit_punnet'],\n",
      "      dtype='object', length=383)\n"
     ]
    }
   ],
   "source": [
    "# Clean the feature names to remove special characters (spaces, parentheses, etc.)\n",
    "X_train.columns = X_train.columns.str.replace('[^A-Za-z0-9_]+', '_', regex=True)\n",
    "X_test.columns = X_test.columns.str.replace('[^A-Za-z0-9_]+', '_', regex=True)\n",
    "\n",
    "# Verify the cleaned feature names\n",
    "print(X_train.columns)\n"
   ]
  },
  {
   "cell_type": "code",
   "execution_count": null,
   "metadata": {},
   "outputs": [
    {
     "name": "stdout",
     "output_type": "stream",
     "text": [
      "[LightGBM] [Info] Auto-choosing row-wise multi-threading, the overhead of testing was 0.000115 seconds.\n",
      "You can set `force_row_wise=true` to remove the overhead.\n",
      "And if memory is not enough, you can set `force_col_wise=true`.\n",
      "[LightGBM] [Info] Total Bins 457\n",
      "[LightGBM] [Info] Number of data points in the train set: 1082, number of used features: 18\n",
      "[LightGBM] [Info] Start training from score 161.617375\n",
      "[LightGBM] [Warning] No further splits with positive gain, best gain: -inf\n",
      "[LightGBM] [Warning] No further splits with positive gain, best gain: -inf\n",
      "[LightGBM] [Warning] No further splits with positive gain, best gain: -inf\n",
      "[LightGBM] [Warning] No further splits with positive gain, best gain: -inf\n",
      "[LightGBM] [Warning] No further splits with positive gain, best gain: -inf\n",
      "[LightGBM] [Warning] No further splits with positive gain, best gain: -inf\n",
      "[LightGBM] [Warning] No further splits with positive gain, best gain: -inf\n",
      "[LightGBM] [Warning] No further splits with positive gain, best gain: -inf\n",
      "[LightGBM] [Warning] No further splits with positive gain, best gain: -inf\n",
      "[LightGBM] [Warning] No further splits with positive gain, best gain: -inf\n",
      "[LightGBM] [Warning] No further splits with positive gain, best gain: -inf\n",
      "[LightGBM] [Warning] No further splits with positive gain, best gain: -inf\n",
      "[LightGBM] [Warning] No further splits with positive gain, best gain: -inf\n",
      "[LightGBM] [Warning] No further splits with positive gain, best gain: -inf\n",
      "[LightGBM] [Warning] No further splits with positive gain, best gain: -inf\n",
      "[LightGBM] [Warning] No further splits with positive gain, best gain: -inf\n",
      "[LightGBM] [Warning] No further splits with positive gain, best gain: -inf\n",
      "[LightGBM] [Warning] No further splits with positive gain, best gain: -inf\n",
      "[LightGBM] [Warning] No further splits with positive gain, best gain: -inf\n",
      "[LightGBM] [Warning] No further splits with positive gain, best gain: -inf\n",
      "[LightGBM] [Warning] No further splits with positive gain, best gain: -inf\n",
      "[LightGBM] [Warning] No further splits with positive gain, best gain: -inf\n",
      "[LightGBM] [Warning] No further splits with positive gain, best gain: -inf\n",
      "[LightGBM] [Warning] No further splits with positive gain, best gain: -inf\n",
      "[LightGBM] [Warning] No further splits with positive gain, best gain: -inf\n",
      "[LightGBM] [Warning] No further splits with positive gain, best gain: -inf\n",
      "[LightGBM] [Warning] No further splits with positive gain, best gain: -inf\n",
      "[LightGBM] [Warning] No further splits with positive gain, best gain: -inf\n",
      "[LightGBM] [Warning] No further splits with positive gain, best gain: -inf\n",
      "[LightGBM] [Warning] No further splits with positive gain, best gain: -inf\n",
      "[LightGBM] [Warning] No further splits with positive gain, best gain: -inf\n",
      "[LightGBM] [Warning] No further splits with positive gain, best gain: -inf\n",
      "[LightGBM] [Warning] No further splits with positive gain, best gain: -inf\n",
      "[LightGBM] [Warning] No further splits with positive gain, best gain: -inf\n",
      "[LightGBM] [Warning] No further splits with positive gain, best gain: -inf\n",
      "[LightGBM] [Warning] No further splits with positive gain, best gain: -inf\n",
      "[LightGBM] [Warning] No further splits with positive gain, best gain: -inf\n",
      "[LightGBM] [Warning] No further splits with positive gain, best gain: -inf\n",
      "[LightGBM] [Warning] No further splits with positive gain, best gain: -inf\n",
      "[LightGBM] [Warning] No further splits with positive gain, best gain: -inf\n",
      "[LightGBM] [Warning] No further splits with positive gain, best gain: -inf\n",
      "[LightGBM] [Warning] No further splits with positive gain, best gain: -inf\n",
      "[LightGBM] [Warning] No further splits with positive gain, best gain: -inf\n",
      "[LightGBM] [Warning] No further splits with positive gain, best gain: -inf\n",
      "[LightGBM] [Warning] No further splits with positive gain, best gain: -inf\n",
      "[LightGBM] [Warning] No further splits with positive gain, best gain: -inf\n",
      "[LightGBM] [Warning] No further splits with positive gain, best gain: -inf\n",
      "[LightGBM] [Warning] No further splits with positive gain, best gain: -inf\n",
      "[LightGBM] [Warning] No further splits with positive gain, best gain: -inf\n",
      "[LightGBM] [Warning] No further splits with positive gain, best gain: -inf\n",
      "[LightGBM] [Warning] No further splits with positive gain, best gain: -inf\n",
      "[LightGBM] [Warning] No further splits with positive gain, best gain: -inf\n",
      "[LightGBM] [Warning] No further splits with positive gain, best gain: -inf\n",
      "[LightGBM] [Warning] No further splits with positive gain, best gain: -inf\n",
      "[LightGBM] [Warning] No further splits with positive gain, best gain: -inf\n",
      "[LightGBM] [Warning] No further splits with positive gain, best gain: -inf\n",
      "[LightGBM] [Warning] No further splits with positive gain, best gain: -inf\n",
      "[LightGBM] [Warning] No further splits with positive gain, best gain: -inf\n",
      "[LightGBM] [Warning] No further splits with positive gain, best gain: -inf\n",
      "[LightGBM] [Warning] No further splits with positive gain, best gain: -inf\n",
      "[LightGBM] [Warning] No further splits with positive gain, best gain: -inf\n",
      "[LightGBM] [Warning] No further splits with positive gain, best gain: -inf\n",
      "[LightGBM] [Warning] No further splits with positive gain, best gain: -inf\n",
      "[LightGBM] [Warning] No further splits with positive gain, best gain: -inf\n",
      "[LightGBM] [Warning] No further splits with positive gain, best gain: -inf\n",
      "[LightGBM] [Warning] No further splits with positive gain, best gain: -inf\n",
      "[LightGBM] [Warning] No further splits with positive gain, best gain: -inf\n",
      "[LightGBM] [Warning] No further splits with positive gain, best gain: -inf\n",
      "[LightGBM] [Warning] No further splits with positive gain, best gain: -inf\n",
      "[LightGBM] [Warning] No further splits with positive gain, best gain: -inf\n",
      "LightGBM Mean Squared Error (MSE): 12559.947591375081\n",
      "LightGBM R² Score: 0.03572389674573373\n"
     ]
    }
   ],
   "source": [
    "import lightgbm as lgb\n",
    "from sklearn.metrics import mean_squared_error, r2_score\n",
    "\n",
    "# Initialize and train LightGBM Regressor with cleaned feature names\n",
    "lgb_model = lgb.LGBMRegressor(n_estimators=100, learning_rate=0.1, max_depth=10, random_state=42)\n",
    "lgb_model.fit(X_train, y_train)\n",
    "\n",
    "# Make predictions using the test set\n",
    "y_pred_lgb = lgb_model.predict(X_test)\n",
    "\n",
    "# Evaluate the performance of the LightGBM model\n",
    "mse_lgb = mean_squared_error(y_test, y_pred_lgb)\n",
    "r2_lgb = r2_score(y_test, y_pred_lgb)\n",
    "\n",
    "# Print evaluation metrics\n",
    "print(f\"LightGBM Mean Squared Error (MSE): {mse_lgb}\")\n",
    "print(f\"LightGBM R² Score: {r2_lgb}\")\n"
   ]
  },
  {
   "cell_type": "code",
   "execution_count": null,
   "metadata": {},
   "outputs": [
    {
     "data": {
      "text/html": [
       "<div>\n",
       "<style scoped>\n",
       "    .dataframe tbody tr th:only-of-type {\n",
       "        vertical-align: middle;\n",
       "    }\n",
       "\n",
       "    .dataframe tbody tr th {\n",
       "        vertical-align: top;\n",
       "    }\n",
       "\n",
       "    .dataframe thead th {\n",
       "        text-align: right;\n",
       "    }\n",
       "</style>\n",
       "<table border=\"1\" class=\"dataframe\">\n",
       "  <thead>\n",
       "    <tr style=\"text-align: right;\">\n",
       "      <th></th>\n",
       "      <th>stock_date</th>\n",
       "      <th>days_in_stock</th>\n",
       "    </tr>\n",
       "  </thead>\n",
       "  <tbody>\n",
       "    <tr>\n",
       "      <th>0</th>\n",
       "      <td>2024-07-07</td>\n",
       "      <td>62</td>\n",
       "    </tr>\n",
       "    <tr>\n",
       "      <th>1</th>\n",
       "      <td>2023-11-18</td>\n",
       "      <td>294</td>\n",
       "    </tr>\n",
       "    <tr>\n",
       "      <th>2</th>\n",
       "      <td>2024-02-29</td>\n",
       "      <td>191</td>\n",
       "    </tr>\n",
       "    <tr>\n",
       "      <th>3</th>\n",
       "      <td>2023-12-17</td>\n",
       "      <td>265</td>\n",
       "    </tr>\n",
       "    <tr>\n",
       "      <th>4</th>\n",
       "      <td>2024-04-30</td>\n",
       "      <td>130</td>\n",
       "    </tr>\n",
       "  </tbody>\n",
       "</table>\n",
       "</div>"
      ],
      "text/plain": [
       "  stock_date  days_in_stock\n",
       "0 2024-07-07             62\n",
       "1 2023-11-18            294\n",
       "2 2024-02-29            191\n",
       "3 2023-12-17            265\n",
       "4 2024-04-30            130"
      ]
     },
     "execution_count": 24,
     "metadata": {},
     "output_type": "execute_result"
    }
   ],
   "source": [
    "import numpy as np\n",
    "from datetime import timedelta\n",
    "\n",
    "# Assuming 'stock_date' is not available, we simulate it by generating random stock dates.\n",
    "# Simulating a 'stock_date' column where products were stocked between 1 and 365 days ago.\n",
    "fake_data['stock_date'] = fake_data['expiresAt'] - pd.to_timedelta(np.random.randint(1, 365, size=len(fake_data)), unit='D')\n",
    "\n",
    "# Calculate 'days_in_stock' as the difference between today and the stock_date\n",
    "fake_data['days_in_stock'] = (datetime.now() - fake_data['stock_date']).dt.days\n",
    "\n",
    "# View the new feature\n",
    "fake_data[['stock_date', 'days_in_stock']].head()\n"
   ]
  },
  {
   "cell_type": "code",
   "execution_count": null,
   "metadata": {},
   "outputs": [],
   "source": [
    "# Add 'days_in_stock' to the feature set\n",
    "X_train['days_in_stock'] = X_train.index.map(fake_data['days_in_stock'])\n",
    "X_test['days_in_stock'] = X_test.index.map(fake_data['days_in_stock'])\n",
    "\n",
    "\n",
    "# Ensure all columns are cleaned\n",
    "X_train.columns = X_train.columns.str.replace('[^A-Za-z0-9_]+', '_', regex=True)\n",
    "X_test.columns = X_test.columns.str.replace('[^A-Za-z0-9_]+', '_', regex=True)\n"
   ]
  },
  {
   "cell_type": "code",
   "execution_count": null,
   "metadata": {},
   "outputs": [
    {
     "name": "stdout",
     "output_type": "stream",
     "text": [
      "Mean Squared Error (MSE): 6004.680100738007\n",
      "R² Score: 0.5389973177273295\n"
     ]
    }
   ],
   "source": [
    "from sklearn.ensemble import RandomForestRegressor\n",
    "from sklearn.metrics import mean_squared_error, r2_score\n",
    "\n",
    "# Initialize and train the Random Forest Regressor\n",
    "model = RandomForestRegressor(n_estimators=100, random_state=42)\n",
    "model.fit(X_train, y_train)\n",
    "\n",
    "# Make predictions using the test set\n",
    "y_pred = model.predict(X_test)\n",
    "\n",
    "# Evaluate the performance of the model with the new feature\n",
    "mse = mean_squared_error(y_test, y_pred)\n",
    "r2 = r2_score(y_test, y_pred)\n",
    "\n",
    "print(f\"Mean Squared Error (MSE): {mse}\")\n",
    "print(f\"R² Score: {r2}\")\n"
   ]
  },
  {
   "cell_type": "code",
   "execution_count": null,
   "metadata": {},
   "outputs": [
    {
     "data": {
      "text/html": [
       "<div>\n",
       "<style scoped>\n",
       "    .dataframe tbody tr th:only-of-type {\n",
       "        vertical-align: middle;\n",
       "    }\n",
       "\n",
       "    .dataframe tbody tr th {\n",
       "        vertical-align: top;\n",
       "    }\n",
       "\n",
       "    .dataframe thead th {\n",
       "        text-align: right;\n",
       "    }\n",
       "</style>\n",
       "<table border=\"1\" class=\"dataframe\">\n",
       "  <thead>\n",
       "    <tr style=\"text-align: right;\">\n",
       "      <th></th>\n",
       "      <th>price</th>\n",
       "      <th>previous_price</th>\n",
       "      <th>price_change_rate</th>\n",
       "    </tr>\n",
       "  </thead>\n",
       "  <tbody>\n",
       "    <tr>\n",
       "      <th>0</th>\n",
       "      <td>2.99</td>\n",
       "      <td>3.752882</td>\n",
       "      <td>-0.203279</td>\n",
       "    </tr>\n",
       "    <tr>\n",
       "      <th>1</th>\n",
       "      <td>1.79</td>\n",
       "      <td>1.511669</td>\n",
       "      <td>0.184122</td>\n",
       "    </tr>\n",
       "    <tr>\n",
       "      <th>2</th>\n",
       "      <td>2.49</td>\n",
       "      <td>2.252136</td>\n",
       "      <td>0.105617</td>\n",
       "    </tr>\n",
       "    <tr>\n",
       "      <th>3</th>\n",
       "      <td>1.29</td>\n",
       "      <td>1.530914</td>\n",
       "      <td>-0.157366</td>\n",
       "    </tr>\n",
       "    <tr>\n",
       "      <th>4</th>\n",
       "      <td>3.99</td>\n",
       "      <td>4.742587</td>\n",
       "      <td>-0.158687</td>\n",
       "    </tr>\n",
       "  </tbody>\n",
       "</table>\n",
       "</div>"
      ],
      "text/plain": [
       "   price  previous_price  price_change_rate\n",
       "0   2.99        3.752882          -0.203279\n",
       "1   1.79        1.511669           0.184122\n",
       "2   2.49        2.252136           0.105617\n",
       "3   1.29        1.530914          -0.157366\n",
       "4   3.99        4.742587          -0.158687"
      ]
     },
     "execution_count": 27,
     "metadata": {},
     "output_type": "execute_result"
    }
   ],
   "source": [
    "# Simulate a 'previous_price' by adding some random variation to the current price for illustration purposes\n",
    "fake_data['previous_price'] = fake_data['price'] * (1 + np.random.uniform(-0.3, 0.3, size=len(fake_data)))\n",
    "\n",
    "# Calculate the price change rate\n",
    "fake_data['price_change_rate'] = (fake_data['price'] - fake_data['previous_price']) / fake_data['previous_price']\n",
    "\n",
    "# View the new feature\n",
    "fake_data[['price', 'previous_price', 'price_change_rate']].head()\n"
   ]
  },
  {
   "cell_type": "code",
   "execution_count": null,
   "metadata": {},
   "outputs": [
    {
     "data": {
      "text/html": [
       "<div>\n",
       "<style scoped>\n",
       "    .dataframe tbody tr th:only-of-type {\n",
       "        vertical-align: middle;\n",
       "    }\n",
       "\n",
       "    .dataframe tbody tr th {\n",
       "        vertical-align: top;\n",
       "    }\n",
       "\n",
       "    .dataframe thead th {\n",
       "        text-align: right;\n",
       "    }\n",
       "</style>\n",
       "<table border=\"1\" class=\"dataframe\">\n",
       "  <thead>\n",
       "    <tr style=\"text-align: right;\">\n",
       "      <th></th>\n",
       "      <th>price</th>\n",
       "      <th>original_price</th>\n",
       "      <th>is_discounted</th>\n",
       "    </tr>\n",
       "  </thead>\n",
       "  <tbody>\n",
       "    <tr>\n",
       "      <th>0</th>\n",
       "      <td>2.99</td>\n",
       "      <td>3.812024</td>\n",
       "      <td>1</td>\n",
       "    </tr>\n",
       "    <tr>\n",
       "      <th>1</th>\n",
       "      <td>1.79</td>\n",
       "      <td>2.273526</td>\n",
       "      <td>1</td>\n",
       "    </tr>\n",
       "    <tr>\n",
       "      <th>2</th>\n",
       "      <td>2.49</td>\n",
       "      <td>3.049737</td>\n",
       "      <td>1</td>\n",
       "    </tr>\n",
       "    <tr>\n",
       "      <th>3</th>\n",
       "      <td>1.29</td>\n",
       "      <td>1.620149</td>\n",
       "      <td>1</td>\n",
       "    </tr>\n",
       "    <tr>\n",
       "      <th>4</th>\n",
       "      <td>3.99</td>\n",
       "      <td>4.931930</td>\n",
       "      <td>1</td>\n",
       "    </tr>\n",
       "  </tbody>\n",
       "</table>\n",
       "</div>"
      ],
      "text/plain": [
       "   price  original_price  is_discounted\n",
       "0   2.99        3.812024              1\n",
       "1   1.79        2.273526              1\n",
       "2   2.49        3.049737              1\n",
       "3   1.29        1.620149              1\n",
       "4   3.99        4.931930              1"
      ]
     },
     "execution_count": 28,
     "metadata": {},
     "output_type": "execute_result"
    }
   ],
   "source": [
    "# Simulate an 'original_price' for comparison (could be from real data)\n",
    "fake_data['original_price'] = fake_data['price'] * (1 + np.random.uniform(0.05, 0.3, size=len(fake_data)))\n",
    "\n",
    "# Create the discount indicator (1 if discounted, 0 otherwise)\n",
    "fake_data['is_discounted'] = np.where(fake_data['price'] < fake_data['original_price'], 1, 0)\n",
    "\n",
    "# View the new feature\n",
    "fake_data[['price', 'original_price', 'is_discounted']].head()\n"
   ]
  },
  {
   "cell_type": "code",
   "execution_count": null,
   "metadata": {},
   "outputs": [],
   "source": [
    "# Add the new features to the training and test sets\n",
    "X_train['price_change_rate'] = X_train.index.map(fake_data['price_change_rate'])\n",
    "X_test['price_change_rate'] = X_test.index.map(fake_data['price_change_rate'])\n",
    "\n",
    "X_train['is_discounted'] = X_train.index.map(fake_data['is_discounted'])\n",
    "X_test['is_discounted'] = X_test.index.map(fake_data['is_discounted'])\n",
    "\n",
    "# Ensure all columns are cleaned\n",
    "X_train.columns = X_train.columns.str.replace('[^A-Za-z0-9_]+', '_', regex=True)\n",
    "X_test.columns = X_test.columns.str.replace('[^A-Za-z0-9_]+', '_', regex=True)\n"
   ]
  },
  {
   "cell_type": "code",
   "execution_count": null,
   "metadata": {},
   "outputs": [
    {
     "name": "stdout",
     "output_type": "stream",
     "text": [
      "Mean Squared Error (MSE): 6341.351321771218\n",
      "R² Score: 0.513149756602258\n"
     ]
    }
   ],
   "source": [
    "from sklearn.ensemble import RandomForestRegressor\n",
    "from sklearn.metrics import mean_squared_error, r2_score\n",
    "\n",
    "# Initialize and train the Random Forest Regressor with new features\n",
    "model = RandomForestRegressor(n_estimators=100, random_state=42)\n",
    "model.fit(X_train, y_train)\n",
    "\n",
    "# Make predictions using the test set\n",
    "y_pred = model.predict(X_test)\n",
    "\n",
    "# Evaluate the performance of the model with the new features\n",
    "mse = mean_squared_error(y_test, y_pred)\n",
    "r2 = r2_score(y_test, y_pred)\n",
    "\n",
    "print(f\"Mean Squared Error (MSE): {mse}\")\n",
    "print(f\"R² Score: {r2}\")\n"
   ]
  },
  {
   "cell_type": "code",
   "execution_count": null,
   "metadata": {},
   "outputs": [],
   "source": [
    "# Remove the price-related features from the feature set\n",
    "X_train = X_train.drop(columns=['price_change_rate', 'is_discounted'])\n",
    "X_test = X_test.drop(columns=['price_change_rate', 'is_discounted'])\n"
   ]
  },
  {
   "cell_type": "code",
   "execution_count": null,
   "metadata": {},
   "outputs": [
    {
     "data": {
      "text/html": [
       "<div>\n",
       "<style scoped>\n",
       "    .dataframe tbody tr th:only-of-type {\n",
       "        vertical-align: middle;\n",
       "    }\n",
       "\n",
       "    .dataframe tbody tr th {\n",
       "        vertical-align: top;\n",
       "    }\n",
       "\n",
       "    .dataframe thead th {\n",
       "        text-align: right;\n",
       "    }\n",
       "</style>\n",
       "<table border=\"1\" class=\"dataframe\">\n",
       "  <thead>\n",
       "    <tr style=\"text-align: right;\">\n",
       "      <th></th>\n",
       "      <th>available</th>\n",
       "      <th>price</th>\n",
       "      <th>stock_price_interaction</th>\n",
       "    </tr>\n",
       "  </thead>\n",
       "  <tbody>\n",
       "    <tr>\n",
       "      <th>0</th>\n",
       "      <td>48</td>\n",
       "      <td>2.99</td>\n",
       "      <td>143.52</td>\n",
       "    </tr>\n",
       "    <tr>\n",
       "      <th>1</th>\n",
       "      <td>23</td>\n",
       "      <td>1.79</td>\n",
       "      <td>41.17</td>\n",
       "    </tr>\n",
       "    <tr>\n",
       "      <th>2</th>\n",
       "      <td>17</td>\n",
       "      <td>2.49</td>\n",
       "      <td>42.33</td>\n",
       "    </tr>\n",
       "    <tr>\n",
       "      <th>3</th>\n",
       "      <td>62</td>\n",
       "      <td>1.29</td>\n",
       "      <td>79.98</td>\n",
       "    </tr>\n",
       "    <tr>\n",
       "      <th>4</th>\n",
       "      <td>8</td>\n",
       "      <td>3.99</td>\n",
       "      <td>31.92</td>\n",
       "    </tr>\n",
       "  </tbody>\n",
       "</table>\n",
       "</div>"
      ],
      "text/plain": [
       "   available  price  stock_price_interaction\n",
       "0         48   2.99                   143.52\n",
       "1         23   1.79                    41.17\n",
       "2         17   2.49                    42.33\n",
       "3         62   1.29                    79.98\n",
       "4          8   3.99                    31.92"
      ]
     },
     "execution_count": 32,
     "metadata": {},
     "output_type": "execute_result"
    }
   ],
   "source": [
    "# Create the stock-price interaction feature\n",
    "fake_data['stock_price_interaction'] = fake_data['available'] * fake_data['price']\n",
    "\n",
    "# Add the feature to the training and test sets\n",
    "X_train['stock_price_interaction'] = X_train.index.map(fake_data['stock_price_interaction'])\n",
    "X_test['stock_price_interaction'] = X_test.index.map(fake_data['stock_price_interaction'])\n",
    "\n",
    "# Verify the new feature\n",
    "fake_data[['available', 'price', 'stock_price_interaction']].head()\n"
   ]
  },
  {
   "cell_type": "code",
   "execution_count": null,
   "metadata": {},
   "outputs": [
    {
     "ename": "KeyError",
     "evalue": "'category_encoded'",
     "output_type": "error",
     "traceback": [
      "\u001b[1;31m---------------------------------------------------------------------------\u001b[0m",
      "\u001b[1;31mKeyError\u001b[0m                                  Traceback (most recent call last)",
      "File \u001b[1;32m~\\AppData\\Local\\Packages\\PythonSoftwareFoundation.Python.3.12_qbz5n2kfra8p0\\LocalCache\\local-packages\\Python312\\site-packages\\pandas\\core\\indexes\\base.py:3805\u001b[0m, in \u001b[0;36mIndex.get_loc\u001b[1;34m(self, key)\u001b[0m\n\u001b[0;32m   3804\u001b[0m \u001b[39mtry\u001b[39;00m:\n\u001b[1;32m-> 3805\u001b[0m     \u001b[39mreturn\u001b[39;00m \u001b[39mself\u001b[39;49m\u001b[39m.\u001b[39;49m_engine\u001b[39m.\u001b[39;49mget_loc(casted_key)\n\u001b[0;32m   3806\u001b[0m \u001b[39mexcept\u001b[39;00m \u001b[39mKeyError\u001b[39;00m \u001b[39mas\u001b[39;00m err:\n",
      "File \u001b[1;32mindex.pyx:167\u001b[0m, in \u001b[0;36mpandas._libs.index.IndexEngine.get_loc\u001b[1;34m()\u001b[0m\n",
      "File \u001b[1;32mindex.pyx:196\u001b[0m, in \u001b[0;36mpandas._libs.index.IndexEngine.get_loc\u001b[1;34m()\u001b[0m\n",
      "File \u001b[1;32mpandas\\\\_libs\\\\hashtable_class_helper.pxi:7081\u001b[0m, in \u001b[0;36mpandas._libs.hashtable.PyObjectHashTable.get_item\u001b[1;34m()\u001b[0m\n",
      "File \u001b[1;32mpandas\\\\_libs\\\\hashtable_class_helper.pxi:7089\u001b[0m, in \u001b[0;36mpandas._libs.hashtable.PyObjectHashTable.get_item\u001b[1;34m()\u001b[0m\n",
      "\u001b[1;31mKeyError\u001b[0m: 'category_encoded'",
      "\nThe above exception was the direct cause of the following exception:\n",
      "\u001b[1;31mKeyError\u001b[0m                                  Traceback (most recent call last)",
      "Cell \u001b[1;32mIn[33], line 2\u001b[0m\n\u001b[0;32m      1\u001b[0m \u001b[39m# Create stock-category interaction (assuming 'category_encoded' exists)\u001b[39;00m\n\u001b[1;32m----> 2\u001b[0m fake_data[\u001b[39m'\u001b[39m\u001b[39mstock_category_interaction\u001b[39m\u001b[39m'\u001b[39m] \u001b[39m=\u001b[39m fake_data[\u001b[39m'\u001b[39m\u001b[39mavailable\u001b[39m\u001b[39m'\u001b[39m] \u001b[39m*\u001b[39m fake_data[\u001b[39m'\u001b[39;49m\u001b[39mcategory_encoded\u001b[39;49m\u001b[39m'\u001b[39;49m]\n\u001b[0;32m      4\u001b[0m \u001b[39m# Add the feature to the training and test sets\u001b[39;00m\n\u001b[0;32m      5\u001b[0m X_train[\u001b[39m'\u001b[39m\u001b[39mstock_category_interaction\u001b[39m\u001b[39m'\u001b[39m] \u001b[39m=\u001b[39m X_train\u001b[39m.\u001b[39mindex\u001b[39m.\u001b[39mmap(fake_data[\u001b[39m'\u001b[39m\u001b[39mstock_category_interaction\u001b[39m\u001b[39m'\u001b[39m])\n",
      "File \u001b[1;32m~\\AppData\\Local\\Packages\\PythonSoftwareFoundation.Python.3.12_qbz5n2kfra8p0\\LocalCache\\local-packages\\Python312\\site-packages\\pandas\\core\\frame.py:4102\u001b[0m, in \u001b[0;36mDataFrame.__getitem__\u001b[1;34m(self, key)\u001b[0m\n\u001b[0;32m   4100\u001b[0m \u001b[39mif\u001b[39;00m \u001b[39mself\u001b[39m\u001b[39m.\u001b[39mcolumns\u001b[39m.\u001b[39mnlevels \u001b[39m>\u001b[39m \u001b[39m1\u001b[39m:\n\u001b[0;32m   4101\u001b[0m     \u001b[39mreturn\u001b[39;00m \u001b[39mself\u001b[39m\u001b[39m.\u001b[39m_getitem_multilevel(key)\n\u001b[1;32m-> 4102\u001b[0m indexer \u001b[39m=\u001b[39m \u001b[39mself\u001b[39;49m\u001b[39m.\u001b[39;49mcolumns\u001b[39m.\u001b[39;49mget_loc(key)\n\u001b[0;32m   4103\u001b[0m \u001b[39mif\u001b[39;00m is_integer(indexer):\n\u001b[0;32m   4104\u001b[0m     indexer \u001b[39m=\u001b[39m [indexer]\n",
      "File \u001b[1;32m~\\AppData\\Local\\Packages\\PythonSoftwareFoundation.Python.3.12_qbz5n2kfra8p0\\LocalCache\\local-packages\\Python312\\site-packages\\pandas\\core\\indexes\\base.py:3812\u001b[0m, in \u001b[0;36mIndex.get_loc\u001b[1;34m(self, key)\u001b[0m\n\u001b[0;32m   3807\u001b[0m     \u001b[39mif\u001b[39;00m \u001b[39misinstance\u001b[39m(casted_key, \u001b[39mslice\u001b[39m) \u001b[39mor\u001b[39;00m (\n\u001b[0;32m   3808\u001b[0m         \u001b[39misinstance\u001b[39m(casted_key, abc\u001b[39m.\u001b[39mIterable)\n\u001b[0;32m   3809\u001b[0m         \u001b[39mand\u001b[39;00m \u001b[39many\u001b[39m(\u001b[39misinstance\u001b[39m(x, \u001b[39mslice\u001b[39m) \u001b[39mfor\u001b[39;00m x \u001b[39min\u001b[39;00m casted_key)\n\u001b[0;32m   3810\u001b[0m     ):\n\u001b[0;32m   3811\u001b[0m         \u001b[39mraise\u001b[39;00m InvalidIndexError(key)\n\u001b[1;32m-> 3812\u001b[0m     \u001b[39mraise\u001b[39;00m \u001b[39mKeyError\u001b[39;00m(key) \u001b[39mfrom\u001b[39;00m \u001b[39merr\u001b[39;00m\n\u001b[0;32m   3813\u001b[0m \u001b[39mexcept\u001b[39;00m \u001b[39mTypeError\u001b[39;00m:\n\u001b[0;32m   3814\u001b[0m     \u001b[39m# If we have a listlike key, _check_indexing_error will raise\u001b[39;00m\n\u001b[0;32m   3815\u001b[0m     \u001b[39m#  InvalidIndexError. Otherwise we fall through and re-raise\u001b[39;00m\n\u001b[0;32m   3816\u001b[0m     \u001b[39m#  the TypeError.\u001b[39;00m\n\u001b[0;32m   3817\u001b[0m     \u001b[39mself\u001b[39m\u001b[39m.\u001b[39m_check_indexing_error(key)\n",
      "\u001b[1;31mKeyError\u001b[0m: 'category_encoded'"
     ]
    }
   ],
   "source": [
    "# Create stock-category interaction (assuming 'category_encoded' exists)\n",
    "fake_data['stock_category_interaction'] = fake_data['available'] * fake_data['category_encoded']\n",
    "\n",
    "# Add the feature to the training and test sets\n",
    "X_train['stock_category_interaction'] = X_train.index.map(fake_data['stock_category_interaction'])\n",
    "X_test['stock_category_interaction'] = X_test.index.map(fake_data['stock_category_interaction'])\n",
    "\n",
    "# Verify the new feature\n",
    "fake_data[['available', 'category_encoded', 'stock_category_interaction']].head()\n"
   ]
  },
  {
   "cell_type": "code",
   "execution_count": null,
   "metadata": {},
   "outputs": [
    {
     "name": "stdout",
     "output_type": "stream",
     "text": [
      "Category column not found\n"
     ]
    }
   ],
   "source": [
    "from sklearn.preprocessing import LabelEncoder\n",
    "\n",
    "# Check if the 'category' column exists\n",
    "if 'category' in fake_data.columns:\n",
    "    # Initialize LabelEncoder\n",
    "    le = LabelEncoder()\n",
    "    \n",
    "    # Apply label encoding to the 'category' column\n",
    "    fake_data['category_encoded'] = le.fit_transform(fake_data['category'])\n",
    "else:\n",
    "    print(\"Category column not found\")\n"
   ]
  },
  {
   "cell_type": "code",
   "execution_count": null,
   "metadata": {},
   "outputs": [
    {
     "name": "stdout",
     "output_type": "stream",
     "text": [
      "Category column not found\n"
     ]
    }
   ],
   "source": [
    "# Apply one-hot encoding to the 'category' column\n",
    "if 'category' in fake_data.columns:\n",
    "    fake_data = pd.get_dummies(fake_data, columns=['category'], prefix='category')\n",
    "else:\n",
    "    print(\"Category column not found\")\n"
   ]
  },
  {
   "cell_type": "code",
   "execution_count": null,
   "metadata": {},
   "outputs": [
    {
     "name": "stdout",
     "output_type": "stream",
     "text": [
      "Index(['id', 'name', 'expiresAt', 'price', 'weight', 'packagingUnit',\n",
      "       'available', 'days_until_expiry', 'stock_date', 'days_in_stock',\n",
      "       'previous_price', 'price_change_rate', 'original_price',\n",
      "       'is_discounted', 'stock_price_interaction'],\n",
      "      dtype='object')\n"
     ]
    }
   ],
   "source": [
    "# Check the columns in the dataset to identify potential categorical features\n",
    "print(fake_data.columns)\n"
   ]
  },
  {
   "cell_type": "code",
   "execution_count": null,
   "metadata": {},
   "outputs": [
    {
     "data": {
      "text/html": [
       "<div>\n",
       "<style scoped>\n",
       "    .dataframe tbody tr th:only-of-type {\n",
       "        vertical-align: middle;\n",
       "    }\n",
       "\n",
       "    .dataframe tbody tr th {\n",
       "        vertical-align: top;\n",
       "    }\n",
       "\n",
       "    .dataframe thead th {\n",
       "        text-align: right;\n",
       "    }\n",
       "</style>\n",
       "<table border=\"1\" class=\"dataframe\">\n",
       "  <thead>\n",
       "    <tr style=\"text-align: right;\">\n",
       "      <th></th>\n",
       "      <th>name</th>\n",
       "      <th>name_encoded</th>\n",
       "    </tr>\n",
       "  </thead>\n",
       "  <tbody>\n",
       "    <tr>\n",
       "      <th>0</th>\n",
       "      <td>Organic Cherry Tomatoes</td>\n",
       "      <td>216</td>\n",
       "    </tr>\n",
       "    <tr>\n",
       "      <th>1</th>\n",
       "      <td>Sweet Potatoes</td>\n",
       "      <td>318</td>\n",
       "    </tr>\n",
       "    <tr>\n",
       "      <th>2</th>\n",
       "      <td>Broccoli Florets</td>\n",
       "      <td>40</td>\n",
       "    </tr>\n",
       "    <tr>\n",
       "      <th>3</th>\n",
       "      <td>Red Bell Peppers</td>\n",
       "      <td>270</td>\n",
       "    </tr>\n",
       "    <tr>\n",
       "      <th>4</th>\n",
       "      <td>Baby Spinach</td>\n",
       "      <td>13</td>\n",
       "    </tr>\n",
       "  </tbody>\n",
       "</table>\n",
       "</div>"
      ],
      "text/plain": [
       "                      name  name_encoded\n",
       "0  Organic Cherry Tomatoes           216\n",
       "1           Sweet Potatoes           318\n",
       "2         Broccoli Florets            40\n",
       "3         Red Bell Peppers           270\n",
       "4             Baby Spinach            13"
      ]
     },
     "execution_count": 37,
     "metadata": {},
     "output_type": "execute_result"
    }
   ],
   "source": [
    "from sklearn.preprocessing import LabelEncoder\n",
    "\n",
    "# Initialize LabelEncoder and apply it to the 'name' column\n",
    "le = LabelEncoder()\n",
    "fake_data['name_encoded'] = le.fit_transform(fake_data['name'])\n",
    "\n",
    "# Verify the encoding\n",
    "fake_data[['name', 'name_encoded']].head()\n"
   ]
  },
  {
   "cell_type": "code",
   "execution_count": null,
   "metadata": {},
   "outputs": [
    {
     "data": {
      "text/html": [
       "<div>\n",
       "<style scoped>\n",
       "    .dataframe tbody tr th:only-of-type {\n",
       "        vertical-align: middle;\n",
       "    }\n",
       "\n",
       "    .dataframe tbody tr th {\n",
       "        vertical-align: top;\n",
       "    }\n",
       "\n",
       "    .dataframe thead th {\n",
       "        text-align: right;\n",
       "    }\n",
       "</style>\n",
       "<table border=\"1\" class=\"dataframe\">\n",
       "  <thead>\n",
       "    <tr style=\"text-align: right;\">\n",
       "      <th></th>\n",
       "      <th>available</th>\n",
       "      <th>name_encoded</th>\n",
       "      <th>stock_name_interaction</th>\n",
       "    </tr>\n",
       "  </thead>\n",
       "  <tbody>\n",
       "    <tr>\n",
       "      <th>0</th>\n",
       "      <td>48</td>\n",
       "      <td>216</td>\n",
       "      <td>10368</td>\n",
       "    </tr>\n",
       "    <tr>\n",
       "      <th>1</th>\n",
       "      <td>23</td>\n",
       "      <td>318</td>\n",
       "      <td>7314</td>\n",
       "    </tr>\n",
       "    <tr>\n",
       "      <th>2</th>\n",
       "      <td>17</td>\n",
       "      <td>40</td>\n",
       "      <td>680</td>\n",
       "    </tr>\n",
       "    <tr>\n",
       "      <th>3</th>\n",
       "      <td>62</td>\n",
       "      <td>270</td>\n",
       "      <td>16740</td>\n",
       "    </tr>\n",
       "    <tr>\n",
       "      <th>4</th>\n",
       "      <td>8</td>\n",
       "      <td>13</td>\n",
       "      <td>104</td>\n",
       "    </tr>\n",
       "  </tbody>\n",
       "</table>\n",
       "</div>"
      ],
      "text/plain": [
       "   available  name_encoded  stock_name_interaction\n",
       "0         48           216                   10368\n",
       "1         23           318                    7314\n",
       "2         17            40                     680\n",
       "3         62           270                   16740\n",
       "4          8            13                     104"
      ]
     },
     "execution_count": 38,
     "metadata": {},
     "output_type": "execute_result"
    }
   ],
   "source": [
    "# Create stock-name interaction\n",
    "fake_data['stock_name_interaction'] = fake_data['available'] * fake_data['name_encoded']\n",
    "\n",
    "# Add the feature to the training and test sets\n",
    "X_train['stock_name_interaction'] = X_train.index.map(fake_data['stock_name_interaction'])\n",
    "X_test['stock_name_interaction'] = X_test.index.map(fake_data['stock_name_interaction'])\n",
    "\n",
    "# Verify the new feature\n",
    "fake_data[['available', 'name_encoded', 'stock_name_interaction']].head()\n"
   ]
  },
  {
   "cell_type": "code",
   "execution_count": null,
   "metadata": {},
   "outputs": [
    {
     "name": "stdout",
     "output_type": "stream",
     "text": [
      "Mean Squared Error (MSE): 5914.375551291512\n",
      "R² Score: 0.5459303497653131\n"
     ]
    }
   ],
   "source": [
    "from sklearn.ensemble import RandomForestRegressor\n",
    "from sklearn.metrics import mean_squared_error, r2_score\n",
    "\n",
    "# Initialize and train the Random Forest Regressor with the new feature\n",
    "model = RandomForestRegressor(n_estimators=100, random_state=42)\n",
    "model.fit(X_train, y_train)\n",
    "\n",
    "# Make predictions using the test set\n",
    "y_pred = model.predict(X_test)\n",
    "\n",
    "# Evaluate the performance of the model with the new interaction feature\n",
    "mse = mean_squared_error(y_test, y_pred)\n",
    "r2 = r2_score(y_test, y_pred)\n",
    "\n",
    "print(f\"Mean Squared Error (MSE): {mse}\")\n",
    "print(f\"R² Score: {r2}\")\n"
   ]
  },
  {
   "cell_type": "code",
   "execution_count": null,
   "metadata": {},
   "outputs": [],
   "source": [
    "from sklearn.model_selection import GridSearchCV\n",
    "\n",
    "# Define the hyperparameter grid\n",
    "param_grid = {\n",
    "    'n_estimators': [100, 200, 300],\n",
    "    'max_depth': [10, 20, 30, None],\n",
    "    'min_samples_split': [2, 5, 10],\n",
    "    'min_samples_leaf': [1, 2, 4]\n",
    "}\n"
   ]
  },
  {
   "cell_type": "code",
   "execution_count": null,
   "metadata": {},
   "outputs": [
    {
     "name": "stdout",
     "output_type": "stream",
     "text": [
      "Fitting 3 folds for each of 108 candidates, totalling 324 fits\n",
      "Best Parameters: {'max_depth': 10, 'min_samples_leaf': 1, 'min_samples_split': 10, 'n_estimators': 300}\n",
      "Best Score (MSE): 5828.100772657129\n"
     ]
    }
   ],
   "source": [
    "# Initialize the RandomForestRegressor\n",
    "rf_model = RandomForestRegressor(random_state=42)\n",
    "\n",
    "# Initialize GridSearchCV with the model and the hyperparameter grid\n",
    "grid_search = GridSearchCV(estimator=rf_model, param_grid=param_grid, cv=3, scoring='neg_mean_squared_error', n_jobs=-1, verbose=2)\n",
    "\n",
    "# Fit the grid search to the training data\n",
    "grid_search.fit(X_train, y_train)\n",
    "\n",
    "# Get the best parameters and the best score\n",
    "best_params = grid_search.best_params_\n",
    "best_score = grid_search.best_score_\n",
    "\n",
    "print(f\"Best Parameters: {best_params}\")\n",
    "print(f\"Best Score (MSE): {-best_score}\")\n"
   ]
  },
  {
   "cell_type": "code",
   "execution_count": null,
   "metadata": {},
   "outputs": [
    {
     "name": "stdout",
     "output_type": "stream",
     "text": [
      "Tuned Mean Squared Error (MSE): 5831.179581421852\n",
      "Tuned R² Score: 0.5523176284580573\n"
     ]
    }
   ],
   "source": [
    "# Get the best model from the grid search\n",
    "best_rf_model = grid_search.best_estimator_\n",
    "\n",
    "# Make predictions using the test set\n",
    "y_pred_best = best_rf_model.predict(X_test)\n",
    "\n",
    "# Evaluate the performance of the tuned model on the test data\n",
    "mse_best = mean_squared_error(y_test, y_pred_best)\n",
    "r2_best = r2_score(y_test, y_pred_best)\n",
    "\n",
    "# Print the results\n",
    "print(f\"Tuned Mean Squared Error (MSE): {mse_best}\")\n",
    "print(f\"Tuned R² Score: {r2_best}\")\n"
   ]
  },
  {
   "cell_type": "code",
   "execution_count": null,
   "metadata": {},
   "outputs": [],
   "source": [
    "# Flag products for early action\n",
    "urgent_products = fake_data[(fake_data['days_until_expiry'] < 10) & (fake_data['available'] > 50)]\n"
   ]
  },
  {
   "cell_type": "code",
   "execution_count": null,
   "metadata": {},
   "outputs": [
    {
     "name": "stdout",
     "output_type": "stream",
     "text": [
      "                      name  days_until_expiry  priority\n",
      "0  Organic Cherry Tomatoes                 16         4\n",
      "1           Sweet Potatoes                 38         5\n",
      "2         Broccoli Florets                 11         3\n",
      "3         Red Bell Peppers                 86         5\n",
      "4             Baby Spinach                 20         4\n"
     ]
    }
   ],
   "source": [
    "# Define a function to assign priority based on days to expiry\n",
    "def assign_priority(days):\n",
    "    if days < 3:\n",
    "        return 1\n",
    "    elif days < 8:\n",
    "        return 2\n",
    "    elif days < 14:\n",
    "        return 3\n",
    "    elif days < 28:\n",
    "        return 4\n",
    "    else:\n",
    "        return 5\n",
    "\n",
    "# Apply the function to the 'days_until_expiry' column to create the 'priority' column\n",
    "fake_data['priority'] = fake_data['days_until_expiry'].apply(assign_priority)\n",
    "\n",
    "# View the updated dataset with priority\n",
    "print(fake_data[['name', 'days_until_expiry', 'priority']].head())\n"
   ]
  },
  {
   "cell_type": "code",
   "execution_count": null,
   "metadata": {},
   "outputs": [
    {
     "name": "stdout",
     "output_type": "stream",
     "text": [
      "      price  available  name_Adzuki_Beans_Organic_500g  \\\n",
      "966    0.75         97                           False   \n",
      "932   19.31        192                           False   \n",
      "109    1.69         26                           False   \n",
      "714    9.93        142                           False   \n",
      "1200  15.00         35                           False   \n",
      "\n",
      "      name_Almond_Milk_Unsweetened  name_Almonds_Sliced_Blanched_200g  \\\n",
      "966                          False                              False   \n",
      "932                          False                              False   \n",
      "109                          False                              False   \n",
      "714                          False                              False   \n",
      "1200                         False                              False   \n",
      "\n",
      "      name_Apple_Pie_Spice  name_Applewood_Smoked_Bacon  name_Apricots  \\\n",
      "966                  False                        False          False   \n",
      "932                  False                        False          False   \n",
      "109                  False                        False          False   \n",
      "714                  False                        False          False   \n",
      "1200                 False                        False          False   \n",
      "\n",
      "      name_Arugula  name_Asparagus  ...  packagingUnit_kg  packagingUnit_pack  \\\n",
      "966          False           False  ...             False               False   \n",
      "932          False           False  ...             False               False   \n",
      "109          False           False  ...             False               False   \n",
      "714          False           False  ...             False               False   \n",
      "1200         False           False  ...             False               False   \n",
      "\n",
      "      packagingUnit_pcs  packagingUnit_piece  packagingUnit_pouch  \\\n",
      "966               False                False                False   \n",
      "932               False                False                False   \n",
      "109               False                False                False   \n",
      "714               False                False                False   \n",
      "1200              False                False                False   \n",
      "\n",
      "      packagingUnit_punnet  days_in_stock  stock_price_interaction  \\\n",
      "966                  False           -236                    72.75   \n",
      "932                  False            123                  3707.52   \n",
      "109                  False           -319                    43.94   \n",
      "714                  False           -144                  1410.06   \n",
      "1200                 False            171                   525.00   \n",
      "\n",
      "      stock_name_interaction  priority  \n",
      "966                     1261         5  \n",
      "932                    51840         5  \n",
      "109                     3770         5  \n",
      "714                    20306         5  \n",
      "1200                    5670         5  \n",
      "\n",
      "[5 rows x 387 columns]\n"
     ]
    }
   ],
   "source": [
    "# Add the priority column to X_train and X_test\n",
    "X_train['priority'] = X_train.index.map(fake_data['priority'])\n",
    "X_test['priority'] = X_test.index.map(fake_data['priority'])\n",
    "\n",
    "# Ensure all columns are cleaned for model training\n",
    "X_train.columns = X_train.columns.str.replace('[^A-Za-z0-9_]+', '_', regex=True)\n",
    "X_test.columns = X_test.columns.str.replace('[^A-Za-z0-9_]+', '_', regex=True)\n",
    "\n",
    "# Verify the new column has been added\n",
    "print(X_train.head())\n"
   ]
  },
  {
   "cell_type": "code",
   "execution_count": null,
   "metadata": {},
   "outputs": [
    {
     "name": "stdout",
     "output_type": "stream",
     "text": [
      "Mean Squared Error (MSE): 4443.399676752767\n",
      "R² Score: 0.658862897768562\n"
     ]
    }
   ],
   "source": [
    "from sklearn.ensemble import RandomForestRegressor\n",
    "from sklearn.metrics import mean_squared_error, r2_score\n",
    "\n",
    "# Initialize and train the Random Forest Regressor with the new feature\n",
    "model = RandomForestRegressor(n_estimators=100, random_state=42)\n",
    "model.fit(X_train, y_train)\n",
    "\n",
    "# Make predictions using the test set\n",
    "y_pred = model.predict(X_test)\n",
    "\n",
    "# Evaluate the performance of the model with the new feature\n",
    "mse = mean_squared_error(y_test, y_pred)\n",
    "r2 = r2_score(y_test, y_pred)\n",
    "\n",
    "print(f\"Mean Squared Error (MSE): {mse}\")\n",
    "print(f\"R² Score: {r2}\")\n"
   ]
  },
  {
   "cell_type": "code",
   "execution_count": null,
   "metadata": {},
   "outputs": [],
   "source": [
    "from sklearn.model_selection import GridSearchCV\n",
    "\n",
    "# Define the hyperparameter grid\n",
    "param_grid = {\n",
    "    'n_estimators': [100, 200, 300, 500],\n",
    "    'max_depth': [10, 20, 30, None],\n",
    "    'min_samples_split': [2, 5, 10],\n",
    "    'min_samples_leaf': [1, 2, 4]\n",
    "}\n"
   ]
  },
  {
   "cell_type": "code",
   "execution_count": null,
   "metadata": {},
   "outputs": [
    {
     "name": "stdout",
     "output_type": "stream",
     "text": [
      "Fitting 3 folds for each of 144 candidates, totalling 432 fits\n"
     ]
    },
    {
     "name": "stderr",
     "output_type": "stream",
     "text": [
      "C:\\Users\\srisa\\AppData\\Local\\Packages\\PythonSoftwareFoundation.Python.3.12_qbz5n2kfra8p0\\LocalCache\\local-packages\\Python312\\site-packages\\numpy\\ma\\core.py:2820: RuntimeWarning: invalid value encountered in cast\n",
      "  _data = np.array(data, dtype=dtype, copy=copy,\n"
     ]
    },
    {
     "name": "stdout",
     "output_type": "stream",
     "text": [
      "Best Parameters: {'max_depth': 10, 'min_samples_leaf': 1, 'min_samples_split': 10, 'n_estimators': 300}\n",
      "Best Score (MSE): 4913.210882274895\n"
     ]
    }
   ],
   "source": [
    "# Initialize the RandomForestRegressor\n",
    "rf_model = RandomForestRegressor(random_state=42)\n",
    "\n",
    "# Initialize GridSearchCV with the Random Forest model and hyperparameter grid\n",
    "grid_search = GridSearchCV(estimator=rf_model, param_grid=param_grid, cv=3, scoring='neg_mean_squared_error', n_jobs=-1, verbose=2)\n",
    "\n",
    "# Fit the Grid Search model to the training data\n",
    "grid_search.fit(X_train, y_train)\n",
    "\n",
    "# Get the best parameters and score\n",
    "best_params = grid_search.best_params_\n",
    "best_score = grid_search.best_score_\n",
    "\n",
    "print(f\"Best Parameters: {best_params}\")\n",
    "print(f\"Best Score (MSE): {-best_score}\")\n"
   ]
  },
  {
   "cell_type": "code",
   "execution_count": null,
   "metadata": {},
   "outputs": [
    {
     "name": "stdout",
     "output_type": "stream",
     "text": [
      "Tuned Mean Squared Error (MSE): 4474.982461657246\n",
      "Tuned R² Score: 0.6564381643422441\n"
     ]
    }
   ],
   "source": [
    "# Get the best model from the grid search\n",
    "best_rf_model = grid_search.best_estimator_\n",
    "\n",
    "# Make predictions using the test set\n",
    "y_pred_best = best_rf_model.predict(X_test)\n",
    "\n",
    "# Evaluate the performance of the tuned model\n",
    "mse_best = mean_squared_error(y_test, y_pred_best)\n",
    "r2_best = r2_score(y_test, y_pred_best)\n",
    "\n",
    "print(f\"Tuned Mean Squared Error (MSE): {mse_best}\")\n",
    "print(f\"Tuned R² Score: {r2_best}\")\n"
   ]
  },
  {
   "cell_type": "code",
   "execution_count": null,
   "metadata": {},
   "outputs": [
    {
     "name": "stdout",
     "output_type": "stream",
     "text": [
      "   price_available_interaction  priority_available_interaction  \\\n",
      "0                       143.52                             192   \n",
      "1                        41.17                             115   \n",
      "2                        42.33                              51   \n",
      "3                        79.98                             310   \n",
      "4                        31.92                              32   \n",
      "\n",
      "   priority_price_interaction  \n",
      "0                       11.96  \n",
      "1                        8.95  \n",
      "2                        7.47  \n",
      "3                        6.45  \n",
      "4                       15.96  \n"
     ]
    }
   ],
   "source": [
    "# Interaction between price and available stock\n",
    "fake_data['price_available_interaction'] = fake_data['price'] * fake_data['available']\n",
    "\n",
    "# Interaction between priority and available stock\n",
    "fake_data['priority_available_interaction'] = fake_data['priority'] * fake_data['available']\n",
    "\n",
    "# Interaction between priority and price\n",
    "fake_data['priority_price_interaction'] = fake_data['priority'] * fake_data['price']\n",
    "\n",
    "# Verify the new features\n",
    "print(fake_data[['price_available_interaction', 'priority_available_interaction', 'priority_price_interaction']].head())\n"
   ]
  },
  {
   "cell_type": "code",
   "execution_count": null,
   "metadata": {},
   "outputs": [
    {
     "name": "stdout",
     "output_type": "stream",
     "text": [
      "Mean Squared Error (MSE): 4443.399676752767\n",
      "R² Score: 0.658862897768562\n"
     ]
    }
   ],
   "source": [
    "from sklearn.ensemble import RandomForestRegressor\n",
    "from sklearn.metrics import mean_squared_error, r2_score\n",
    "\n",
    "# Initialize and train the Random Forest Regressor with interaction features\n",
    "model = RandomForestRegressor(n_estimators=100, random_state=42)\n",
    "model.fit(X_train, y_train)\n",
    "\n",
    "# Make predictions using the test set\n",
    "y_pred = model.predict(X_test)\n",
    "\n",
    "# Evaluate the performance of the model with interaction features\n",
    "mse = mean_squared_error(y_test, y_pred)\n",
    "r2 = r2_score(y_test, y_pred)\n",
    "\n",
    "print(f\"Mean Squared Error (MSE): {mse}\")\n",
    "print(f\"R² Score: {r2}\")\n"
   ]
  },
  {
   "cell_type": "code",
   "execution_count": null,
   "metadata": {},
   "outputs": [
    {
     "name": "stdout",
     "output_type": "stream",
     "text": [
      "  store_id  store_latitude  store_longitude  distance_from_mannheim_warehouse  \\\n",
      "0     S002         48.8566           2.3522                        449.833596   \n",
      "1     S001         52.5200          13.4050                        482.633349   \n",
      "2     S001         52.5200          13.4050                        482.633349   \n",
      "3     S004         40.7128         -74.0060                       6217.592534   \n",
      "4     S004         40.7128         -74.0060                       6217.592534   \n",
      "\n",
      "   historical_sales  \n",
      "0               483  \n",
      "1               138  \n",
      "2               384  \n",
      "3               379  \n",
      "4               116  \n"
     ]
    }
   ],
   "source": [
    "import random\n",
    "from math import radians, cos, sin, sqrt, atan2\n",
    "\n",
    "# Sample store IDs\n",
    "store_ids = ['S001', 'S002', 'S003', 'S004', 'S005']\n",
    "\n",
    "# Latitude and longitude for store locations\n",
    "store_locations = {\n",
    "    'S001': (52.5200, 13.4050),  # Berlin\n",
    "    'S002': (48.8566, 2.3522),   # Paris\n",
    "    'S003': (51.5074, -0.1278),  # London\n",
    "    'S004': (40.7128, -74.0060), # New York\n",
    "    'S005': (34.0522, -118.2437) # Los Angeles\n",
    "}\n",
    "\n",
    "# Central warehouse location (Mannheim)\n",
    "central_warehouse_mannheim = (49.4875, 8.4660)  # Mannheim's latitude and longitude\n",
    "\n",
    "# Function to simulate store-specific historical sales\n",
    "def generate_sales():\n",
    "    return random.randint(10, 500)\n",
    "\n",
    "# Function to calculate distance between two points using lat/long (Haversine formula)\n",
    "def haversine(lat1, lon1, lat2, lon2):\n",
    "    R = 6371.0  # Radius of Earth in kilometers\n",
    "    dlat = radians(lat2 - lat1)\n",
    "    dlon = radians(lon2 - lon1)\n",
    "    a = sin(dlat / 2)**2 + cos(radians(lat1)) * cos(radians(lat2)) * sin(dlon / 2)**2\n",
    "    c = 2 * atan2(sqrt(a), sqrt(1 - a))\n",
    "    return R * c  # Distance in kilometers\n",
    "\n",
    "# Assign store ID and location to each product\n",
    "fake_data['store_id'] = [random.choice(store_ids) for _ in range(len(fake_data))]\n",
    "fake_data['store_latitude'] = fake_data['store_id'].map(lambda x: store_locations[x][0])\n",
    "fake_data['store_longitude'] = fake_data['store_id'].map(lambda x: store_locations[x][1])\n",
    "\n",
    "# Calculate the distance from Mannheim warehouse for each product\n",
    "fake_data['distance_from_mannheim_warehouse'] = fake_data.apply(\n",
    "    lambda row: haversine(central_warehouse_mannheim[0], central_warehouse_mannheim[1], \n",
    "                          row['store_latitude'], row['store_longitude']), axis=1)\n",
    "\n",
    "# Simulate historical sales data\n",
    "fake_data['historical_sales'] = [generate_sales() for _ in range(len(fake_data))]\n",
    "\n",
    "# Display the updated dataset with new fields\n",
    "print(fake_data[['store_id', 'store_latitude', 'store_longitude', 'distance_from_mannheim_warehouse', 'historical_sales']].head())\n"
   ]
  },
  {
   "cell_type": "code",
   "execution_count": null,
   "metadata": {},
   "outputs": [
    {
     "name": "stdout",
     "output_type": "stream",
     "text": [
      "     Product    Category  Price Weight  Available                  ExpiresAt  \\\n",
      "0      Bread  Vegetables  14.08  1000g         18 2025-07-14 02:45:58.296239   \n",
      "1    Carrots       Fruit  10.14   250g        164 2025-08-14 02:45:58.296239   \n",
      "2    Chicken        Meat   8.04  1000g        163 2025-08-15 02:45:58.296239   \n",
      "3  Cucumbers       Fruit   4.67  1000g        186 2024-10-10 02:45:58.296239   \n",
      "4       Milk  Vegetables  19.60   250g         62 2024-10-15 02:45:58.296239   \n",
      "\n",
      "  Store_ID  Store_Latitude  Store_Longitude  Distance_From_Mannheim  \\\n",
      "0     S003         51.5074          -0.1278              647.550359   \n",
      "1     S002         48.8566           2.3522              449.833596   \n",
      "2     S001         52.5200          13.4050              482.633349   \n",
      "3     S001         52.5200          13.4050              482.633349   \n",
      "4     S004         40.7128         -74.0060             6217.592534   \n",
      "\n",
      "   Historical_Sales  \n",
      "0               333  \n",
      "1                59  \n",
      "2                95  \n",
      "3               270  \n",
      "4               131  \n"
     ]
    }
   ],
   "source": [
    "import pandas as pd\n",
    "import random\n",
    "from math import radians, cos, sin, sqrt, atan2\n",
    "from datetime import datetime, timedelta\n",
    "\n",
    "# List of products and categories\n",
    "products = ['Tomatoes', 'Lemons', 'Cucumbers', 'Milk', 'Cheese', 'Chicken', 'Bread', 'Carrots']\n",
    "categories = ['Fruit', 'Vegetables', 'Dairy', 'Meat', 'Bakery']\n",
    "\n",
    "# Store IDs and their respective locations\n",
    "store_ids = ['S001', 'S002', 'S003', 'S004', 'S005']\n",
    "store_locations = {\n",
    "    'S001': (52.5200, 13.4050),  # Berlin\n",
    "    'S002': (48.8566, 2.3522),   # Paris\n",
    "    'S003': (51.5074, -0.1278),  # London\n",
    "    'S004': (40.7128, -74.0060), # New York\n",
    "    'S005': (34.0522, -118.2437) # Los Angeles\n",
    "}\n",
    "\n",
    "# Central warehouse in Mannheim\n",
    "central_warehouse_mannheim = (49.4875, 8.4660)\n",
    "\n",
    "# Function to calculate distance using Haversine formula\n",
    "def haversine(lat1, lon1, lat2, lon2):\n",
    "    R = 6371.0  # Earth radius in kilometers\n",
    "    dlat = radians(lat2 - lat1)\n",
    "    dlon = radians(lon2 - lon1)\n",
    "    a = sin(dlat / 2)**2 + cos(radians(lat1)) * cos(radians(lat2)) * sin(dlon / 2)**2\n",
    "    c = 2 * atan2(sqrt(a), sqrt(1 - a))\n",
    "    return R * c  # Distance in kilometers\n",
    "\n",
    "# Generate random data with new fields\n",
    "def generate_fake_data(num_rows):\n",
    "    data = []\n",
    "    for _ in range(num_rows):\n",
    "        product = random.choice(products)\n",
    "        category = random.choice(categories)\n",
    "        price = round(random.uniform(0.5, 20), 2)\n",
    "        weight = random.choice([100, 250, 500, 1000])  # in grams\n",
    "        available = random.randint(1, 200)\n",
    "        expiresAt = datetime.now() + timedelta(days=random.randint(1, 365))\n",
    "        store_id = random.choice(store_ids)\n",
    "        store_lat, store_lon = store_locations[store_id]\n",
    "        distance_from_mannheim = haversine(central_warehouse_mannheim[0], central_warehouse_mannheim[1], store_lat, store_lon)\n",
    "        historical_sales = random.randint(10, 500)\n",
    "        data.append([product, category, price, f\"{weight}g\", available, expiresAt, store_id, store_lat, store_lon, distance_from_mannheim, historical_sales])\n",
    "    return pd.DataFrame(data, columns=['Product', 'Category', 'Price', 'Weight', 'Available', 'ExpiresAt', 'Store_ID', 'Store_Latitude', 'Store_Longitude', 'Distance_From_Mannheim', 'Historical_Sales'])\n",
    "\n",
    "# Generate 1000 rows of fake data\n",
    "fake_data = generate_fake_data(5000)\n",
    "print(fake_data.head())\n"
   ]
  },
  {
   "cell_type": "code",
   "execution_count": null,
   "metadata": {},
   "outputs": [
    {
     "ename": "SyntaxError",
     "evalue": "incomplete input (<ipython-input-54-6295911cf8ca>, line 3)",
     "output_type": "error",
     "traceback": [
      "\u001b[1;36m  Cell \u001b[1;32mIn[54], line 3\u001b[1;36m\u001b[0m\n\u001b[1;33m    'Olive Oil',\u001b[0m\n\u001b[1;37m                ^\u001b[0m\n\u001b[1;31mSyntaxError\u001b[0m\u001b[1;31m:\u001b[0m incomplete input\n"
     ]
    }
   ],
   "source": [
    "# Expanded list of products and categories\n",
    "products = ['Tomatoes', 'Lemons', 'Cucumbers', 'Milk', 'Cheese', 'Chicken', 'Bread', 'Carrots', \n",
    "            'Olive Oil',\n"
   ]
  },
  {
   "cell_type": "code",
   "execution_count": null,
   "metadata": {},
   "outputs": [
    {
     "name": "stdout",
     "output_type": "stream",
     "text": [
      "         Product   Category  Price Weight  Available  \\\n",
      "0  Sunflower Oil  Beverages  16.22   500g        155   \n",
      "1         Lemons     Snacks  18.16   250g         66   \n",
      "2           Rice  Beverages  17.68  1000g        131   \n",
      "3        Cookies  Beverages  16.18   250g        147   \n",
      "4        Carrots      Fruit  19.02  1000g         48   \n",
      "\n",
      "                   ExpiresAt  Store_Latitude  Store_Longitude  \\\n",
      "0 2024-09-18 02:51:20.341582       49.733586         7.937481   \n",
      "1 2025-01-31 02:51:20.341582       49.312934         8.671997   \n",
      "2 2025-09-05 02:51:20.341582       49.306178         8.316345   \n",
      "3 2025-08-17 02:51:20.341582       49.481751         9.098352   \n",
      "4 2025-02-19 02:51:20.341582       49.228925         8.128894   \n",
      "\n",
      "   Distance_From_Mannheim  Historical_Sales  \n",
      "0               46.892403               490  \n",
      "1               24.474136               406  \n",
      "2               22.886680               105  \n",
      "3               45.684204               411  \n",
      "4               37.719535               266  \n"
     ]
    }
   ],
   "source": [
    "import random\n",
    "from math import radians, cos, sin, sqrt, atan2\n",
    "import pandas as pd\n",
    "from datetime import datetime, timedelta\n",
    "\n",
    "# Latitude and longitude of Mannheim\n",
    "mannheim_lat, mannheim_lon = 49.4875, 8.4660\n",
    "\n",
    "# Function to simulate random locations around Mannheim (within 50km radius)\n",
    "def generate_random_location(lat, lon, max_distance_km=50):\n",
    "    # Convert latitude and longitude from degrees to radians\n",
    "    lat_radians = radians(lat)\n",
    "    lon_radians = radians(lon)\n",
    "\n",
    "    # Distance factor (random value between 0 and max_distance_km, converted to degrees)\n",
    "    distance_km = random.uniform(0, max_distance_km)\n",
    "    distance_factor = distance_km / 6371  # Earth's radius in km\n",
    "\n",
    "    # Random bearing (angle in radians)\n",
    "    bearing = random.uniform(0, 2 * 3.14159)\n",
    "\n",
    "    # New latitude calculation\n",
    "    new_lat = lat_radians + distance_factor * cos(bearing)\n",
    "\n",
    "    # New longitude calculation (with some adjustments for curvature of Earth)\n",
    "    new_lon = lon_radians + distance_factor * sin(bearing) / cos(lat_radians)\n",
    "\n",
    "    # Convert back to degrees\n",
    "    new_lat_deg = new_lat * (180 / 3.14159)\n",
    "    new_lon_deg = new_lon * (180 / 3.14159)\n",
    "\n",
    "    return new_lat_deg, new_lon_deg\n",
    "\n",
    "# List of products and categories\n",
    "products = ['Tomatoes', 'Lemons', 'Cucumbers', 'Milk', 'Cheese', 'Chicken', 'Bread', 'Carrots', \n",
    "            'Olive Oil', 'Sunflower Oil', 'Pasta', 'Rice', 'Cereal', 'Cookies', 'Chips', 'Soda', 'Juice', 'Tea', 'Coffee']\n",
    "categories = ['Fruit', 'Vegetables', 'Dairy', 'Meat', 'Bakery', 'Oil', 'Grains', 'Snacks', 'Beverages']\n",
    "\n",
    "# Central warehouse in Mannheim\n",
    "central_warehouse_mannheim = (49.4875, 8.4660)\n",
    "\n",
    "# Function to calculate distance using Haversine formula\n",
    "def haversine(lat1, lon1, lat2, lon2):\n",
    "    R = 6371.0  # Earth radius in kilometers\n",
    "    dlat = radians(lat2 - lat1)\n",
    "    dlon = radians(lon2 - lon1)\n",
    "    a = sin(dlat / 2)**2 + cos(radians(lat1)) * cos(radians(lat2)) * sin(dlon / 2)**2\n",
    "    c = 2 * atan2(sqrt(a), sqrt(1 - a))\n",
    "    return R * c  # Distance in kilometers\n",
    "\n",
    "# Generate random data with new fields, focusing on stores around Mannheim\n",
    "def generate_fake_data(num_rows):\n",
    "    data = []\n",
    "    for _ in range(num_rows):\n",
    "        product = random.choice(products)\n",
    "        category = random.choice(categories)\n",
    "        price = round(random.uniform(0.5, 20), 2)\n",
    "        weight = random.choice([100, 250, 500, 1000])  # in grams\n",
    "        available = random.randint(1, 200)\n",
    "        expiresAt = datetime.now() + timedelta(days=random.randint(1, 365))\n",
    "\n",
    "        # Generate random store location around Mannheim\n",
    "        store_lat, store_lon = generate_random_location(mannheim_lat, mannheim_lon)\n",
    "\n",
    "        # Calculate distance from Mannheim warehouse\n",
    "        distance_from_mannheim = haversine(central_warehouse_mannheim[0], central_warehouse_mannheim[1], store_lat, store_lon)\n",
    "\n",
    "        # Simulate historical sales data\n",
    "        historical_sales = random.randint(10, 500)\n",
    "\n",
    "        data.append([product, category, price, f\"{weight}g\", available, expiresAt, store_lat, store_lon, distance_from_mannheim, historical_sales])\n",
    "\n",
    "    return pd.DataFrame(data, columns=['Product', 'Category', 'Price', 'Weight', 'Available', 'ExpiresAt', 'Store_Latitude', 'Store_Longitude', 'Distance_From_Mannheim', 'Historical_Sales'])\n",
    "\n",
    "# Generate 1000 rows of fake data\n",
    "fake_data = generate_fake_data(1000)\n",
    "print(fake_data.head())\n"
   ]
  },
  {
   "cell_type": "code",
   "execution_count": null,
   "metadata": {},
   "outputs": [
    {
     "data": {
      "image/png": "[encoded data removed]",
      "text/plain": [
       "<Figure size 800x600 with 2 Axes>"
      ]
     },
     "metadata": {},
     "output_type": "display_data"
    }
   ],
   "source": [
    "import matplotlib.pyplot as plt\n",
    "\n",
    "# Scatter plot for store locations around Mannheim\n",
    "plt.figure(figsize=(8,6))\n",
    "plt.scatter(fake_data['Store_Longitude'], fake_data['Store_Latitude'], c=fake_data['Distance_From_Mannheim'], cmap='coolwarm', s=50)\n",
    "plt.colorbar(label='Distance from Mannheim (km)')\n",
    "plt.xlabel('Longitude')\n",
    "plt.ylabel('Latitude')\n",
    "plt.title('Store Locations Around Mannheim (within 50km)')\n",
    "plt.show()\n"
   ]
  },
  {
   "cell_type": "code",
   "execution_count": null,
   "metadata": {},
   "outputs": [
    {
     "name": "stdout",
     "output_type": "stream",
     "text": [
      "Mean Squared Error (MSE): 13084.783984499998\n",
      "R² Score: -0.15657053792227993\n"
     ]
    }
   ],
   "source": [
    "from sklearn.ensemble import RandomForestRegressor\n",
    "from sklearn.model_selection import train_test_split\n",
    "from sklearn.metrics import mean_squared_error, r2_score\n",
    "\n",
    "# Define your feature columns (including the new ones)\n",
    "feature_cols = ['Price', 'Available', 'Distance_From_Mannheim', 'Historical_Sales']\n",
    "\n",
    "# Prepare data\n",
    "X = fake_data[feature_cols]\n",
    "y = fake_data['ExpiresAt'].apply(lambda x: (x - datetime.now()).days)  # Target: Days until expiry\n",
    "\n",
    "# Split into train/test sets\n",
    "X_train, X_test, y_train, y_test = train_test_split(X, y, test_size=0.2, random_state=42)\n",
    "\n",
    "# Train a Random Forest Regressor\n",
    "model = RandomForestRegressor(n_estimators=100, random_state=42)\n",
    "model.fit(X_train, y_train)\n",
    "\n",
    "# Predict and evaluate\n",
    "y_pred = model.predict(X_test)\n",
    "mse = mean_squared_error(y_test, y_pred)\n",
    "r2 = r2_score(y_test, y_pred)\n",
    "\n",
    "print(f\"Mean Squared Error (MSE): {mse}\")\n",
    "print(f\"R² Score: {r2}\")\n"
   ]
  },
  {
   "cell_type": "code",
   "execution_count": null,
   "metadata": {},
   "outputs": [
    {
     "ename": "ValueError",
     "evalue": "could not convert string to float: 'Sunflower Oil'",
     "output_type": "error",
     "traceback": [
      "\u001b[1;31m---------------------------------------------------------------------------\u001b[0m",
      "\u001b[1;31mValueError\u001b[0m                                Traceback (most recent call last)",
      "Cell \u001b[1;32mIn[58], line 5\u001b[0m\n\u001b[0;32m      2\u001b[0m \u001b[39mimport\u001b[39;00m \u001b[39mmatplotlib\u001b[39;00m\u001b[39m.\u001b[39;00m\u001b[39mpyplot\u001b[39;00m \u001b[39mas\u001b[39;00m \u001b[39mplt\u001b[39;00m\n\u001b[0;32m      4\u001b[0m \u001b[39m# Correlation matrix\u001b[39;00m\n\u001b[1;32m----> 5\u001b[0m correlation_matrix \u001b[39m=\u001b[39m fake_data\u001b[39m.\u001b[39;49mcorr()\n\u001b[0;32m      7\u001b[0m \u001b[39m# Visualize the correlation matrix\u001b[39;00m\n\u001b[0;32m      8\u001b[0m plt\u001b[39m.\u001b[39mfigure(figsize\u001b[39m=\u001b[39m(\u001b[39m10\u001b[39m, \u001b[39m8\u001b[39m))\n",
      "File \u001b[1;32m~\\AppData\\Local\\Packages\\PythonSoftwareFoundation.Python.3.12_qbz5n2kfra8p0\\LocalCache\\local-packages\\Python312\\site-packages\\pandas\\core\\frame.py:11049\u001b[0m, in \u001b[0;36mDataFrame.corr\u001b[1;34m(self, method, min_periods, numeric_only)\u001b[0m\n\u001b[0;32m  11047\u001b[0m cols \u001b[39m=\u001b[39m data\u001b[39m.\u001b[39mcolumns\n\u001b[0;32m  11048\u001b[0m idx \u001b[39m=\u001b[39m cols\u001b[39m.\u001b[39mcopy()\n\u001b[1;32m> 11049\u001b[0m mat \u001b[39m=\u001b[39m data\u001b[39m.\u001b[39;49mto_numpy(dtype\u001b[39m=\u001b[39;49m\u001b[39mfloat\u001b[39;49m, na_value\u001b[39m=\u001b[39;49mnp\u001b[39m.\u001b[39;49mnan, copy\u001b[39m=\u001b[39;49m\u001b[39mFalse\u001b[39;49;00m)\n\u001b[0;32m  11051\u001b[0m \u001b[39mif\u001b[39;00m method \u001b[39m==\u001b[39m \u001b[39m\"\u001b[39m\u001b[39mpearson\u001b[39m\u001b[39m\"\u001b[39m:\n\u001b[0;32m  11052\u001b[0m     correl \u001b[39m=\u001b[39m libalgos\u001b[39m.\u001b[39mnancorr(mat, minp\u001b[39m=\u001b[39mmin_periods)\n",
      "File \u001b[1;32m~\\AppData\\Local\\Packages\\PythonSoftwareFoundation.Python.3.12_qbz5n2kfra8p0\\LocalCache\\local-packages\\Python312\\site-packages\\pandas\\core\\frame.py:1993\u001b[0m, in \u001b[0;36mDataFrame.to_numpy\u001b[1;34m(self, dtype, copy, na_value)\u001b[0m\n\u001b[0;32m   1991\u001b[0m \u001b[39mif\u001b[39;00m dtype \u001b[39mis\u001b[39;00m \u001b[39mnot\u001b[39;00m \u001b[39mNone\u001b[39;00m:\n\u001b[0;32m   1992\u001b[0m     dtype \u001b[39m=\u001b[39m np\u001b[39m.\u001b[39mdtype(dtype)\n\u001b[1;32m-> 1993\u001b[0m result \u001b[39m=\u001b[39m \u001b[39mself\u001b[39;49m\u001b[39m.\u001b[39;49m_mgr\u001b[39m.\u001b[39;49mas_array(dtype\u001b[39m=\u001b[39;49mdtype, copy\u001b[39m=\u001b[39;49mcopy, na_value\u001b[39m=\u001b[39;49mna_value)\n\u001b[0;32m   1994\u001b[0m \u001b[39mif\u001b[39;00m result\u001b[39m.\u001b[39mdtype \u001b[39mis\u001b[39;00m \u001b[39mnot\u001b[39;00m dtype:\n\u001b[0;32m   1995\u001b[0m     result \u001b[39m=\u001b[39m np\u001b[39m.\u001b[39masarray(result, dtype\u001b[39m=\u001b[39mdtype)\n",
      "File \u001b[1;32m~\\AppData\\Local\\Packages\\PythonSoftwareFoundation.Python.3.12_qbz5n2kfra8p0\\LocalCache\\local-packages\\Python312\\site-packages\\pandas\\core\\internals\\managers.py:1694\u001b[0m, in \u001b[0;36mBlockManager.as_array\u001b[1;34m(self, dtype, copy, na_value)\u001b[0m\n\u001b[0;32m   1692\u001b[0m         arr\u001b[39m.\u001b[39mflags\u001b[39m.\u001b[39mwriteable \u001b[39m=\u001b[39m \u001b[39mFalse\u001b[39;00m\n\u001b[0;32m   1693\u001b[0m \u001b[39melse\u001b[39;00m:\n\u001b[1;32m-> 1694\u001b[0m     arr \u001b[39m=\u001b[39m \u001b[39mself\u001b[39;49m\u001b[39m.\u001b[39;49m_interleave(dtype\u001b[39m=\u001b[39;49mdtype, na_value\u001b[39m=\u001b[39;49mna_value)\n\u001b[0;32m   1695\u001b[0m     \u001b[39m# The underlying data was copied within _interleave, so no need\u001b[39;00m\n\u001b[0;32m   1696\u001b[0m     \u001b[39m# to further copy if copy=True or setting na_value\u001b[39;00m\n\u001b[0;32m   1698\u001b[0m \u001b[39mif\u001b[39;00m na_value \u001b[39mis\u001b[39;00m lib\u001b[39m.\u001b[39mno_default:\n",
      "File \u001b[1;32m~\\AppData\\Local\\Packages\\PythonSoftwareFoundation.Python.3.12_qbz5n2kfra8p0\\LocalCache\\local-packages\\Python312\\site-packages\\pandas\\core\\internals\\managers.py:1753\u001b[0m, in \u001b[0;36mBlockManager._interleave\u001b[1;34m(self, dtype, na_value)\u001b[0m\n\u001b[0;32m   1751\u001b[0m     \u001b[39melse\u001b[39;00m:\n\u001b[0;32m   1752\u001b[0m         arr \u001b[39m=\u001b[39m blk\u001b[39m.\u001b[39mget_values(dtype)\n\u001b[1;32m-> 1753\u001b[0m     result[rl\u001b[39m.\u001b[39;49mindexer] \u001b[39m=\u001b[39m arr\n\u001b[0;32m   1754\u001b[0m     itemmask[rl\u001b[39m.\u001b[39mindexer] \u001b[39m=\u001b[39m \u001b[39m1\u001b[39m\n\u001b[0;32m   1756\u001b[0m \u001b[39mif\u001b[39;00m \u001b[39mnot\u001b[39;00m itemmask\u001b[39m.\u001b[39mall():\n",
      "\u001b[1;31mValueError\u001b[0m: could not convert string to float: 'Sunflower Oil'"
     ]
    }
   ],
   "source": [
    "import seaborn as sns\n",
    "import matplotlib.pyplot as plt\n",
    "\n",
    "# Correlation matrix\n",
    "correlation_matrix = fake_data.corr()\n",
    "\n",
    "# Visualize the correlation matrix\n",
    "plt.figure(figsize=(10, 8))\n",
    "sns.heatmap(correlation_matrix, annot=True, cmap=\"coolwarm\", linewidths=0.5)\n",
    "plt.title('Correlation Matrix')\n",
    "plt.show()\n"
   ]
  },
  {
   "cell_type": "code",
   "execution_count": null,
   "metadata": {},
   "outputs": [
    {
     "data": {
      "image/png": "[encoded data removed]",
      "text/plain": [
       "<Figure size 1000x800 with 2 Axes>"
      ]
     },
     "metadata": {},
     "output_type": "display_data"
    }
   ],
   "source": [
    "import seaborn as sns\n",
    "import matplotlib.pyplot as plt\n",
    "\n",
    "# Select only numeric columns\n",
    "numeric_columns = fake_data.select_dtypes(include=['float64', 'int64'])\n",
    "\n",
    "# Correlation matrix\n",
    "correlation_matrix = numeric_columns.corr()\n",
    "\n",
    "# Visualize the correlation matrix\n",
    "plt.figure(figsize=(10, 8))\n",
    "sns.heatmap(correlation_matrix, annot=True, cmap=\"coolwarm\", linewidths=0.5)\n",
    "plt.title('Correlation Matrix')\n",
    "plt.show()\n"
   ]
  },
  {
   "cell_type": "code",
   "execution_count": null,
   "metadata": {},
   "outputs": [],
   "source": [
    "# Create a priority feature based on 'days_until_expiry'\n",
    "def assign_priority(days):\n",
    "    if days <= 3:\n",
    "        return 1  # Highest priority\n",
    "    elif days <= 8:\n",
    "        return 2\n",
    "    elif days <= 14:\n",
    "        return 3\n",
    "    elif days <= 28:\n",
    "        return 4\n",
    "    else:\n",
    "        return 5  # Lowest priority\n",
    "\n",
    "# Ensure days_until_expiry is present\n",
    "fake_data['days_until_expiry'] = fake_data['ExpiresAt'].apply(lambda x: (x - datetime.now()).days)\n",
    "\n",
    "# Create priority based on days_until_expiry\n",
    "fake_data['Priority'] = fake_data['days_until_expiry'].apply(assign_priority)\n"
   ]
  },
  {
   "cell_type": "code",
   "execution_count": null,
   "metadata": {},
   "outputs": [],
   "source": [
    "fake_data['Priority'] = pd.to_numeric(fake_data['Priority'])\n"
   ]
  },
  {
   "cell_type": "code",
   "execution_count": null,
   "metadata": {},
   "outputs": [
    {
     "data": {
      "image/png": "[encoded data removed]",
      "text/plain": [
       "<Figure size 1000x800 with 2 Axes>"
      ]
     },
     "metadata": {},
     "output_type": "display_data"
    }
   ],
   "source": [
    "# Add priority to the numeric columns\n",
    "numeric_columns = fake_data.select_dtypes(include=['float64', 'int64'])\n",
    "\n",
    "# Correlation matrix\n",
    "correlation_matrix = numeric_columns.corr()\n",
    "\n",
    "# Visualize the correlation matrix with priority included\n",
    "plt.figure(figsize=(10, 8))\n",
    "sns.heatmap(correlation_matrix, annot=True, cmap=\"coolwarm\", linewidths=0.5)\n",
    "plt.title('Correlation Matrix with Priority')\n",
    "plt.show()\n"
   ]
  },
  {
   "cell_type": "code",
   "execution_count": null,
   "metadata": {},
   "outputs": [
    {
     "name": "stdout",
     "output_type": "stream",
     "text": [
      "   day_of_week  month  year  is_weekend  season\n",
      "0            2      9  2024           0       3\n",
      "1            4      1  2025           0       4\n",
      "2            4      9  2025           0       3\n",
      "3            6      8  2025           1       2\n",
      "4            2      2  2025           0       4\n"
     ]
    }
   ],
   "source": [
    "# Ensure ExpiresAt is in datetime format\n",
    "fake_data['ExpiresAt'] = pd.to_datetime(fake_data['ExpiresAt'])\n",
    "\n",
    "# Add time-based features\n",
    "fake_data['day_of_week'] = fake_data['ExpiresAt'].dt.dayofweek  # Monday=0, Sunday=6\n",
    "fake_data['month'] = fake_data['ExpiresAt'].dt.month\n",
    "fake_data['year'] = fake_data['ExpiresAt'].dt.year\n",
    "fake_data['is_weekend'] = fake_data['day_of_week'].apply(lambda x: 1 if x >= 5 else 0)  # 1 for weekend, 0 for weekday\n",
    "\n",
    "# Season feature (Spring=1, Summer=2, Autumn=3, Winter=4)\n",
    "def assign_season(month):\n",
    "    if month in [3, 4, 5]:\n",
    "        return 1  # Spring\n",
    "    elif month in [6, 7, 8]:\n",
    "        return 2  # Summer\n",
    "    elif month in [9, 10, 11]:\n",
    "        return 3  # Autumn\n",
    "    else:\n",
    "        return 4  # Winter\n",
    "\n",
    "fake_data['season'] = fake_data['month'].apply(assign_season)\n",
    "\n",
    "# Display the updated dataset with time-based features\n",
    "print(fake_data[['day_of_week', 'month', 'year', 'is_weekend', 'season']].head())\n"
   ]
  },
  {
   "cell_type": "code",
   "execution_count": null,
   "metadata": {},
   "outputs": [
    {
     "name": "stdout",
     "output_type": "stream",
     "text": [
      "         Product  shelf_life_in_days\n",
      "0  Sunflower Oil                 365\n",
      "1         Lemons                  30\n",
      "2           Rice                 365\n",
      "3        Cookies                  30\n",
      "4        Carrots                  30\n"
     ]
    }
   ],
   "source": [
    "# Assign shelf life based on product categories\n",
    "def assign_shelf_life(product):\n",
    "    if product in ['Milk', 'Cheese', 'Chicken']:  # Perishables\n",
    "        return 7  # 7 days\n",
    "    elif product in ['Olive Oil', 'Sunflower Oil', 'Pasta', 'Rice']:  # Non-perishables\n",
    "        return 365  # 1 year\n",
    "    else:\n",
    "        return 30  # Default shelf life for other products\n",
    "\n",
    "# Add shelf life column\n",
    "fake_data['shelf_life_in_days'] = fake_data['Product'].apply(assign_shelf_life)\n",
    "\n",
    "# Display the dataset with shelf life\n",
    "print(fake_data[['Product', 'shelf_life_in_days']].head())\n"
   ]
  },
  {
   "cell_type": "code",
   "execution_count": null,
   "metadata": {},
   "outputs": [
    {
     "name": "stdout",
     "output_type": "stream",
     "text": [
      "   Store_Latitude  Store_Longitude  temperature  precipitation\n",
      "0       49.733586         7.937481    11.370460       5.710775\n",
      "1       49.312934         8.671997    10.516431       6.362981\n",
      "2       49.306178         8.316345    29.516115       2.027532\n",
      "3       49.481751         9.098352    28.617324       5.305432\n",
      "4       49.228925         8.128894    11.757282       5.920524\n"
     ]
    }
   ],
   "source": [
    "# Dummy weather data (you can replace this with actual data from APIs like OpenWeatherMap)\n",
    "def generate_weather_data():\n",
    "    temperature = random.uniform(10, 30)  # Temperature in Celsius\n",
    "    precipitation = random.uniform(0, 10)  # Precipitation in mm\n",
    "    return temperature, precipitation\n",
    "\n",
    "# Add weather data to the dataset\n",
    "fake_data['temperature'], fake_data['precipitation'] = zip(*[generate_weather_data() for _ in range(len(fake_data))])\n",
    "\n",
    "# Display dataset with weather data\n",
    "print(fake_data[['Store_Latitude', 'Store_Longitude', 'temperature', 'precipitation']].head())\n"
   ]
  },
  {
   "cell_type": "code",
   "execution_count": null,
   "metadata": {},
   "outputs": [
    {
     "name": "stdout",
     "output_type": "stream",
     "text": [
      "Mean Squared Error (MSE): 2090.3333835\n",
      "R² Score: 0.8152343967882572\n"
     ]
    }
   ],
   "source": [
    "# Define the feature columns to include the new features\n",
    "feature_cols = ['Price', 'Available', 'Distance_From_Mannheim', 'Historical_Sales', \n",
    "                'day_of_week', 'is_weekend', 'season', 'shelf_life_in_days', 'temperature', 'precipitation']\n",
    "\n",
    "# Prepare the data\n",
    "X = fake_data[feature_cols]\n",
    "y = fake_data['days_until_expiry']  # Target\n",
    "\n",
    "# Split the data\n",
    "X_train, X_test, y_train, y_test = train_test_split(X, y, test_size=0.2, random_state=42)\n",
    "\n",
    "# Train the model (Random Forest for example)\n",
    "from sklearn.ensemble import RandomForestRegressor\n",
    "model = RandomForestRegressor(n_estimators=100, random_state=42)\n",
    "model.fit(X_train, y_train)\n",
    "\n",
    "# Predict and evaluate\n",
    "y_pred = model.predict(X_test)\n",
    "mse = mean_squared_error(y_test, y_pred)\n",
    "r2 = r2_score(y_test, y_pred)\n",
    "\n",
    "print(f\"Mean Squared Error (MSE): {mse}\")\n",
    "print(f\"R² Score: {r2}\")\n"
   ]
  }
 ],
 "metadata": {
  "language_info": {
   "codemirror_mode": {
    "name": "ipython",
    "version": 3
   },
   "file_extension": ".py",
   "mimetype": "text/x-python",
   "name": "python",
   "nbconvert_exporter": "python",
   "pygments_lexer": "ipython3",
   "version": 3
  }
 },
 "nbformat": 4,
 "nbformat_minor": 2
}
