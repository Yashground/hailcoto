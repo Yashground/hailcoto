{
 "cells": [
  {
   "cell_type": "code",
   "execution_count": null,
   "metadata": {},
   "outputs": [
    {
     "name": "stdout",
     "output_type": "stream",
     "text": [
      "   Product    Category  Price Weight  Available                  ExpiresAt\n",
      "0   Lemons       Dairy  10.57  1000g        198 2024-11-18 11:57:25.351774\n",
      "1   Cheese       Fruit   8.59   100g        134 2025-02-24 11:57:25.351774\n",
      "2   Cheese  Vegetables   3.24   100g        190 2024-12-26 11:57:25.351774\n",
      "3  Carrots       Dairy  11.40   250g        180 2024-10-23 11:57:25.351774\n",
      "4    Bread       Dairy   4.90   100g         19 2025-06-04 11:57:25.351774\n"
     ]
    }
   ],
   "source": [
    "import pandas as pd\n",
    "import random\n",
    "from datetime import datetime, timedelta\n",
    "\n",
    "# List of products and categories\n",
    "products = ['Tomatoes', 'Lemons', 'Cucumbers', 'Milk', 'Cheese', 'Chicken', 'Bread', 'Carrots']\n",
    "categories = ['Fruit', 'Vegetables', 'Dairy', 'Meat', 'Bakery']\n",
    "\n",
    "# Function to generate random data\n",
    "def generate_fake_data(num_rows):\n",
    "    data = []\n",
    "    for _ in range(num_rows):\n",
    "        product = random.choice(products)\n",
    "        category = random.choice(categories)\n",
    "        price = round(random.uniform(0.5, 20), 2)\n",
    "        weight = random.choice([100, 250, 500, 1000])  # in grams\n",
    "        available = random.randint(1, 200)\n",
    "        expiresAt = datetime.now() + timedelta(days=random.randint(1, 365))\n",
    "        data.append([product, category, price, f\"{weight}g\", available, expiresAt])\n",
    "    return pd.DataFrame(data, columns=['Product', 'Category', 'Price', 'Weight', 'Available', 'ExpiresAt'])\n",
    "\n",
    "# Generate 1000 rows of fake data\n",
    "fake_data = generate_fake_data(1000)\n",
    "print(fake_data.head())\n",
    "# Save the fake data as a CSV file\n",
    "fake_data.to_csv('fake_data.csv', index=False)"
   ]
  },
  {
   "cell_type": "code",
   "execution_count": null,
   "metadata": {},
   "outputs": [
    {
     "name": "stdout",
     "output_type": "stream",
     "text": [
      "Data saved to 'fake_data.json'\n"
     ]
    }
   ],
   "source": [
    "import pandas as pd\n",
    "import random\n",
    "from datetime import datetime, timedelta\n",
    "import json\n",
    "\n",
    "# List of products with pre-defined IDs, names, weights, and packaging units\n",
    "products = [\n",
    "    {\"id\": \"8376291\", \"name\": \"Organic Cherry Tomatoes\", \"weight\": \"250g\", \"packagingUnit\": \"punnet\"},\n",
    "    {\"id\": \"5728364\", \"name\": \"Sweet Potatoes\", \"weight\": \"1kg\", \"packagingUnit\": \"bag\"},\n",
    "    {\"id\": \"9126483\", \"name\": \"Broccoli Florets\", \"weight\": \"400g\", \"packagingUnit\": \"bag\"},\n",
    "    {\"id\": \"4537281\", \"name\": \"Red Bell Peppers\", \"weight\": \"500g\", \"packagingUnit\": \"each\"},\n",
    "    {\"id\": \"1928374\", \"name\": \"Baby Spinach\", \"weight\": \"150g\", \"packagingUnit\": \"bag\"},\n",
    "    {\"id\": \"6273849\", \"name\": \"White Onions\", \"weight\": \"1kg\", \"packagingUnit\": \"bag\"},\n",
    "    {\"id\": \"3847295\", \"name\": \"Carrots\", \"weight\": \"1kg\", \"packagingUnit\": \"bag\"},\n",
    "    {\"id\": \"7129384\", \"name\": \"Garlic Bulb\", \"weight\": \"100g\", \"packagingUnit\": \"each\"},\n",
    "    {\"id\": \"2938475\", \"name\": \"Green Zucchini\", \"weight\": \"500g\", \"packagingUnit\": \"each\"},\n",
    "    {\"id\": \"8472931\", \"name\": \"Asparagus\", \"weight\": \"250g\", \"packagingUnit\": \"bunch\"},\n",
    "    # Add more products as needed\n",
    "]\n",
    "\n",
    "# Function to generate random data\n",
    "def generate_fake_data(num_rows):\n",
    "    data = []\n",
    "    for _ in range(num_rows):\n",
    "        product = random.choice(products)\n",
    "        price = round(random.uniform(0.5, 20), 2)\n",
    "        available = random.randint(1, 200)\n",
    "        expiresAt = (datetime.now() + timedelta(days=random.randint(1, 365))).strftime('%Y-%m-%d')\n",
    "        \n",
    "        # Create dictionary for each product in the desired format\n",
    "        item = {\n",
    "            \"id\": product['id'],\n",
    "            \"name\": product['name'],\n",
    "            \"expiresAt\": expiresAt,\n",
    "            \"price\": price,\n",
    "            \"weight\": product['weight'],\n",
    "            \"packagingUnit\": product['packagingUnit'],\n",
    "            \"available\": available\n",
    "        }\n",
    "        data.append(item)\n",
    "    return data\n",
    "\n",
    "# Generate 100 rows of fake data\n",
    "fake_data = generate_fake_data(8000)\n",
    "\n",
    "# Save the data as a JSON file\n",
    "with open('fake_data.json', 'w') as f:\n",
    "    json.dump(fake_data, f, indent=4)\n",
    "\n",
    "print(\"Data saved to 'fake_data.json'\")"
   ]
  },
  {
   "cell_type": "code",
   "execution_count": null,
   "metadata": {},
   "outputs": [],
   "source": [
    "# Import necessary libraries\n",
    "import pandas as pd\n",
    "import numpy as np\n",
    "from datetime import datetime"
   ]
  },
  {
   "cell_type": "code",
   "execution_count": null,
   "metadata": {},
   "outputs": [
    {
     "data": {
      "text/html": [
       "<div>\n",
       "<style scoped>\n",
       "    .dataframe tbody tr th:only-of-type {\n",
       "        vertical-align: middle;\n",
       "    }\n",
       "\n",
       "    .dataframe tbody tr th {\n",
       "        vertical-align: top;\n",
       "    }\n",
       "\n",
       "    .dataframe thead th {\n",
       "        text-align: right;\n",
       "    }\n",
       "</style>\n",
       "<table border=\"1\" class=\"dataframe\">\n",
       "  <thead>\n",
       "    <tr style=\"text-align: right;\">\n",
       "      <th></th>\n",
       "      <th>id</th>\n",
       "      <th>name</th>\n",
       "      <th>expiresAt</th>\n",
       "      <th>price</th>\n",
       "      <th>weight</th>\n",
       "      <th>packagingUnit</th>\n",
       "      <th>available</th>\n",
       "    </tr>\n",
       "  </thead>\n",
       "  <tbody>\n",
       "    <tr>\n",
       "      <th>0</th>\n",
       "      <td>9126483</td>\n",
       "      <td>Broccoli Florets</td>\n",
       "      <td>2024-10-14</td>\n",
       "      <td>1.51</td>\n",
       "      <td>400g</td>\n",
       "      <td>bag</td>\n",
       "      <td>131</td>\n",
       "    </tr>\n",
       "    <tr>\n",
       "      <th>1</th>\n",
       "      <td>8472931</td>\n",
       "      <td>Asparagus</td>\n",
       "      <td>2024-11-16</td>\n",
       "      <td>14.44</td>\n",
       "      <td>250g</td>\n",
       "      <td>bunch</td>\n",
       "      <td>21</td>\n",
       "    </tr>\n",
       "    <tr>\n",
       "      <th>2</th>\n",
       "      <td>5728364</td>\n",
       "      <td>Sweet Potatoes</td>\n",
       "      <td>2025-03-13</td>\n",
       "      <td>15.34</td>\n",
       "      <td>1kg</td>\n",
       "      <td>bag</td>\n",
       "      <td>76</td>\n",
       "    </tr>\n",
       "    <tr>\n",
       "      <th>3</th>\n",
       "      <td>2938475</td>\n",
       "      <td>Green Zucchini</td>\n",
       "      <td>2024-09-20</td>\n",
       "      <td>19.44</td>\n",
       "      <td>500g</td>\n",
       "      <td>each</td>\n",
       "      <td>29</td>\n",
       "    </tr>\n",
       "    <tr>\n",
       "      <th>4</th>\n",
       "      <td>6273849</td>\n",
       "      <td>White Onions</td>\n",
       "      <td>2025-01-12</td>\n",
       "      <td>9.95</td>\n",
       "      <td>1kg</td>\n",
       "      <td>bag</td>\n",
       "      <td>51</td>\n",
       "    </tr>\n",
       "  </tbody>\n",
       "</table>\n",
       "</div>"
      ],
      "text/plain": [
       "        id              name   expiresAt  price weight packagingUnit  \\\n",
       "0  9126483  Broccoli Florets  2024-10-14   1.51   400g           bag   \n",
       "1  8472931         Asparagus  2024-11-16  14.44   250g         bunch   \n",
       "2  5728364    Sweet Potatoes  2025-03-13  15.34    1kg           bag   \n",
       "3  2938475    Green Zucchini  2024-09-20  19.44   500g          each   \n",
       "4  6273849      White Onions  2025-01-12   9.95    1kg           bag   \n",
       "\n",
       "   available  \n",
       "0        131  \n",
       "1         21  \n",
       "2         76  \n",
       "3         29  \n",
       "4         51  "
      ]
     },
     "execution_count": 9,
     "metadata": {},
     "output_type": "execute_result"
    }
   ],
   "source": [
    "# Load the JSON file into a pandas DataFrame\n",
    "file_path = 'fake_data.json'  # Adjust the path if needed\n",
    "fake_data = pd.read_json(file_path)\n",
    "\n",
    "# View the first few rows of the dataset\n",
    "fake_data.head()\n"
   ]
  },
  {
   "cell_type": "code",
   "execution_count": null,
   "metadata": {},
   "outputs": [
    {
     "name": "stdout",
     "output_type": "stream",
     "text": [
      "id                        int64\n",
      "name                     object\n",
      "expiresAt        datetime64[ns]\n",
      "price                   float64\n",
      "weight                   object\n",
      "packagingUnit            object\n",
      "available                 int64\n",
      "dtype: object\n"
     ]
    }
   ],
   "source": [
    "# Convert 'expiresAt' to datetime format\n",
    "fake_data['expiresAt'] = pd.to_datetime(fake_data['expiresAt'])\n",
    "\n",
    "# Verify the conversion\n",
    "print(fake_data.dtypes)"
   ]
  },
  {
   "cell_type": "code",
   "execution_count": null,
   "metadata": {},
   "outputs": [
    {
     "data": {
      "text/html": [
       "<div>\n",
       "<style scoped>\n",
       "    .dataframe tbody tr th:only-of-type {\n",
       "        vertical-align: middle;\n",
       "    }\n",
       "\n",
       "    .dataframe tbody tr th {\n",
       "        vertical-align: top;\n",
       "    }\n",
       "\n",
       "    .dataframe thead th {\n",
       "        text-align: right;\n",
       "    }\n",
       "</style>\n",
       "<table border=\"1\" class=\"dataframe\">\n",
       "  <thead>\n",
       "    <tr style=\"text-align: right;\">\n",
       "      <th></th>\n",
       "      <th>name</th>\n",
       "      <th>expiresAt</th>\n",
       "      <th>days_until_expiry</th>\n",
       "    </tr>\n",
       "  </thead>\n",
       "  <tbody>\n",
       "    <tr>\n",
       "      <th>0</th>\n",
       "      <td>Broccoli Florets</td>\n",
       "      <td>2024-10-14</td>\n",
       "      <td>36</td>\n",
       "    </tr>\n",
       "    <tr>\n",
       "      <th>1</th>\n",
       "      <td>Asparagus</td>\n",
       "      <td>2024-11-16</td>\n",
       "      <td>69</td>\n",
       "    </tr>\n",
       "    <tr>\n",
       "      <th>2</th>\n",
       "      <td>Sweet Potatoes</td>\n",
       "      <td>2025-03-13</td>\n",
       "      <td>186</td>\n",
       "    </tr>\n",
       "    <tr>\n",
       "      <th>3</th>\n",
       "      <td>Green Zucchini</td>\n",
       "      <td>2024-09-20</td>\n",
       "      <td>12</td>\n",
       "    </tr>\n",
       "    <tr>\n",
       "      <th>4</th>\n",
       "      <td>White Onions</td>\n",
       "      <td>2025-01-12</td>\n",
       "      <td>126</td>\n",
       "    </tr>\n",
       "  </tbody>\n",
       "</table>\n",
       "</div>"
      ],
      "text/plain": [
       "               name  expiresAt  days_until_expiry\n",
       "0  Broccoli Florets 2024-10-14                 36\n",
       "1         Asparagus 2024-11-16                 69\n",
       "2    Sweet Potatoes 2025-03-13                186\n",
       "3    Green Zucchini 2024-09-20                 12\n",
       "4      White Onions 2025-01-12                126"
      ]
     },
     "execution_count": 11,
     "metadata": {},
     "output_type": "execute_result"
    }
   ],
   "source": [
    "# Calculate 'days_until_expiry'\n",
    "fake_data['days_until_expiry'] = (fake_data['expiresAt'] - datetime.now()).dt.days\n",
    "\n",
    "# Check the updated DataFrame\n",
    "fake_data[['name', 'expiresAt', 'days_until_expiry']].head()"
   ]
  },
  {
   "cell_type": "code",
   "execution_count": null,
   "metadata": {},
   "outputs": [
    {
     "name": "stdout",
     "output_type": "stream",
     "text": [
      "id                   0\n",
      "name                 0\n",
      "expiresAt            0\n",
      "price                0\n",
      "weight               0\n",
      "packagingUnit        0\n",
      "available            0\n",
      "days_until_expiry    0\n",
      "dtype: int64\n"
     ]
    }
   ],
   "source": [
    "# Check for missing values\n",
    "print(fake_data.isnull().sum())"
   ]
  },
  {
   "cell_type": "code",
   "execution_count": null,
   "metadata": {},
   "outputs": [
    {
     "name": "stdout",
     "output_type": "stream",
     "text": [
      "Collecting matplotlib\n",
      "  Using cached matplotlib-3.9.2-cp312-cp312-win_amd64.whl.metadata (11 kB)\n",
      "Collecting seaborn\n",
      "  Using cached seaborn-0.13.2-py3-none-any.whl.metadata (5.4 kB)\n",
      "Collecting contourpy>=1.0.1 (from matplotlib)\n",
      "  Using cached contourpy-1.3.0-cp312-cp312-win_amd64.whl.metadata (5.4 kB)\n",
      "Collecting cycler>=0.10 (from matplotlib)\n",
      "  Using cached cycler-0.12.1-py3-none-any.whl.metadata (3.8 kB)\n",
      "Collecting fonttools>=4.22.0 (from matplotlib)\n",
      "  Using cached fonttools-4.53.1-cp312-cp312-win_amd64.whl.metadata (165 kB)\n",
      "Collecting kiwisolver>=1.3.1 (from matplotlib)\n",
      "  Using cached kiwisolver-1.4.7-cp312-cp312-win_amd64.whl.metadata (6.4 kB)\n",
      "Requirement already satisfied: numpy>=1.23 in c:\\users\\srisa\\gentrain\\env_name\\lib\\site-packages (from matplotlib) (2.1.1)\n",
      "Requirement already satisfied: packaging>=20.0 in c:\\users\\srisa\\gentrain\\env_name\\lib\\site-packages (from matplotlib) (24.1)\n",
      "Collecting pillow>=8 (from matplotlib)\n",
      "  Using cached pillow-10.4.0-cp312-cp312-win_amd64.whl.metadata (9.3 kB)\n",
      "Collecting pyparsing>=2.3.1 (from matplotlib)\n",
      "  Using cached pyparsing-3.1.4-py3-none-any.whl.metadata (5.1 kB)\n",
      "Requirement already satisfied: python-dateutil>=2.7 in c:\\users\\srisa\\gentrain\\env_name\\lib\\site-packages (from matplotlib) (2.9.0.post0)\n",
      "Requirement already satisfied: pandas>=1.2 in c:\\users\\srisa\\gentrain\\env_name\\lib\\site-packages (from seaborn) (2.2.2)\n",
      "Requirement already satisfied: pytz>=2020.1 in c:\\users\\srisa\\gentrain\\env_name\\lib\\site-packages (from pandas>=1.2->seaborn) (2024.1)\n",
      "Requirement already satisfied: tzdata>=2022.7 in c:\\users\\srisa\\gentrain\\env_name\\lib\\site-packages (from pandas>=1.2->seaborn) (2024.1)\n",
      "Requirement already satisfied: six>=1.5 in c:\\users\\srisa\\gentrain\\env_name\\lib\\site-packages (from python-dateutil>=2.7->matplotlib) (1.16.0)\n",
      "Using cached matplotlib-3.9.2-cp312-cp312-win_amd64.whl (7.8 MB)\n",
      "Using cached seaborn-0.13.2-py3-none-any.whl (294 kB)\n",
      "Using cached contourpy-1.3.0-cp312-cp312-win_amd64.whl (218 kB)\n",
      "Using cached cycler-0.12.1-py3-none-any.whl (8.3 kB)\n",
      "Using cached fonttools-4.53.1-cp312-cp312-win_amd64.whl (2.2 MB)\n",
      "Using cached kiwisolver-1.4.7-cp312-cp312-win_amd64.whl (55 kB)\n",
      "Using cached pillow-10.4.0-cp312-cp312-win_amd64.whl (2.6 MB)\n",
      "Using cached pyparsing-3.1.4-py3-none-any.whl (104 kB)\n",
      "Installing collected packages: pyparsing, pillow, kiwisolver, fonttools, cycler, contourpy, matplotlib, seaborn\n",
      "Successfully installed contourpy-1.3.0 cycler-0.12.1 fonttools-4.53.1 kiwisolver-1.4.7 matplotlib-3.9.2 pillow-10.4.0 pyparsing-3.1.4 seaborn-0.13.2\n"
     ]
    }
   ],
   "source": [
    "!pip install matplotlib seaborn"
   ]
  },
  {
   "cell_type": "code",
   "execution_count": null,
   "metadata": {},
   "outputs": [
    {
     "data": {
      "image/png": "[encoded data removed]",
      "text/plain": [
       "<Figure size 640x480 with 1 Axes>"
      ]
     },
     "metadata": {},
     "output_type": "display_data"
    }
   ],
   "source": [
    "import matplotlib.pyplot as plt\n",
    "import seaborn as sns\n",
    "\n",
    "# Distribution of 'days_until_expiry'\n",
    "sns.histplot(fake_data['days_until_expiry'], bins=30)\n",
    "plt.title('Distribution of Days Until Expiry')\n",
    "plt.xlabel('Days Until Expiry')\n",
    "plt.ylabel('Frequency')\n",
    "plt.show()"
   ]
  },
  {
   "cell_type": "code",
   "execution_count": null,
   "metadata": {},
   "outputs": [
    {
     "data": {
      "text/html": [
       "<div>\n",
       "<style scoped>\n",
       "    .dataframe tbody tr th:only-of-type {\n",
       "        vertical-align: middle;\n",
       "    }\n",
       "\n",
       "    .dataframe tbody tr th {\n",
       "        vertical-align: top;\n",
       "    }\n",
       "\n",
       "    .dataframe thead th {\n",
       "        text-align: right;\n",
       "    }\n",
       "</style>\n",
       "<table border=\"1\" class=\"dataframe\">\n",
       "  <thead>\n",
       "    <tr style=\"text-align: right;\">\n",
       "      <th></th>\n",
       "      <th>price</th>\n",
       "      <th>available</th>\n",
       "      <th>days_until_expiry</th>\n",
       "      <th>name_Asparagus</th>\n",
       "      <th>name_Baby Spinach</th>\n",
       "      <th>name_Broccoli Florets</th>\n",
       "      <th>name_Carrots</th>\n",
       "      <th>name_Garlic Bulb</th>\n",
       "      <th>name_Green Zucchini</th>\n",
       "      <th>name_Organic Cherry Tomatoes</th>\n",
       "      <th>name_Red Bell Peppers</th>\n",
       "      <th>name_Sweet Potatoes</th>\n",
       "      <th>name_White Onions</th>\n",
       "      <th>packagingUnit_bag</th>\n",
       "      <th>packagingUnit_bunch</th>\n",
       "      <th>packagingUnit_each</th>\n",
       "      <th>packagingUnit_punnet</th>\n",
       "    </tr>\n",
       "  </thead>\n",
       "  <tbody>\n",
       "    <tr>\n",
       "      <th>0</th>\n",
       "      <td>1.51</td>\n",
       "      <td>131</td>\n",
       "      <td>36</td>\n",
       "      <td>False</td>\n",
       "      <td>False</td>\n",
       "      <td>True</td>\n",
       "      <td>False</td>\n",
       "      <td>False</td>\n",
       "      <td>False</td>\n",
       "      <td>False</td>\n",
       "      <td>False</td>\n",
       "      <td>False</td>\n",
       "      <td>False</td>\n",
       "      <td>True</td>\n",
       "      <td>False</td>\n",
       "      <td>False</td>\n",
       "      <td>False</td>\n",
       "    </tr>\n",
       "    <tr>\n",
       "      <th>1</th>\n",
       "      <td>14.44</td>\n",
       "      <td>21</td>\n",
       "      <td>69</td>\n",
       "      <td>True</td>\n",
       "      <td>False</td>\n",
       "      <td>False</td>\n",
       "      <td>False</td>\n",
       "      <td>False</td>\n",
       "      <td>False</td>\n",
       "      <td>False</td>\n",
       "      <td>False</td>\n",
       "      <td>False</td>\n",
       "      <td>False</td>\n",
       "      <td>False</td>\n",
       "      <td>True</td>\n",
       "      <td>False</td>\n",
       "      <td>False</td>\n",
       "    </tr>\n",
       "    <tr>\n",
       "      <th>2</th>\n",
       "      <td>15.34</td>\n",
       "      <td>76</td>\n",
       "      <td>186</td>\n",
       "      <td>False</td>\n",
       "      <td>False</td>\n",
       "      <td>False</td>\n",
       "      <td>False</td>\n",
       "      <td>False</td>\n",
       "      <td>False</td>\n",
       "      <td>False</td>\n",
       "      <td>False</td>\n",
       "      <td>True</td>\n",
       "      <td>False</td>\n",
       "      <td>True</td>\n",
       "      <td>False</td>\n",
       "      <td>False</td>\n",
       "      <td>False</td>\n",
       "    </tr>\n",
       "    <tr>\n",
       "      <th>3</th>\n",
       "      <td>19.44</td>\n",
       "      <td>29</td>\n",
       "      <td>12</td>\n",
       "      <td>False</td>\n",
       "      <td>False</td>\n",
       "      <td>False</td>\n",
       "      <td>False</td>\n",
       "      <td>False</td>\n",
       "      <td>True</td>\n",
       "      <td>False</td>\n",
       "      <td>False</td>\n",
       "      <td>False</td>\n",
       "      <td>False</td>\n",
       "      <td>False</td>\n",
       "      <td>False</td>\n",
       "      <td>True</td>\n",
       "      <td>False</td>\n",
       "    </tr>\n",
       "    <tr>\n",
       "      <th>4</th>\n",
       "      <td>9.95</td>\n",
       "      <td>51</td>\n",
       "      <td>126</td>\n",
       "      <td>False</td>\n",
       "      <td>False</td>\n",
       "      <td>False</td>\n",
       "      <td>False</td>\n",
       "      <td>False</td>\n",
       "      <td>False</td>\n",
       "      <td>False</td>\n",
       "      <td>False</td>\n",
       "      <td>False</td>\n",
       "      <td>True</td>\n",
       "      <td>True</td>\n",
       "      <td>False</td>\n",
       "      <td>False</td>\n",
       "      <td>False</td>\n",
       "    </tr>\n",
       "  </tbody>\n",
       "</table>\n",
       "</div>"
      ],
      "text/plain": [
       "   price  available  days_until_expiry  name_Asparagus  name_Baby Spinach  \\\n",
       "0   1.51        131                 36           False              False   \n",
       "1  14.44         21                 69            True              False   \n",
       "2  15.34         76                186           False              False   \n",
       "3  19.44         29                 12           False              False   \n",
       "4   9.95         51                126           False              False   \n",
       "\n",
       "   name_Broccoli Florets  name_Carrots  name_Garlic Bulb  name_Green Zucchini  \\\n",
       "0                   True         False             False                False   \n",
       "1                  False         False             False                False   \n",
       "2                  False         False             False                False   \n",
       "3                  False         False             False                 True   \n",
       "4                  False         False             False                False   \n",
       "\n",
       "   name_Organic Cherry Tomatoes  name_Red Bell Peppers  name_Sweet Potatoes  \\\n",
       "0                         False                  False                False   \n",
       "1                         False                  False                False   \n",
       "2                         False                  False                 True   \n",
       "3                         False                  False                False   \n",
       "4                         False                  False                False   \n",
       "\n",
       "   name_White Onions  packagingUnit_bag  packagingUnit_bunch  \\\n",
       "0              False               True                False   \n",
       "1              False              False                 True   \n",
       "2              False               True                False   \n",
       "3              False              False                False   \n",
       "4               True               True                False   \n",
       "\n",
       "   packagingUnit_each  packagingUnit_punnet  \n",
       "0               False                 False  \n",
       "1               False                 False  \n",
       "2               False                 False  \n",
       "3                True                 False  \n",
       "4               False                 False  "
      ]
     },
     "execution_count": 16,
     "metadata": {},
     "output_type": "execute_result"
    }
   ],
   "source": [
    " #Apply one-hot encoding to 'name' and 'packagingUnit'\n",
    "fake_data_encoded = pd.get_dummies(fake_data, columns=['name', 'packagingUnit'])\n",
    "\n",
    "# Drop unnecessary columns ('id' since it doesn't contribute to the prediction)\n",
    "fake_data_encoded = fake_data_encoded.drop(columns=['id', 'weight', 'expiresAt'])\n",
    "\n",
    "# Display the first few rows of the encoded data\n",
    "fake_data_encoded.head()"
   ]
  },
  {
   "cell_type": "code",
   "execution_count": null,
   "metadata": {},
   "outputs": [],
   "source": [
    "# Define the features (X) and target (y)\n",
    "X = fake_data_encoded.drop(columns=['days_until_expiry'])\n",
    "y = fake_data_encoded['days_until_expiry']"
   ]
  },
  {
   "cell_type": "code",
   "execution_count": null,
   "metadata": {},
   "outputs": [
    {
     "name": "stdout",
     "output_type": "stream",
     "text": [
      "Collecting scikit-learn\n",
      "  Using cached scikit_learn-1.5.1-cp312-cp312-win_amd64.whl.metadata (12 kB)\n",
      "Requirement already satisfied: numpy>=1.19.5 in c:\\users\\srisa\\gentrain\\env_name\\lib\\site-packages (from scikit-learn) (2.1.1)\n",
      "Collecting scipy>=1.6.0 (from scikit-learn)\n",
      "  Using cached scipy-1.14.1-cp312-cp312-win_amd64.whl.metadata (60 kB)\n",
      "Collecting joblib>=1.2.0 (from scikit-learn)\n",
      "  Using cached joblib-1.4.2-py3-none-any.whl.metadata (5.4 kB)\n",
      "Collecting threadpoolctl>=3.1.0 (from scikit-learn)\n",
      "  Using cached threadpoolctl-3.5.0-py3-none-any.whl.metadata (13 kB)\n",
      "Using cached scikit_learn-1.5.1-cp312-cp312-win_amd64.whl (10.9 MB)\n",
      "Using cached joblib-1.4.2-py3-none-any.whl (301 kB)\n",
      "Using cached scipy-1.14.1-cp312-cp312-win_amd64.whl (44.5 MB)\n",
      "Using cached threadpoolctl-3.5.0-py3-none-any.whl (18 kB)\n",
      "Installing collected packages: threadpoolctl, scipy, joblib, scikit-learn\n",
      "Successfully installed joblib-1.4.2 scikit-learn-1.5.1 scipy-1.14.1 threadpoolctl-3.5.0\n"
     ]
    }
   ],
   "source": [
    "!pip install scikit-learn\n"
   ]
  },
  {
   "cell_type": "code",
   "execution_count": null,
   "metadata": {},
   "outputs": [
    {
     "name": "stdout",
     "output_type": "stream",
     "text": [
      "Training set shape: (6400, 16), Test set shape: (1600, 16)\n"
     ]
    }
   ],
   "source": [
    "from sklearn.model_selection import train_test_split\n",
    "\n",
    "# Split the data into training and testing sets (80% train, 20% test)\n",
    "X_train, X_test, y_train, y_test = train_test_split(X, y, test_size=0.2, random_state=42)\n",
    "\n",
    "# Display the shapes of the train and test sets\n",
    "print(f\"Training set shape: {X_train.shape}, Test set shape: {X_test.shape}\")"
   ]
  },
  {
   "cell_type": "code",
   "execution_count": null,
   "metadata": {},
   "outputs": [],
   "source": [
    "from sklearn.ensemble import RandomForestRegressor\n",
    "from sklearn.metrics import mean_squared_error, r2_score\n",
    "\n",
    "# Initialize the Random Forest Regressor\n",
    "model = RandomForestRegressor(n_estimators=100, random_state=42)\n",
    "\n",
    "# Train the model on the training data\n",
    "model.fit(X_train, y_train)\n",
    "\n",
    "# Make predictions on the test data\n",
    "y_pred = model.predict(X_test)"
   ]
  },
  {
   "cell_type": "code",
   "execution_count": null,
   "metadata": {},
   "outputs": [
    {
     "name": "stdout",
     "output_type": "stream",
     "text": [
      "Mean Squared Error (MSE): 12612.321707957128\n",
      "R² Score: -0.14430067879670316\n"
     ]
    }
   ],
   "source": [
    "# Evaluate the model performance\n",
    "mse = mean_squared_error(y_test, y_pred)\n",
    "r2 = r2_score(y_test, y_pred)\n",
    "\n",
    "# Print evaluation metrics\n",
    "print(f\"Mean Squared Error (MSE): {mse}\")\n",
    "print(f\"R² Score: {r2}\")"
   ]
  },
  {
   "cell_type": "code",
   "execution_count": null,
   "metadata": {},
   "outputs": [
    {
     "data": {
      "text/html": [
       "<div>\n",
       "<style scoped>\n",
       "    .dataframe tbody tr th:only-of-type {\n",
       "        vertical-align: middle;\n",
       "    }\n",
       "\n",
       "    .dataframe tbody tr th {\n",
       "        vertical-align: top;\n",
       "    }\n",
       "\n",
       "    .dataframe thead th {\n",
       "        text-align: right;\n",
       "    }\n",
       "</style>\n",
       "<table border=\"1\" class=\"dataframe\">\n",
       "  <thead>\n",
       "    <tr style=\"text-align: right;\">\n",
       "      <th></th>\n",
       "      <th>stock_date</th>\n",
       "      <th>days_in_stock</th>\n",
       "    </tr>\n",
       "  </thead>\n",
       "  <tbody>\n",
       "    <tr>\n",
       "      <th>0</th>\n",
       "      <td>2023-12-05</td>\n",
       "      <td>277</td>\n",
       "    </tr>\n",
       "    <tr>\n",
       "      <th>1</th>\n",
       "      <td>2024-06-25</td>\n",
       "      <td>74</td>\n",
       "    </tr>\n",
       "    <tr>\n",
       "      <th>2</th>\n",
       "      <td>2024-04-10</td>\n",
       "      <td>150</td>\n",
       "    </tr>\n",
       "    <tr>\n",
       "      <th>3</th>\n",
       "      <td>2023-09-26</td>\n",
       "      <td>347</td>\n",
       "    </tr>\n",
       "    <tr>\n",
       "      <th>4</th>\n",
       "      <td>2024-02-27</td>\n",
       "      <td>193</td>\n",
       "    </tr>\n",
       "  </tbody>\n",
       "</table>\n",
       "</div>"
      ],
      "text/plain": [
       "  stock_date  days_in_stock\n",
       "0 2023-12-05            277\n",
       "1 2024-06-25             74\n",
       "2 2024-04-10            150\n",
       "3 2023-09-26            347\n",
       "4 2024-02-27            193"
      ]
     },
     "execution_count": 23,
     "metadata": {},
     "output_type": "execute_result"
    }
   ],
   "source": [
    "import numpy as np\n",
    "from datetime import timedelta\n",
    "\n",
    "# Assuming 'stock_date' is not available, we simulate it by generating random stock dates.\n",
    "# Simulating a 'stock_date' column where products were stocked between 1 and 365 days ago.\n",
    "fake_data['stock_date'] = fake_data['expiresAt'] - pd.to_timedelta(np.random.randint(1, 365, size=len(fake_data)), unit='D')\n",
    "\n",
    "# Calculate 'days_in_stock' as the difference between today and the stock_date\n",
    "fake_data['days_in_stock'] = (datetime.now() - fake_data['stock_date']).dt.days\n",
    "\n",
    "# View the new feature\n",
    "fake_data[['stock_date', 'days_in_stock']].head()"
   ]
  },
  {
   "cell_type": "code",
   "execution_count": null,
   "metadata": {},
   "outputs": [
    {
     "name": "stdout",
     "output_type": "stream",
     "text": [
      "Index(['id', 'name', 'expiresAt', 'price', 'weight', 'packagingUnit',\n",
      "       'available', 'days_until_expiry', 'stock_date', 'days_in_stock'],\n",
      "      dtype='object')\n"
     ]
    }
   ],
   "source": [
    "print(fake_data.columns)"
   ]
  },
  {
   "cell_type": "code",
   "execution_count": null,
   "metadata": {},
   "outputs": [
    {
     "name": "stdout",
     "output_type": "stream",
     "text": [
      "   days_until_expiry priority\n",
      "0                 36        5\n",
      "1                 69        5\n",
      "2                186        5\n",
      "3                 12        3\n",
      "4                126        5\n"
     ]
    }
   ],
   "source": [
    "# Adding priority based on 'days_until_expiry'\n",
    "conditions = [\n",
    "    (fake_data['days_until_expiry'] <= 3),\n",
    "    (fake_data['days_until_expiry'] > 3) & (fake_data['days_until_expiry'] <= 8),\n",
    "    (fake_data['days_until_expiry'] > 8) & (fake_data['days_until_expiry'] <= 14),\n",
    "    (fake_data['days_until_expiry'] > 14) & (fake_data['days_until_expiry'] <= 28),\n",
    "    (fake_data['days_until_expiry'] > 28)\n",
    "]\n",
    "priorities = [1, 2, 3, 4, 5]  # Priority levels\n",
    "fake_data['priority'] = pd.cut(fake_data['days_until_expiry'], bins=[-1, 3, 8, 14, 28, float('inf')], labels=priorities)\n",
    "\n",
    "# Check the result\n",
    "print(fake_data[['days_until_expiry', 'priority']].head())\n"
   ]
  },
  {
   "cell_type": "code",
   "execution_count": null,
   "metadata": {},
   "outputs": [
    {
     "name": "stdout",
     "output_type": "stream",
     "text": [
      "   price_available_interaction  priority_available_interaction\n",
      "0                       197.81                           655.0\n",
      "1                       303.24                           105.0\n",
      "2                      1165.84                           380.0\n",
      "3                       563.76                            87.0\n",
      "4                       507.45                           255.0\n"
     ]
    }
   ],
   "source": [
    "# Adding interaction between price and available\n",
    "fake_data['price_available_interaction'] = fake_data['price'] * fake_data['available']\n",
    "\n",
    "# Adding interaction between priority and available stock\n",
    "fake_data['priority_available_interaction'] = fake_data['priority'].astype(float) * fake_data['available']\n",
    "\n",
    "# Check the result\n",
    "print(fake_data[['price_available_interaction', 'priority_available_interaction']].head())\n"
   ]
  },
  {
   "cell_type": "code",
   "execution_count": null,
   "metadata": {},
   "outputs": [
    {
     "name": "stdout",
     "output_type": "stream",
     "text": [
      "   day_of_week  is_weekend  season\n",
      "0            1           0       4\n",
      "1            1           0       2\n",
      "2            2           0       1\n",
      "3            1           0       3\n",
      "4            1           0       4\n"
     ]
    }
   ],
   "source": [
    "# Ensure stock_date is in datetime format\n",
    "fake_data['stock_date'] = pd.to_datetime(fake_data['stock_date'])\n",
    "\n",
    "# Add time-based features\n",
    "fake_data['day_of_week'] = fake_data['stock_date'].dt.dayofweek  # Monday=0, Sunday=6\n",
    "fake_data['is_weekend'] = fake_data['day_of_week'].apply(lambda x: 1 if x >= 5 else 0)  # 1 for weekend, 0 for weekday\n",
    "\n",
    "# Season feature (Spring=1, Summer=2, Autumn=3, Winter=4)\n",
    "def assign_season(month):\n",
    "    if month in [3, 4, 5]:\n",
    "        return 1  # Spring\n",
    "    elif month in [6, 7, 8]:\n",
    "        return 2  # Summer\n",
    "    elif month in [9, 10, 11]:\n",
    "        return 3  # Autumn\n",
    "    else:\n",
    "        return 4  # Winter\n",
    "\n",
    "fake_data['season'] = fake_data['stock_date'].dt.month.apply(assign_season)\n",
    "\n",
    "# Check the new time-based features\n",
    "print(fake_data[['day_of_week', 'is_weekend', 'season']].head())\n"
   ]
  },
  {
   "cell_type": "code",
   "execution_count": null,
   "metadata": {},
   "outputs": [
    {
     "name": "stdout",
     "output_type": "stream",
     "text": [
      "Index(['id', 'name', 'expiresAt', 'price', 'weight', 'packagingUnit',\n",
      "       'available', 'days_until_expiry', 'stock_date', 'days_in_stock',\n",
      "       'priority', 'price_available_interaction',\n",
      "       'priority_available_interaction', 'day_of_week', 'is_weekend',\n",
      "       'season'],\n",
      "      dtype='object')\n",
      "        id              name  expiresAt  price weight packagingUnit  \\\n",
      "0  9126483  Broccoli Florets 2024-10-14   1.51   400g           bag   \n",
      "1  8472931         Asparagus 2024-11-16  14.44   250g         bunch   \n",
      "2  5728364    Sweet Potatoes 2025-03-13  15.34    1kg           bag   \n",
      "3  2938475    Green Zucchini 2024-09-20  19.44   500g          each   \n",
      "4  6273849      White Onions 2025-01-12   9.95    1kg           bag   \n",
      "\n",
      "   available  days_until_expiry stock_date  days_in_stock priority  \\\n",
      "0        131                 36 2023-12-05            277        5   \n",
      "1         21                 69 2024-06-25             74        5   \n",
      "2         76                186 2024-04-10            150        5   \n",
      "3         29                 12 2023-09-26            347        3   \n",
      "4         51                126 2024-02-27            193        5   \n",
      "\n",
      "   price_available_interaction  priority_available_interaction  day_of_week  \\\n",
      "0                       197.81                           655.0            1   \n",
      "1                       303.24                           105.0            1   \n",
      "2                      1165.84                           380.0            2   \n",
      "3                       563.76                            87.0            1   \n",
      "4                       507.45                           255.0            1   \n",
      "\n",
      "   is_weekend  season  \n",
      "0           0       4  \n",
      "1           0       2  \n",
      "2           0       1  \n",
      "3           0       3  \n",
      "4           0       4  \n"
     ]
    }
   ],
   "source": [
    "# Check the columns after adding new features\n",
    "print(fake_data.columns)\n",
    "\n",
    "# Show a preview of the updated dataset\n",
    "print(fake_data.head())\n"
   ]
  },
  {
   "cell_type": "code",
   "execution_count": null,
   "metadata": {},
   "outputs": [],
   "source": [
    "from sklearn.model_selection import train_test_split\n",
    "\n",
    "# Define feature columns\n",
    "feature_cols = ['price', 'available', 'days_until_expiry', 'priority', 'price_available_interaction',\n",
    "                'priority_available_interaction', 'day_of_week', 'is_weekend', 'season']\n",
    "\n",
    "# Prepare the data\n",
    "X = fake_data[feature_cols]\n",
    "y = fake_data['days_until_expiry']  # Target variable\n",
    "\n",
    "# Split the data into training and test sets\n",
    "X_train, X_test, y_train, y_test = train_test_split(X, y, test_size=0.2, random_state=42)\n"
   ]
  },
  {
   "cell_type": "code",
   "execution_count": null,
   "metadata": {},
   "outputs": [
    {
     "name": "stdout",
     "output_type": "stream",
     "text": [
      "Mean Squared Error (MSE): 4.5000000000009185e-05\n",
      "R² Score: 0.9999999959172045\n"
     ]
    }
   ],
   "source": [
    "from sklearn.ensemble import RandomForestRegressor\n",
    "from sklearn.metrics import mean_squared_error, r2_score\n",
    "\n",
    "# Initialize and train the model\n",
    "model = RandomForestRegressor(n_estimators=100, random_state=42)\n",
    "model.fit(X_train, y_train)\n",
    "\n",
    "# Make predictions on the test set\n",
    "y_pred = model.predict(X_test)\n",
    "\n",
    "# Evaluate the model\n",
    "mse = mean_squared_error(y_test, y_pred)\n",
    "r2 = r2_score(y_test, y_pred)\n",
    "\n",
    "print(f\"Mean Squared Error (MSE): {mse}\")\n",
    "print(f\"R² Score: {r2}\")\n"
   ]
  },
  {
   "cell_type": "code",
   "execution_count": null,
   "metadata": {},
   "outputs": [
    {
     "name": "stdout",
     "output_type": "stream",
     "text": [
      "        id              name  expiresAt  price weight packagingUnit  \\\n",
      "0  9126483  Broccoli Florets 2024-10-14   1.51   400g           bag   \n",
      "1  8472931         Asparagus 2024-11-16  14.44   250g         bunch   \n",
      "2  5728364    Sweet Potatoes 2025-03-13  15.34    1kg           bag   \n",
      "3  2938475    Green Zucchini 2024-09-20  19.44   500g          each   \n",
      "4  6273849      White Onions 2025-01-12   9.95    1kg           bag   \n",
      "\n",
      "   available  days_until_expiry stock_date  days_in_stock priority  \\\n",
      "0        131                 36 2023-12-05            277        5   \n",
      "1         21                 69 2024-06-25             74        5   \n",
      "2         76                186 2024-04-10            150        5   \n",
      "3         29                 12 2023-09-26            347        3   \n",
      "4         51                126 2024-02-27            193        5   \n",
      "\n",
      "   price_available_interaction  priority_available_interaction  day_of_week  \\\n",
      "0                       197.81                           655.0            1   \n",
      "1                       303.24                           105.0            1   \n",
      "2                      1165.84                           380.0            2   \n",
      "3                       563.76                            87.0            1   \n",
      "4                       507.45                           255.0            1   \n",
      "\n",
      "   is_weekend  season  \n",
      "0           0       4  \n",
      "1           0       2  \n",
      "2           0       1  \n",
      "3           0       3  \n",
      "4           0       4  \n"
     ]
    }
   ],
   "source": [
    "print(fake_data.head())"
   ]
  },
  {
   "cell_type": "code",
   "execution_count": null,
   "metadata": {},
   "outputs": [
    {
     "name": "stdout",
     "output_type": "stream",
     "text": [
      "        name  price  available                  expiresAt  \\\n",
      "0      Bread   1.41        139 2025-04-23 12:36:14.234646   \n",
      "1     Cheese   5.95         66 2025-01-25 12:36:14.234646   \n",
      "2  Cucumbers  12.60         22 2024-09-11 12:36:14.234646   \n",
      "3      Bread   5.39        145 2025-06-22 12:36:14.234646   \n",
      "4  Cucumbers  19.23         59 2025-05-15 12:36:14.234646   \n",
      "\n",
      "                  stock_date  days_in_stock  days_until_expiry  \n",
      "0 2024-08-27 12:36:14.234646             11                228  \n",
      "1 2024-07-31 12:36:14.234646             38                140  \n",
      "2 2024-08-27 12:36:14.234646             11                  4  \n",
      "3 2024-07-22 12:36:14.234646             47                288  \n",
      "4 2024-08-15 12:36:14.234646             23                250  \n"
     ]
    }
   ],
   "source": [
    "import pandas as pd\n",
    "import random\n",
    "from datetime import datetime, timedelta\n",
    "\n",
    "# List of products and categories\n",
    "products = ['Tomatoes', 'Lemons', 'Cucumbers', 'Milk', 'Cheese', 'Chicken', 'Bread', 'Carrots']\n",
    "categories = ['Fruit', 'Vegetables', 'Dairy', 'Meat', 'Bakery']\n",
    "\n",
    "# Function to generate random data similar to your original dataset\n",
    "def generate_fake_data(num_rows):\n",
    "    data = []\n",
    "    for _ in range(num_rows):\n",
    "        product = random.choice(products)\n",
    "        price = round(random.uniform(0.5, 20), 2)\n",
    "        available = random.randint(1, 200)\n",
    "        expiresAt = datetime.now() + timedelta(days=random.randint(1, 365))\n",
    "        stock_date = datetime.now() - timedelta(days=random.randint(1, 60))  # random stock date\n",
    "        days_in_stock = (datetime.now() - stock_date).days\n",
    "        days_until_expiry = (expiresAt - datetime.now()).days\n",
    "        data.append([product, price, available, expiresAt, stock_date, days_in_stock, days_until_expiry])\n",
    "    return pd.DataFrame(data, columns=['name', 'price', 'available', 'expiresAt', 'stock_date', 'days_in_stock', 'days_until_expiry'])\n",
    "\n",
    "# Generate 100 rows of fake data\n",
    "new_fake_data = generate_fake_data(500)\n",
    "\n",
    "# Check the new dataset\n",
    "print(new_fake_data.head())\n"
   ]
  },
  {
   "cell_type": "code",
   "execution_count": null,
   "metadata": {},
   "outputs": [
    {
     "name": "stdout",
     "output_type": "stream",
     "text": [
      "        name  price  available                  expiresAt  \\\n",
      "0      Bread   1.41        139 2025-04-23 12:36:14.234646   \n",
      "1     Cheese   5.95         66 2025-01-25 12:36:14.234646   \n",
      "2  Cucumbers  12.60         22 2024-09-11 12:36:14.234646   \n",
      "3      Bread   5.39        145 2025-06-22 12:36:14.234646   \n",
      "4  Cucumbers  19.23         59 2025-05-15 12:36:14.234646   \n",
      "\n",
      "                  stock_date  days_in_stock  days_until_expiry priority  \\\n",
      "0 2024-08-27 12:36:14.234646             11                228        5   \n",
      "1 2024-07-31 12:36:14.234646             38                140        5   \n",
      "2 2024-08-27 12:36:14.234646             11                  4        2   \n",
      "3 2024-07-22 12:36:14.234646             47                288        5   \n",
      "4 2024-08-15 12:36:14.234646             23                250        5   \n",
      "\n",
      "   price_available_interaction  priority_available_interaction  day_of_week  \\\n",
      "0                       195.99                           695.0            1   \n",
      "1                       392.70                           330.0            2   \n",
      "2                       277.20                            44.0            1   \n",
      "3                       781.55                           725.0            0   \n",
      "4                      1134.57                           295.0            3   \n",
      "\n",
      "   is_weekend  season  \n",
      "0           0       2  \n",
      "1           0       2  \n",
      "2           0       2  \n",
      "3           0       2  \n",
      "4           0       2  \n"
     ]
    }
   ],
   "source": [
    "# Convert 'expiresAt' and 'stock_date' to datetime\n",
    "new_fake_data['expiresAt'] = pd.to_datetime(new_fake_data['expiresAt'])\n",
    "new_fake_data['stock_date'] = pd.to_datetime(new_fake_data['stock_date'])\n",
    "\n",
    "# Calculate priority based on 'days_until_expiry'\n",
    "conditions = [\n",
    "    (new_fake_data['days_until_expiry'] <= 3),\n",
    "    (new_fake_data['days_until_expiry'] > 3) & (new_fake_data['days_until_expiry'] <= 8),\n",
    "    (new_fake_data['days_until_expiry'] > 8) & (new_fake_data['days_until_expiry'] <= 14),\n",
    "    (new_fake_data['days_until_expiry'] > 14) & (new_fake_data['days_until_expiry'] <= 28),\n",
    "    (new_fake_data['days_until_expiry'] > 28)\n",
    "]\n",
    "priorities = [1, 2, 3, 4, 5]\n",
    "new_fake_data['priority'] = pd.cut(new_fake_data['days_until_expiry'], bins=[-1, 3, 8, 14, 28, float('inf')], labels=priorities)\n",
    "\n",
    "# Add interaction features\n",
    "new_fake_data['price_available_interaction'] = new_fake_data['price'] * new_fake_data['available']\n",
    "new_fake_data['priority_available_interaction'] = new_fake_data['priority'].astype(float) * new_fake_data['available']\n",
    "\n",
    "# Add time-based features\n",
    "new_fake_data['day_of_week'] = new_fake_data['stock_date'].dt.dayofweek  # Monday=0, Sunday=6\n",
    "new_fake_data['is_weekend'] = new_fake_data['day_of_week'].apply(lambda x: 1 if x >= 5 else 0)\n",
    "\n",
    "# Season feature\n",
    "def assign_season(month):\n",
    "    if month in [3, 4, 5]:\n",
    "        return 1  # Spring\n",
    "    elif month in [6, 7, 8]:\n",
    "        return 2  # Summer\n",
    "    elif month in [9, 10, 11]:\n",
    "        return 3  # Autumn\n",
    "    else:\n",
    "        return 4  # Winter\n",
    "\n",
    "new_fake_data['season'] = new_fake_data['stock_date'].dt.month.apply(assign_season)\n",
    "\n",
    "# Check the new dataset with added features\n",
    "print(new_fake_data.head())\n"
   ]
  },
  {
   "cell_type": "code",
   "execution_count": null,
   "metadata": {},
   "outputs": [
    {
     "name": "stdout",
     "output_type": "stream",
     "text": [
      "   price  available  days_until_expiry priority  price_available_interaction  \\\n",
      "0   1.41        139                228        5                       195.99   \n",
      "1   5.95         66                140        5                       392.70   \n",
      "2  12.60         22                  4        2                       277.20   \n",
      "3   5.39        145                288        5                       781.55   \n",
      "4  19.23         59                250        5                      1134.57   \n",
      "\n",
      "   priority_available_interaction  day_of_week  is_weekend  season  \n",
      "0                           695.0            1           0       2  \n",
      "1                           330.0            2           0       2  \n",
      "2                            44.0            1           0       2  \n",
      "3                           725.0            0           0       2  \n",
      "4                           295.0            3           0       2  \n"
     ]
    }
   ],
   "source": [
    "# Define feature columns to match the training dataset\n",
    "feature_cols = ['price', 'available', 'days_until_expiry', 'priority', 'price_available_interaction',\n",
    "                'priority_available_interaction', 'day_of_week', 'is_weekend', 'season']\n",
    "\n",
    "# Prepare the data (X_new is the input data for the model)\n",
    "X_new = new_fake_data[feature_cols]\n",
    "\n",
    "# Check the prepared data\n",
    "print(X_new.head())\n"
   ]
  },
  {
   "cell_type": "code",
   "execution_count": null,
   "metadata": {},
   "outputs": [
    {
     "name": "stdout",
     "output_type": "stream",
     "text": [
      "        name  days_until_expiry  predicted_days_until_expiry\n",
      "0      Bread                228                        228.0\n",
      "1     Cheese                140                        140.0\n",
      "2  Cucumbers                  4                          4.0\n",
      "3      Bread                288                        288.0\n",
      "4  Cucumbers                250                        250.0\n"
     ]
    }
   ],
   "source": [
    "# Predict days_until_expiry for the new dataset\n",
    "y_pred_new = model.predict(X_new)\n",
    "\n",
    "# Add predictions to the new_fake_data dataframe\n",
    "new_fake_data['predicted_days_until_expiry'] = y_pred_new\n",
    "\n",
    "# Check the predictions\n",
    "print(new_fake_data[['name', 'days_until_expiry', 'predicted_days_until_expiry']].head())\n"
   ]
  },
  {
   "cell_type": "code",
   "execution_count": null,
   "metadata": {},
   "outputs": [
    {
     "name": "stdout",
     "output_type": "stream",
     "text": [
      "Mean Squared Error on new data: 0.004049600000000011\n",
      "R² Score on new data: 0.9999996685895669\n"
     ]
    }
   ],
   "source": [
    "from sklearn.metrics import mean_squared_error, r2_score\n",
    "\n",
    "# Evaluate the model on the new data\n",
    "mse_new = mean_squared_error(new_fake_data['days_until_expiry'], new_fake_data['predicted_days_until_expiry'])\n",
    "r2_new = r2_score(new_fake_data['days_until_expiry'], new_fake_data['predicted_days_until_expiry'])\n",
    "\n",
    "print(f\"Mean Squared Error on new data: {mse_new}\")\n",
    "print(f\"R² Score on new data: {r2_new}\")\n"
   ]
  },
  {
   "cell_type": "code",
   "execution_count": null,
   "metadata": {},
   "outputs": [
    {
     "name": "stdout",
     "output_type": "stream",
     "text": [
      "               name category storage_condition\n",
      "0  Broccoli Florets      NaN               NaN\n",
      "1         Asparagus      NaN               NaN\n",
      "2    Sweet Potatoes      NaN               NaN\n",
      "3    Green Zucchini      NaN               NaN\n",
      "4      White Onions      NaN               NaN\n"
     ]
    }
   ],
   "source": [
    "# Assuming the API data includes product categories and storage info\n",
    "# Map product categories (e.g., wet/dry, storage conditions)\n",
    "\n",
    "# Example categories (Modify based on API data)\n",
    "category_mapping = {\n",
    "    'Tomatoes': 'wet',\n",
    "    'Rice': 'dry',\n",
    "    'Frozen Chicken': 'frozen',\n",
    "    'Canned Beans': 'canned'\n",
    "}\n",
    "\n",
    "# Example storage condition (refrigerated, frozen, shelf)\n",
    "storage_mapping = {\n",
    "    'Tomatoes': 'refrigerated',\n",
    "    'Rice': 'shelf',\n",
    "    'Frozen Chicken': 'frozen',\n",
    "    'Canned Beans': 'shelf'\n",
    "}\n",
    "\n",
    "# Add these features to your dataset\n",
    "fake_data['category'] = fake_data['name'].map(category_mapping)\n",
    "fake_data['storage_condition'] = fake_data['name'].map(storage_mapping)\n",
    "\n",
    "# Check updated dataset\n",
    "print(fake_data[['name', 'category', 'storage_condition']].head())\n"
   ]
  },
  {
   "cell_type": "code",
   "execution_count": null,
   "metadata": {},
   "outputs": [
    {
     "name": "stdout",
     "output_type": "stream",
     "text": [
      "               name sub_category\n",
      "0  Broccoli Florets   vegetables\n",
      "1         Asparagus   vegetables\n",
      "2    Sweet Potatoes   vegetables\n",
      "3    Green Zucchini   vegetables\n",
      "4      White Onions   vegetables\n"
     ]
    }
   ],
   "source": [
    "# Define sub-categories based on common keywords in product names\n",
    "def assign_sub_category(product_name):\n",
    "    if any(word in product_name.lower() for word in ['tomato', 'onion', 'broccoli', 'zucchini', 'carrot', 'potato', 'vegetable', 'asparagus']):\n",
    "        return 'vegetables'\n",
    "    elif any(word in product_name.lower() for word in ['milk', 'juice', 'oil', 'water']):\n",
    "        return 'liquid'\n",
    "    elif any(word in product_name.lower() for word in ['chicken', 'beef', 'pork', 'fish', 'meat','fillet']):\n",
    "        return 'meat'\n",
    "    else:\n",
    "        return 'dry'\n",
    "\n",
    "# Assign sub-categories\n",
    "fake_data['sub_category'] = fake_data['name'].apply(assign_sub_category)\n",
    "\n",
    "# Check the new sub_category column\n",
    "print(fake_data[['name', 'sub_category']].head())\n"
   ]
  },
  {
   "cell_type": "code",
   "execution_count": null,
   "metadata": {},
   "outputs": [
    {
     "name": "stdout",
     "output_type": "stream",
     "text": [
      "               name sub_category category\n",
      "0  Broccoli Florets   vegetables      wet\n",
      "1         Asparagus   vegetables      wet\n",
      "2    Sweet Potatoes   vegetables      wet\n",
      "3    Green Zucchini   vegetables      wet\n",
      "4      White Onions   vegetables      wet\n"
     ]
    }
   ],
   "source": [
    "# Define the category (wet/dry) based on sub-category\n",
    "def assign_category(sub_category):\n",
    "    if sub_category in ['vegetables', 'liquid', 'meat']:\n",
    "        return 'wet'\n",
    "    else:\n",
    "        return 'dry'\n",
    "\n",
    "# Assign category based on sub-category\n",
    "fake_data['category'] = fake_data['sub_category'].apply(assign_category)\n",
    "\n",
    "# Check the result\n",
    "print(fake_data[['name', 'sub_category', 'category']].head())\n"
   ]
  },
  {
   "cell_type": "code",
   "execution_count": null,
   "metadata": {},
   "outputs": [
    {
     "name": "stdout",
     "output_type": "stream",
     "text": [
      "               name category  category_encoded\n",
      "0  Broccoli Florets      wet                 1\n",
      "1         Asparagus      wet                 1\n",
      "2    Sweet Potatoes      wet                 1\n",
      "3    Green Zucchini      wet                 1\n",
      "4      White Onions      wet                 1\n"
     ]
    }
   ],
   "source": [
    "# Convert category (wet/dry) to numeric for the model\n",
    "fake_data['category_encoded'] = fake_data['category'].apply(lambda x: 1 if x == 'wet' else 0)\n",
    "\n",
    "# Check the result\n",
    "print(fake_data[['name', 'category', 'category_encoded']].head())\n"
   ]
  },
  {
   "cell_type": "code",
   "execution_count": null,
   "metadata": {},
   "outputs": [
    {
     "name": "stdout",
     "output_type": "stream",
     "text": [
      "Mean Squared Error (MSE): 2.6125000000005595e-05\n",
      "R² Score: 0.9999999976297104\n"
     ]
    }
   ],
   "source": [
    "# Include the new features in the feature set\n",
    "feature_cols = ['price', 'available', 'days_until_expiry', 'priority', 'category_encoded', \n",
    "                'price_available_interaction', 'priority_available_interaction', \n",
    "                'day_of_week', 'is_weekend', 'season']\n",
    "\n",
    "# Prepare the data\n",
    "X = fake_data[feature_cols]\n",
    "y = fake_data['days_until_expiry']  # Target variable\n",
    "\n",
    "# Split the data into training and test sets\n",
    "X_train, X_test, y_train, y_test = train_test_split(X, y, test_size=0.2, random_state=42)\n",
    "\n",
    "# Train the model\n",
    "model = RandomForestRegressor(n_estimators=100, random_state=42)\n",
    "model.fit(X_train, y_train)\n",
    "\n",
    "# Evaluate the model\n",
    "y_pred = model.predict(X_test)\n",
    "mse = mean_squared_error(y_test, y_pred)\n",
    "r2 = r2_score(y_test, y_pred)\n",
    "\n",
    "print(f\"Mean Squared Error (MSE): {mse}\")\n",
    "print(f\"R² Score: {r2}\")\n"
   ]
  },
  {
   "cell_type": "code",
   "execution_count": null,
   "metadata": {},
   "outputs": [
    {
     "name": "stdout",
     "output_type": "stream",
     "text": [
      "        id              name  expiresAt  price weight packagingUnit  \\\n",
      "0  9126483  Broccoli Florets 2024-10-14   1.51   400g           bag   \n",
      "1  8472931         Asparagus 2024-11-16  14.44   250g         bunch   \n",
      "2  5728364    Sweet Potatoes 2025-03-13  15.34    1kg           bag   \n",
      "3  2938475    Green Zucchini 2024-09-20  19.44   500g          each   \n",
      "4  6273849      White Onions 2025-01-12   9.95    1kg           bag   \n",
      "\n",
      "   available  days_until_expiry stock_date  days_in_stock priority  \\\n",
      "0        131                 36 2023-12-05            277        5   \n",
      "1         21                 69 2024-06-25             74        5   \n",
      "2         76                186 2024-04-10            150        5   \n",
      "3         29                 12 2023-09-26            347        3   \n",
      "4         51                126 2024-02-27            193        5   \n",
      "\n",
      "   price_available_interaction  priority_available_interaction  day_of_week  \\\n",
      "0                       197.81                           655.0            1   \n",
      "1                       303.24                           105.0            1   \n",
      "2                      1165.84                           380.0            2   \n",
      "3                       563.76                            87.0            1   \n",
      "4                       507.45                           255.0            1   \n",
      "\n",
      "   is_weekend  season category storage_condition sub_category  \\\n",
      "0           0       4      wet               NaN   vegetables   \n",
      "1           0       2      wet               NaN   vegetables   \n",
      "2           0       1      wet               NaN   vegetables   \n",
      "3           0       3      wet               NaN   vegetables   \n",
      "4           0       4      wet               NaN   vegetables   \n",
      "\n",
      "   category_encoded  \n",
      "0                 1  \n",
      "1                 1  \n",
      "2                 1  \n",
      "3                 1  \n",
      "4                 1  \n"
     ]
    }
   ],
   "source": [
    "# Check the result\n",
    "print(fake_data.head())"
   ]
  },
  {
   "cell_type": "code",
   "execution_count": null,
   "metadata": {},
   "outputs": [
    {
     "data": {
      "text/plain": [
       "['expiry_prediction_model.pkl']"
      ]
     },
     "execution_count": 43,
     "metadata": {},
     "output_type": "execute_result"
    }
   ],
   "source": [
    "import joblib\n",
    "\n",
    "# Save the trained model to a file\n",
    "joblib.dump(model, 'expiry_prediction_model.pkl')\n"
   ]
  },
  {
   "cell_type": "code",
   "execution_count": null,
   "metadata": {},
   "outputs": [
    {
     "name": "stdout",
     "output_type": "stream",
     "text": [
      "                          Feature    Importance\n",
      "2               days_until_expiry  9.999915e-01\n",
      "3                        priority  8.522777e-06\n",
      "0                           price  7.382084e-09\n",
      "7                     day_of_week  1.703838e-09\n",
      "5     price_available_interaction  1.347819e-09\n",
      "1                       available  1.097780e-09\n",
      "6  priority_available_interaction  6.888453e-10\n",
      "9                          season  6.393113e-10\n",
      "4                category_encoded  0.000000e+00\n",
      "8                      is_weekend  0.000000e+00\n"
     ]
    }
   ],
   "source": [
    "import matplotlib.pyplot as plt\n",
    "import pandas as pd\n",
    "\n",
    "# After training the model, access feature importance\n",
    "feature_importances = model.feature_importances_\n",
    "\n",
    "# Create a DataFrame to show feature names and their importance\n",
    "features_df = pd.DataFrame({\n",
    "    'Feature': feature_cols,\n",
    "    'Importance': feature_importances\n",
    "})\n",
    "\n",
    "# Sort the features by importance\n",
    "features_df = features_df.sort_values(by='Importance', ascending=False)\n",
    "\n",
    "# Display the feature importance\n",
    "print(features_df)\n"
   ]
  },
  {
   "cell_type": "code",
   "execution_count": null,
   "metadata": {},
   "outputs": [
    {
     "data": {
      "image/png": "[encoded data removed]",
      "text/plain": [
       "<Figure size 1000x600 with 1 Axes>"
      ]
     },
     "metadata": {},
     "output_type": "display_data"
    }
   ],
   "source": [
    "# Plot the feature importance\n",
    "plt.figure(figsize=(10, 6))\n",
    "plt.barh(features_df['Feature'], features_df['Importance'], color='royalblue')\n",
    "plt.xlabel('Importance')\n",
    "plt.title('Feature Importance in the Model')\n",
    "plt.gca().invert_yaxis()  # To have the most important at the top\n",
    "plt.show()\n"
   ]
  },
  {
   "cell_type": "code",
   "execution_count": null,
   "metadata": {},
   "outputs": [],
   "source": [
    "fake_data.to_json('updated_fake_data.json', orient='records', lines=True)\n"
   ]
  },
  {
   "cell_type": "code",
   "execution_count": null,
   "metadata": {},
   "outputs": [],
   "source": [
    "# Define the new feature set excluding the less important features\n",
    "feature_cols = ['price', 'available', 'days_until_expiry', 'priority', \n",
    "                'category_encoded', 'is_weekend', 'season']\n",
    "\n",
    "# Prepare the data\n",
    "X = fake_data[feature_cols]\n",
    "y = fake_data['days_until_expiry']\n",
    "\n",
    "# Split the data into training and testing sets (80% train, 20% test)\n",
    "from sklearn.model_selection import train_test_split\n",
    "X_train, X_test, y_train, y_test = train_test_split(X, y, test_size=0.2, random_state=42)\n"
   ]
  },
  {
   "cell_type": "code",
   "execution_count": null,
   "metadata": {},
   "outputs": [
    {
     "name": "stdout",
     "output_type": "stream",
     "text": [
      "Mean Squared Error (MSE): 3.312500000000023e-05\n",
      "R² Score: 0.9999999969946088\n"
     ]
    }
   ],
   "source": [
    "from sklearn.ensemble import RandomForestRegressor\n",
    "from sklearn.metrics import mean_squared_error, r2_score\n",
    "\n",
    "# Initialize and train the Random Forest Regressor with the new feature set\n",
    "model = RandomForestRegressor(n_estimators=100, random_state=42)\n",
    "model.fit(X_train, y_train)\n",
    "\n",
    "# Make predictions using the test set\n",
    "y_pred = model.predict(X_test)\n",
    "\n",
    "# Evaluate the performance of the model\n",
    "mse = mean_squared_error(y_test, y_pred)\n",
    "r2 = r2_score(y_test, y_pred)\n",
    "\n",
    "print(f\"Mean Squared Error (MSE): {mse}\")\n",
    "print(f\"R² Score: {r2}\")\n"
   ]
  },
  {
   "cell_type": "code",
   "execution_count": null,
   "metadata": {},
   "outputs": [
    {
     "name": "stdout",
     "output_type": "stream",
     "text": [
      "             Feature    Importance\n",
      "2  days_until_expiry  9.999917e-01\n",
      "3           priority  8.247675e-06\n",
      "0              price  8.402032e-09\n",
      "6             season  9.000411e-10\n",
      "1          available  7.711312e-10\n",
      "4   category_encoded  0.000000e+00\n",
      "5         is_weekend  0.000000e+00\n"
     ]
    }
   ],
   "source": [
    "import matplotlib.pyplot as plt\n",
    "import pandas as pd\n",
    "\n",
    "# After training the model, access feature importance\n",
    "feature_importances = model.feature_importances_\n",
    "\n",
    "# Create a DataFrame to show feature names and their importance\n",
    "features_df = pd.DataFrame({\n",
    "    'Feature': feature_cols,\n",
    "    'Importance': feature_importances\n",
    "})\n",
    "\n",
    "# Sort the features by importance\n",
    "features_df = features_df.sort_values(by='Importance', ascending=False)\n",
    "\n",
    "# Display the feature importance\n",
    "print(features_df)"
   ]
  },
  {
   "cell_type": "code",
   "execution_count": null,
   "metadata": {},
   "outputs": [],
   "source": [
    "# Create interaction features for category_encoded and is_weekend\n",
    "fake_data['category_price_interaction'] = fake_data['category_encoded'] * fake_data['price']\n",
    "fake_data['category_available_interaction'] = fake_data['category_encoded'] * fake_data['available']\n",
    "fake_data['weekend_price_interaction'] = fake_data['is_weekend'] * fake_data['price']\n",
    "fake_data['weekend_available_interaction'] = fake_data['is_weekend'] * fake_data['available']\n",
    "\n",
    "# Add these interaction features to the feature set\n",
    "feature_cols = ['price', 'available', 'days_until_expiry', 'priority', \n",
    "                'category_encoded', 'is_weekend', 'category_price_interaction', \n",
    "                'category_available_interaction', 'weekend_price_interaction',\n",
    "                'weekend_available_interaction', 'season']\n"
   ]
  },
  {
   "cell_type": "code",
   "execution_count": null,
   "metadata": {},
   "outputs": [],
   "source": [
    "from sklearn.model_selection import train_test_split\n",
    "\n",
    "# Prepare the data\n",
    "X = fake_data[feature_cols]\n",
    "y = fake_data['days_until_expiry']\n",
    "\n",
    "# Split the data into training and testing sets (80% train, 20% test)\n",
    "X_train, X_test, y_train, y_test = train_test_split(X, y, test_size=0.2, random_state=42)\n"
   ]
  },
  {
   "cell_type": "code",
   "execution_count": null,
   "metadata": {},
   "outputs": [
    {
     "name": "stdout",
     "output_type": "stream",
     "text": [
      "Mean Squared Error (MSE): 3.756249999999758e-05\n",
      "R² Score: 0.9999999965919999\n"
     ]
    }
   ],
   "source": [
    "from sklearn.ensemble import RandomForestRegressor\n",
    "from sklearn.metrics import mean_squared_error, r2_score\n",
    "\n",
    "# Initialize and train the Random Forest Regressor with interaction features\n",
    "model = RandomForestRegressor(n_estimators=100, random_state=42)\n",
    "model.fit(X_train, y_train)\n",
    "\n",
    "# Make predictions using the test set\n",
    "y_pred = model.predict(X_test)\n",
    "\n",
    "# Evaluate the model performance\n",
    "mse = mean_squared_error(y_test, y_pred)\n",
    "r2 = r2_score(y_test, y_pred)\n",
    "\n",
    "print(f\"Mean Squared Error (MSE): {mse}\")\n",
    "print(f\"R² Score: {r2}\")\n"
   ]
  },
  {
   "cell_type": "code",
   "execution_count": null,
   "metadata": {},
   "outputs": [
    {
     "name": "stdout",
     "output_type": "stream",
     "text": [
      "                           Feature    Importance\n",
      "2                days_until_expiry  9.999928e-01\n",
      "3                         priority  7.149786e-06\n",
      "0                            price  8.359132e-09\n",
      "7   category_available_interaction  1.549000e-09\n",
      "6       category_price_interaction  1.034882e-09\n",
      "8        weekend_price_interaction  6.107048e-10\n",
      "9    weekend_available_interaction  4.249366e-10\n",
      "10                          season  2.452413e-10\n",
      "1                        available  0.000000e+00\n",
      "5                       is_weekend  0.000000e+00\n",
      "4                 category_encoded  0.000000e+00\n"
     ]
    }
   ],
   "source": [
    "import matplotlib.pyplot as plt\n",
    "import pandas as pd\n",
    "\n",
    "# After training the model, access feature importance\n",
    "feature_importances = model.feature_importances_\n",
    "\n",
    "# Create a DataFrame to show feature names and their importance\n",
    "features_df = pd.DataFrame({\n",
    "    'Feature': feature_cols,\n",
    "    'Importance': feature_importances\n",
    "})\n",
    "\n",
    "# Sort the features by importance\n",
    "features_df = features_df.sort_values(by='Importance', ascending=False)\n",
    "\n",
    "# Display the feature importance\n",
    "print(features_df)"
   ]
  },
  {
   "cell_type": "code",
   "execution_count": null,
   "metadata": {},
   "outputs": [
    {
     "data": {
      "image/png": "[encoded data removed]",
      "text/plain": [
       "<Figure size 800x600 with 1 Axes>"
      ]
     },
     "metadata": {},
     "output_type": "display_data"
    }
   ],
   "source": [
    "import seaborn as sns\n",
    "import matplotlib.pyplot as plt\n",
    "\n",
    "# Boxplot to see the relationship between category and days_until_expiry\n",
    "plt.figure(figsize=(8, 6))\n",
    "sns.boxplot(x=fake_data['category_encoded'], y=fake_data['days_until_expiry'])\n",
    "plt.title(\"Category vs Days Until Expiry\")\n",
    "plt.show()\n"
   ]
  },
  {
   "cell_type": "code",
   "execution_count": null,
   "metadata": {},
   "outputs": [
    {
     "name": "stdout",
     "output_type": "stream",
     "text": [
      "category_encoded\n",
      "1    5599\n",
      "0    2401\n",
      "Name: count, dtype: int64\n",
      "is_weekend\n",
      "0    5706\n",
      "1    2294\n",
      "Name: count, dtype: int64\n"
     ]
    }
   ],
   "source": [
    "# Check category_encoded distribution\n",
    "print(fake_data['category_encoded'].value_counts())\n",
    "\n",
    "# Check is_weekend distribution\n",
    "print(fake_data['is_weekend'].value_counts())\n"
   ]
  },
  {
   "cell_type": "code",
   "execution_count": null,
   "metadata": {},
   "outputs": [],
   "source": [
    "# Assign different shelf life for wet (1) and dry (0) categories\n",
    "fake_data['shelf_life'] = fake_data['category_encoded'].apply(lambda x: 30 if x == 1 else 90)\n",
    "\n",
    "# Adjust days until expiry based on category shelf life\n",
    "fake_data['adjusted_days_until_expiry'] = fake_data['days_until_expiry'] / fake_data['shelf_life']\n"
   ]
  },
  {
   "cell_type": "code",
   "execution_count": null,
   "metadata": {},
   "outputs": [],
   "source": [
    "# Interaction between season and category_encoded\n",
    "fake_data['season_category_interaction'] = fake_data['season'] * fake_data['category_encoded']\n"
   ]
  },
  {
   "cell_type": "code",
   "execution_count": null,
   "metadata": {},
   "outputs": [
    {
     "name": "stdout",
     "output_type": "stream",
     "text": [
      "Mean Squared Error (MSE): 3.756249999999758e-05\n",
      "R² Score: 0.9999999965919999\n"
     ]
    }
   ],
   "source": [
    "# Define the updated feature set with new interactions\n",
    "feature_cols = ['price', 'available', 'days_until_expiry', 'priority', \n",
    "                'category_encoded', 'is_weekend', 'category_price_interaction', \n",
    "                'category_available_interaction', 'weekend_price_interaction',\n",
    "                'weekend_available_interaction', 'season', 'adjusted_days_until_expiry', 'season_category_interaction']\n",
    "\n",
    "# Prepare the data\n",
    "X = fake_data[feature_cols]\n",
    "y = fake_data['days_until_expiry']\n",
    "\n",
    "# Train the model and evaluate as before\n",
    "from sklearn.ensemble import RandomForestRegressor\n",
    "from sklearn.metrics import mean_squared_error, r2_score\n",
    "\n",
    "model = RandomForestRegressor(n_estimators=100, random_state=42)\n",
    "model.fit(X_train, y_train)\n",
    "\n",
    "# Predict and evaluate\n",
    "y_pred = model.predict(X_test)\n",
    "mse = mean_squared_error(y_test, y_pred)\n",
    "r2 = r2_score(y_test, y_pred)\n",
    "\n",
    "print(f\"Mean Squared Error (MSE): {mse}\")\n",
    "print(f\"R² Score: {r2}\")\n"
   ]
  }
 ],
 "metadata": {
  "language_info": {
   "codemirror_mode": {
    "name": "ipython",
    "version": 3
   },
   "file_extension": ".py",
   "mimetype": "text/x-python",
   "name": "python",
   "nbconvert_exporter": "python",
   "pygments_lexer": "ipython3",
   "version": 3
  }
 },
 "nbformat": 4,
 "nbformat_minor": 2
}
